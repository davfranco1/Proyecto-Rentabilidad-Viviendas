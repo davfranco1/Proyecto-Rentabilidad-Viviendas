{
 "cells": [
  {
   "cell_type": "markdown",
   "metadata": {},
   "source": [
    "# Notebook #1: Extracción y Transformación\n",
    "\n",
    "- En este notebook realizaremos extraeremos datos haciendo uso de APIs, para las sigueintes fuentes de información:\n",
    "1. API Geoapify: datos geográficos de una ciudad.\n",
    "2. API Idealista: datos de viviendas en venta y alquiler.\n",
    "\n",
    "- Usando este mismo notebook, se realizará la limpieza/transformación de los datos, que se cargarán posteriormente en a una base de datos. Todas las funciones aquí utilizadas encuentran su soporte en `../src/soporte_ETL.py`\n",
    "\n",
    "- Dado que los datos se modifican cada vez que se ejecuta una función de consulta, las mismas están comentadas. Para ejecutarlas, debe eliminarse la #, con la consecuencia de que, los datos de origen serán sustituidos.\n",
    "\n",
    "- El primer paso será importar las librerías necesarias:"
   ]
  },
  {
   "cell_type": "code",
   "execution_count": 2,
   "metadata": {},
   "outputs": [],
   "source": [
    "# Librerías para tratamiento de datos\n",
    "\n",
    "import pandas as pd\n",
    "import geopandas as gpd\n",
    "pd.set_option('display.max_columns', None) # Parámetro que modifica la visualización de los DFs\n",
    "import numpy as np\n",
    "import re\n",
    "from shapely.geometry import MultiPolygon, Polygon\n",
    "\n",
    "# Librería para el acceso a variables y funciones\n",
    "import sys\n",
    "sys.path.append(\"../\")\n",
    "from src import soporte_ETL as setl #Archivo .py con funciones\n",
    "#from src import soporte_variables as sv\n",
    "\n",
    "# Librería para acceder a funcionalidades del sistema operativo\n",
    "import os\n",
    "\n",
    "# Librerías para trabajar con distintos formatos de archivos\n",
    "import pickle\n",
    "import json\n",
    "\n",
    "# Librería para ignorar avisos\n",
    "import warnings\n",
    "warnings.filterwarnings(\"ignore\") # Ignora TODOS los avisos"
   ]
  },
  {
   "cell_type": "markdown",
   "metadata": {},
   "source": [
    "- Por medio de la API de Geoapify, se extrae la información geográfica de las divisiones administrativas de Zaragoza, en este caso, los distritos.\n",
    "- Una vez extraída, se guarda en un archivo json."
   ]
  },
  {
   "cell_type": "code",
   "execution_count": null,
   "metadata": {},
   "outputs": [],
   "source": [
    "response_distritos = setl.geoconsulta_distritos(\"516ca3dd0b861fedbf594631421e8bd84440f00101f9018c46050000000000c002069203085a617261676f7a61\")\n",
    "#with open(\"../data/raw/distritos_zaragoza.json\", \"w\") as f:\n",
    "#    json.dump(response_distritos, f, indent=4)"
   ]
  },
  {
   "cell_type": "markdown",
   "metadata": {},
   "source": [
    "- Carga del json genrado:"
   ]
  },
  {
   "cell_type": "code",
   "execution_count": 3,
   "metadata": {},
   "outputs": [],
   "source": [
    "with open(\"../data/raw/distritos_zaragoza.json\", \"r\") as f:\n",
    "    response_distritos = json.load(f)"
   ]
  },
  {
   "cell_type": "markdown",
   "metadata": {},
   "source": [
    "## Creación del DF Distritos\n",
    "\n",
    "- Crearemos ahora el JSON en un GeoDataFrame con los datos geográficos de cada uno de los 16 distritos, que convertiremos a geografía de polígono.\n",
    "- Como paso final, guardamos el archivo."
   ]
  },
  {
   "cell_type": "code",
   "execution_count": 4,
   "metadata": {},
   "outputs": [],
   "source": [
    "data_distritos = []\n",
    "for distrito in response_distritos[\"features\"]:\n",
    "    district_name = distrito[\"properties\"].get(\"district\", \"Desconocido\")\n",
    "    coordinates = distrito[\"geometry\"].get(\"coordinates\", [])\n",
    "    \n",
    "    # Convertir coordenadas a MultiPolygon\n",
    "    if distrito[\"geometry\"][\"type\"] == \"MultiPolygon\":\n",
    "        geometry = MultiPolygon([Polygon(polygon[0]) for polygon in coordinates])\n",
    "    elif distrito[\"geometry\"][\"type\"] == \"Polygon\":\n",
    "        geometry = MultiPolygon([Polygon(coordinates[0])])\n",
    "    else:\n",
    "        geometry = None\n",
    "    \n",
    "    data_distritos.append({\"distrito\": district_name, \"geometry\": geometry})\n",
    "\n",
    "gdf_distritos = gpd.GeoDataFrame(data_distritos, geometry=\"geometry\", crs=\"EPSG:4326\")\n",
    "\n",
    "#gdf_distritos.to_file(\"../data/transformed/gdf_distritos.geojson\", driver=\"GeoJSON\")"
   ]
  },
  {
   "cell_type": "markdown",
   "metadata": {},
   "source": [
    "- Comprobamos la apariencia del nuevo GDF y los tipos de datos."
   ]
  },
  {
   "cell_type": "code",
   "execution_count": 6,
   "metadata": {},
   "outputs": [
    {
     "data": {
      "text/html": [
       "<div>\n",
       "<style scoped>\n",
       "    .dataframe tbody tr th:only-of-type {\n",
       "        vertical-align: middle;\n",
       "    }\n",
       "\n",
       "    .dataframe tbody tr th {\n",
       "        vertical-align: top;\n",
       "    }\n",
       "\n",
       "    .dataframe thead th {\n",
       "        text-align: right;\n",
       "    }\n",
       "</style>\n",
       "<table border=\"1\" class=\"dataframe\">\n",
       "  <thead>\n",
       "    <tr style=\"text-align: right;\">\n",
       "      <th></th>\n",
       "      <th>distrito</th>\n",
       "      <th>geometry</th>\n",
       "    </tr>\n",
       "  </thead>\n",
       "  <tbody>\n",
       "    <tr>\n",
       "      <th>0</th>\n",
       "      <td>Distrito Rural</td>\n",
       "      <td>MULTIPOLYGON (((-0.9212 41.50517, -0.91835 41....</td>\n",
       "    </tr>\n",
       "    <tr>\n",
       "      <th>1</th>\n",
       "      <td>Sur</td>\n",
       "      <td>MULTIPOLYGON (((-1.06057 41.61549, -1.05914 41...</td>\n",
       "    </tr>\n",
       "    <tr>\n",
       "      <th>2</th>\n",
       "      <td>Miralbueno</td>\n",
       "      <td>MULTIPOLYGON (((-0.98545 41.65679, -0.98502 41...</td>\n",
       "    </tr>\n",
       "    <tr>\n",
       "      <th>3</th>\n",
       "      <td>Santa Isabel</td>\n",
       "      <td>MULTIPOLYGON (((-0.8438 41.67621, -0.84371 41....</td>\n",
       "    </tr>\n",
       "    <tr>\n",
       "      <th>4</th>\n",
       "      <td>El Rabal</td>\n",
       "      <td>MULTIPOLYGON (((-0.88153 41.65838, -0.87771 41...</td>\n",
       "    </tr>\n",
       "  </tbody>\n",
       "</table>\n",
       "</div>"
      ],
      "text/plain": [
       "         distrito                                           geometry\n",
       "0  Distrito Rural  MULTIPOLYGON (((-0.9212 41.50517, -0.91835 41....\n",
       "1             Sur  MULTIPOLYGON (((-1.06057 41.61549, -1.05914 41...\n",
       "2      Miralbueno  MULTIPOLYGON (((-0.98545 41.65679, -0.98502 41...\n",
       "3    Santa Isabel  MULTIPOLYGON (((-0.8438 41.67621, -0.84371 41....\n",
       "4        El Rabal  MULTIPOLYGON (((-0.88153 41.65838, -0.87771 41..."
      ]
     },
     "execution_count": 6,
     "metadata": {},
     "output_type": "execute_result"
    }
   ],
   "source": [
    "gdf_distritos.head(5)"
   ]
  },
  {
   "cell_type": "code",
   "execution_count": 7,
   "metadata": {},
   "outputs": [
    {
     "data": {
      "text/plain": [
       "distrito      object\n",
       "geometry    geometry\n",
       "dtype: object"
      ]
     },
     "execution_count": 7,
     "metadata": {},
     "output_type": "execute_result"
    }
   ],
   "source": [
    "gdf_distritos.dtypes"
   ]
  },
  {
   "cell_type": "markdown",
   "metadata": {},
   "source": [
    "## API Idealista"
   ]
  },
  {
   "cell_type": "markdown",
   "metadata": {},
   "source": [
    "- Obtendremos datos de viviendas en alquiler a través de una API de idealista.\n",
    "- De la consulta, que realizamos con la función `sf.consulta_idealista()`, obtendremos una lista correspondiente a cada página de respuesta.\n",
    "- La función recibe como argumentos el tipo de operación, el código y el nombre de la ciudad que deseamos consultar y el número de páginas deseado, devolviendo 40 resultados por página. La lista de resultados la almacenaremos en un archivo de tipo `json`.\n",
    "- Dadas las limitaciones de la función cada iteración tarda unos 10 segundos."
   ]
  },
  {
   "cell_type": "code",
   "execution_count": null,
   "metadata": {},
   "outputs": [],
   "source": [
    "resultados_idealista = setl.consulta_idealista(\"sale\", \"0-EU-ES-28-07-001-079\", \"Zaragoza\", 10)"
   ]
  },
  {
   "cell_type": "code",
   "execution_count": null,
   "metadata": {},
   "outputs": [],
   "source": [
    "#with open(\"../datos/origen/idealista.json\", \"w\") as json_file:\n",
    "#    json.dump(resultados_idealista, json_file, indent=4)"
   ]
  },
  {
   "cell_type": "markdown",
   "metadata": {},
   "source": [
    "- Ahora importaremos el resultado de la consulta, comprobaremos que la longitud de la lista sea correcta y le aplicaremos la función `dataframe_idealista()`, que recibe como argumento el archivo json con los resultados y devuelve un dataframe con los datos transformados."
   ]
  },
  {
   "cell_type": "code",
   "execution_count": 5,
   "metadata": {},
   "outputs": [],
   "source": [
    "with open(\"../datos/origen/idealista.json\", 'r') as file:\n",
    "    resultados_idealista = json.load(file)"
   ]
  },
  {
   "cell_type": "code",
   "execution_count": 15,
   "metadata": {},
   "outputs": [
    {
     "data": {
      "text/plain": [
       "10"
      ]
     },
     "execution_count": 15,
     "metadata": {},
     "output_type": "execute_result"
    }
   ],
   "source": [
    "len(resultados_idealista)"
   ]
  },
  {
   "cell_type": "code",
   "execution_count": 6,
   "metadata": {},
   "outputs": [],
   "source": [
    "df_idealista = sf.dataframe_idealista(resultados_idealista)"
   ]
  },
  {
   "cell_type": "code",
   "execution_count": 10,
   "metadata": {},
   "outputs": [
    {
     "data": {
      "text/plain": [
       "count     400.000000\n",
       "mean     2151.742500\n",
       "std      1434.066231\n",
       "min       700.000000\n",
       "25%      1250.000000\n",
       "50%      1600.000000\n",
       "75%      2500.000000\n",
       "max      9500.000000\n",
       "Name: Precio, dtype: float64"
      ]
     },
     "execution_count": 10,
     "metadata": {},
     "output_type": "execute_result"
    }
   ],
   "source": [
    "df_idealista[\"Precio\"].describe()"
   ]
  },
  {
   "cell_type": "code",
   "execution_count": 12,
   "metadata": {},
   "outputs": [
    {
     "data": {
      "text/plain": [
       "(400, 10)"
      ]
     },
     "execution_count": 12,
     "metadata": {},
     "output_type": "execute_result"
    }
   ],
   "source": [
    "df_idealista.shape"
   ]
  },
  {
   "cell_type": "markdown",
   "metadata": {},
   "source": [
    "- En una exploración inicial de los datos, hemos identificado una serie de anuncios con un precio que se aleja mucho de la media.\n",
    "- El método IQR (Interquartile Range) es una técnica estadística utilizada para identificar y gestionar outliers (valores atípicos) en un conjunto de datos. El rango intercuartílico (IQR) es la diferencia entre el tercer cuartil (Q3) y el primer cuartil (Q1) de un conjunto de datos ordenados. IQR = Q3 - Q1. Este rango mide la dispersión de la mitad central de los datos, evitando así la influencia de los valores extremos. Los valores que caen fuera de estos límites se consideran outliers.\n",
    "- En nuestro caso, utilizando la función `sf.identificar_outliers()`, que recibe como parámetros el DF y la columna que deseamos revisar, y devuelve un DF con los outliers, los identificaremos (según el describe anterior) y eliminaremos de los datos."
   ]
  },
  {
   "cell_type": "code",
   "execution_count": 8,
   "metadata": {},
   "outputs": [
    {
     "data": {
      "text/html": [
       "<div>\n",
       "<style scoped>\n",
       "    .dataframe tbody tr th:only-of-type {\n",
       "        vertical-align: middle;\n",
       "    }\n",
       "\n",
       "    .dataframe tbody tr th {\n",
       "        vertical-align: top;\n",
       "    }\n",
       "\n",
       "    .dataframe thead th {\n",
       "        text-align: right;\n",
       "    }\n",
       "</style>\n",
       "<table border=\"1\" class=\"dataframe\">\n",
       "  <thead>\n",
       "    <tr style=\"text-align: right;\">\n",
       "      <th></th>\n",
       "      <th>Latitud</th>\n",
       "      <th>Longitud</th>\n",
       "      <th>Precio</th>\n",
       "      <th>Tipo</th>\n",
       "      <th>Planta</th>\n",
       "      <th>Tamanio</th>\n",
       "      <th>Habitaciones</th>\n",
       "      <th>Banios</th>\n",
       "      <th>Direccion</th>\n",
       "      <th>Descripcion</th>\n",
       "    </tr>\n",
       "  </thead>\n",
       "  <tbody>\n",
       "    <tr>\n",
       "      <th>7</th>\n",
       "      <td>40.436160</td>\n",
       "      <td>-3.693369</td>\n",
       "      <td>5900.0</td>\n",
       "      <td>departamento</td>\n",
       "      <td>2</td>\n",
       "      <td>130.0</td>\n",
       "      <td>3</td>\n",
       "      <td>3</td>\n",
       "      <td>Calle De Zurbano, 61</td>\n",
       "      <td>¡Descubre Este Reformado Y Lujoso Apartamento ...</td>\n",
       "    </tr>\n",
       "    <tr>\n",
       "      <th>9</th>\n",
       "      <td>40.415596</td>\n",
       "      <td>-3.708451</td>\n",
       "      <td>4800.0</td>\n",
       "      <td>departamento</td>\n",
       "      <td>2</td>\n",
       "      <td>154.0</td>\n",
       "      <td>2</td>\n",
       "      <td>2</td>\n",
       "      <td>Calle De La Lechuga</td>\n",
       "      <td>S C A L A  |  Properties Presenta Esta Viviend...</td>\n",
       "    </tr>\n",
       "    <tr>\n",
       "      <th>19</th>\n",
       "      <td>40.457106</td>\n",
       "      <td>-3.683056</td>\n",
       "      <td>8000.0</td>\n",
       "      <td>departamento</td>\n",
       "      <td>None</td>\n",
       "      <td>287.0</td>\n",
       "      <td>5</td>\n",
       "      <td>4</td>\n",
       "      <td>Paseo De La Habana</td>\n",
       "      <td>Fantástico Y Amplio Piso Con Terraza Y Piscina...</td>\n",
       "    </tr>\n",
       "    <tr>\n",
       "      <th>23</th>\n",
       "      <td>40.418827</td>\n",
       "      <td>-3.699927</td>\n",
       "      <td>4500.0</td>\n",
       "      <td>departamento</td>\n",
       "      <td>1</td>\n",
       "      <td>133.0</td>\n",
       "      <td>2</td>\n",
       "      <td>2</td>\n",
       "      <td>Calle De La Virgen De Los Peligros, 9</td>\n",
       "      <td>Esta Vivienda A Estrenar Destaca Por Su Calida...</td>\n",
       "    </tr>\n",
       "    <tr>\n",
       "      <th>47</th>\n",
       "      <td>40.448310</td>\n",
       "      <td>-3.669911</td>\n",
       "      <td>4700.0</td>\n",
       "      <td>departamento</td>\n",
       "      <td>6</td>\n",
       "      <td>170.0</td>\n",
       "      <td>3</td>\n",
       "      <td>3</td>\n",
       "      <td>Calle De López De Hoyos</td>\n",
       "      <td>Crownston Presenta Este Elegantísimo Ático Dúp...</td>\n",
       "    </tr>\n",
       "    <tr>\n",
       "      <th>49</th>\n",
       "      <td>40.456418</td>\n",
       "      <td>-3.631459</td>\n",
       "      <td>4500.0</td>\n",
       "      <td>chalet</td>\n",
       "      <td>None</td>\n",
       "      <td>324.0</td>\n",
       "      <td>5</td>\n",
       "      <td>5</td>\n",
       "      <td>Barrio Conde Orgaz-Piovera</td>\n",
       "      <td>Quartiers Expertos Inmobiliarios. Agents Immob...</td>\n",
       "    </tr>\n",
       "    <tr>\n",
       "      <th>51</th>\n",
       "      <td>40.448954</td>\n",
       "      <td>-3.669955</td>\n",
       "      <td>5000.0</td>\n",
       "      <td>chalet</td>\n",
       "      <td>None</td>\n",
       "      <td>180.0</td>\n",
       "      <td>3</td>\n",
       "      <td>2</td>\n",
       "      <td>Barrio Ciudad Jardín</td>\n",
       "      <td>Chalet Reformado De Lujo En Ciudad Jardín Magn...</td>\n",
       "    </tr>\n",
       "    <tr>\n",
       "      <th>61</th>\n",
       "      <td>40.410255</td>\n",
       "      <td>-3.676674</td>\n",
       "      <td>5500.0</td>\n",
       "      <td>departamento</td>\n",
       "      <td>5</td>\n",
       "      <td>238.0</td>\n",
       "      <td>4</td>\n",
       "      <td>4</td>\n",
       "      <td>Barrio Niño Jesús</td>\n",
       "      <td>Luminoso Piso Remodelado Con Vistas Al Retiro ...</td>\n",
       "    </tr>\n",
       "    <tr>\n",
       "      <th>77</th>\n",
       "      <td>40.472115</td>\n",
       "      <td>-3.780787</td>\n",
       "      <td>9500.0</td>\n",
       "      <td>chalet</td>\n",
       "      <td>None</td>\n",
       "      <td>1000.0</td>\n",
       "      <td>6</td>\n",
       "      <td>7</td>\n",
       "      <td>Calle Loma De Los Bailanderos</td>\n",
       "      <td>Evernest Presenta Esta Maravillosa Propiedad U...</td>\n",
       "    </tr>\n",
       "    <tr>\n",
       "      <th>81</th>\n",
       "      <td>40.436833</td>\n",
       "      <td>-3.685469</td>\n",
       "      <td>4900.0</td>\n",
       "      <td>ático</td>\n",
       "      <td>8</td>\n",
       "      <td>170.0</td>\n",
       "      <td>2</td>\n",
       "      <td>2</td>\n",
       "      <td>Lagasca</td>\n",
       "      <td>Diplomatic Real Estate Alquila Espectacular Át...</td>\n",
       "    </tr>\n",
       "    <tr>\n",
       "      <th>91</th>\n",
       "      <td>40.431212</td>\n",
       "      <td>-3.721704</td>\n",
       "      <td>4500.0</td>\n",
       "      <td>departamento</td>\n",
       "      <td>6</td>\n",
       "      <td>224.0</td>\n",
       "      <td>4</td>\n",
       "      <td>3</td>\n",
       "      <td>Paseo Del Pintor Rosales</td>\n",
       "      <td>Diplomatic Real Estate Ofrece Piso Señorial En...</td>\n",
       "    </tr>\n",
       "    <tr>\n",
       "      <th>97</th>\n",
       "      <td>40.422360</td>\n",
       "      <td>-3.684071</td>\n",
       "      <td>5000.0</td>\n",
       "      <td>departamento</td>\n",
       "      <td>None</td>\n",
       "      <td>144.0</td>\n",
       "      <td>3</td>\n",
       "      <td>3</td>\n",
       "      <td>Barrio Recoletos</td>\n",
       "      <td>Piso Obra Nueva En Calle Núñez De Balboa En Al...</td>\n",
       "    </tr>\n",
       "    <tr>\n",
       "      <th>101</th>\n",
       "      <td>40.423883</td>\n",
       "      <td>-3.698689</td>\n",
       "      <td>4995.0</td>\n",
       "      <td>departamento</td>\n",
       "      <td>1</td>\n",
       "      <td>159.0</td>\n",
       "      <td>3</td>\n",
       "      <td>3</td>\n",
       "      <td>Calle De La Libertad</td>\n",
       "      <td>Disponible Para Entradas Inmediatas **Precio V...</td>\n",
       "    </tr>\n",
       "    <tr>\n",
       "      <th>109</th>\n",
       "      <td>40.454636</td>\n",
       "      <td>-3.682110</td>\n",
       "      <td>7000.0</td>\n",
       "      <td>departamento</td>\n",
       "      <td>3</td>\n",
       "      <td>306.0</td>\n",
       "      <td>5</td>\n",
       "      <td>4</td>\n",
       "      <td>Paseo De La Habana</td>\n",
       "      <td>S C A L A  |  Properties Presenta Vivienda En ...</td>\n",
       "    </tr>\n",
       "    <tr>\n",
       "      <th>129</th>\n",
       "      <td>40.424348</td>\n",
       "      <td>-3.688319</td>\n",
       "      <td>9000.0</td>\n",
       "      <td>departamento</td>\n",
       "      <td>5</td>\n",
       "      <td>314.0</td>\n",
       "      <td>4</td>\n",
       "      <td>3</td>\n",
       "      <td>Calle De Goya</td>\n",
       "      <td>Piso Exterior Con Terraza En Recoletos. En El ...</td>\n",
       "    </tr>\n",
       "    <tr>\n",
       "      <th>133</th>\n",
       "      <td>40.425621</td>\n",
       "      <td>-3.681345</td>\n",
       "      <td>4850.0</td>\n",
       "      <td>ático</td>\n",
       "      <td>6</td>\n",
       "      <td>166.0</td>\n",
       "      <td>3</td>\n",
       "      <td>3</td>\n",
       "      <td>Calle De Núñez De Balboa</td>\n",
       "      <td>Este Ático De 166 M², Recientemente Reformado,...</td>\n",
       "    </tr>\n",
       "    <tr>\n",
       "      <th>135</th>\n",
       "      <td>40.451899</td>\n",
       "      <td>-3.644068</td>\n",
       "      <td>8500.0</td>\n",
       "      <td>chalet</td>\n",
       "      <td>None</td>\n",
       "      <td>969.0</td>\n",
       "      <td>6</td>\n",
       "      <td>6</td>\n",
       "      <td>Barrio Conde Orgaz-Piovera</td>\n",
       "      <td>Quartiers Expertos Inmobiliarios. Agents Immob...</td>\n",
       "    </tr>\n",
       "    <tr>\n",
       "      <th>171</th>\n",
       "      <td>40.421506</td>\n",
       "      <td>-3.683817</td>\n",
       "      <td>6000.0</td>\n",
       "      <td>departamento</td>\n",
       "      <td>7</td>\n",
       "      <td>240.0</td>\n",
       "      <td>4</td>\n",
       "      <td>3</td>\n",
       "      <td>Calle De Alcalá, 97</td>\n",
       "      <td>Para Más Viviendas Como Esta, Visita Nuestra P...</td>\n",
       "    </tr>\n",
       "    <tr>\n",
       "      <th>177</th>\n",
       "      <td>40.421814</td>\n",
       "      <td>-3.693191</td>\n",
       "      <td>6995.0</td>\n",
       "      <td>departamento</td>\n",
       "      <td>4</td>\n",
       "      <td>237.0</td>\n",
       "      <td>3</td>\n",
       "      <td>3</td>\n",
       "      <td>Calle Del Marqués Del Duero</td>\n",
       "      <td>Disponible Para Entradas Inmediatas ** Precio ...</td>\n",
       "    </tr>\n",
       "    <tr>\n",
       "      <th>201</th>\n",
       "      <td>40.455726</td>\n",
       "      <td>-3.629026</td>\n",
       "      <td>4500.0</td>\n",
       "      <td>chalet</td>\n",
       "      <td>None</td>\n",
       "      <td>330.0</td>\n",
       "      <td>5</td>\n",
       "      <td>5</td>\n",
       "      <td>Barrio Conde Orgaz-Piovera</td>\n",
       "      <td>Colomba Boutique Inmobiliaria Alquila Chalet P...</td>\n",
       "    </tr>\n",
       "    <tr>\n",
       "      <th>203</th>\n",
       "      <td>40.430653</td>\n",
       "      <td>-3.685580</td>\n",
       "      <td>4500.0</td>\n",
       "      <td>departamento</td>\n",
       "      <td>2</td>\n",
       "      <td>90.0</td>\n",
       "      <td>2</td>\n",
       "      <td>3</td>\n",
       "      <td>Calle De José Ortega Y Gasset, 17</td>\n",
       "      <td>Nik Inversión Y Gestión, Les Ofrece En Alquile...</td>\n",
       "    </tr>\n",
       "    <tr>\n",
       "      <th>222</th>\n",
       "      <td>40.431825</td>\n",
       "      <td>-3.692679</td>\n",
       "      <td>4900.0</td>\n",
       "      <td>departamento</td>\n",
       "      <td>7</td>\n",
       "      <td>180.0</td>\n",
       "      <td>3</td>\n",
       "      <td>4</td>\n",
       "      <td>Calle De Rafael Calvo</td>\n",
       "      <td>Magnífico Piso Exterior De Tres Dormitorios, C...</td>\n",
       "    </tr>\n",
       "    <tr>\n",
       "      <th>226</th>\n",
       "      <td>40.423553</td>\n",
       "      <td>-3.685361</td>\n",
       "      <td>7200.0</td>\n",
       "      <td>departamento</td>\n",
       "      <td>None</td>\n",
       "      <td>148.0</td>\n",
       "      <td>3</td>\n",
       "      <td>2</td>\n",
       "      <td>Calle De Lagasca, 30</td>\n",
       "      <td>Domus Aurea Capital Presenta Este Fantástico A...</td>\n",
       "    </tr>\n",
       "    <tr>\n",
       "      <th>253</th>\n",
       "      <td>40.455615</td>\n",
       "      <td>-3.645907</td>\n",
       "      <td>5000.0</td>\n",
       "      <td>departamento</td>\n",
       "      <td>2</td>\n",
       "      <td>359.0</td>\n",
       "      <td>5</td>\n",
       "      <td>5</td>\n",
       "      <td>Barrio Conde Orgaz-Piovera</td>\n",
       "      <td>No Amueblado - Cocina Equipada -  El Piso Esta...</td>\n",
       "    </tr>\n",
       "    <tr>\n",
       "      <th>283</th>\n",
       "      <td>40.424946</td>\n",
       "      <td>-3.678476</td>\n",
       "      <td>5695.0</td>\n",
       "      <td>departamento</td>\n",
       "      <td>1</td>\n",
       "      <td>139.0</td>\n",
       "      <td>3</td>\n",
       "      <td>3</td>\n",
       "      <td>Calle De Jorge Juan</td>\n",
       "      <td>Disponible Para Entradas Inmediatas ** Precio ...</td>\n",
       "    </tr>\n",
       "    <tr>\n",
       "      <th>285</th>\n",
       "      <td>40.430163</td>\n",
       "      <td>-3.684711</td>\n",
       "      <td>7700.0</td>\n",
       "      <td>departamento</td>\n",
       "      <td>1</td>\n",
       "      <td>253.0</td>\n",
       "      <td>4</td>\n",
       "      <td>4</td>\n",
       "      <td>Calle De Don Ramón De La Cruz</td>\n",
       "      <td>Teresa Elias Ofrece En Exclusiva Magnifico Pis...</td>\n",
       "    </tr>\n",
       "    <tr>\n",
       "      <th>287</th>\n",
       "      <td>40.454344</td>\n",
       "      <td>-3.696067</td>\n",
       "      <td>5000.0</td>\n",
       "      <td>departamento</td>\n",
       "      <td>3</td>\n",
       "      <td>190.0</td>\n",
       "      <td>4</td>\n",
       "      <td>4</td>\n",
       "      <td>Calle De Orense</td>\n",
       "      <td>Teresa Elias Ofrece En Exclusiva Increible Pis...</td>\n",
       "    </tr>\n",
       "    <tr>\n",
       "      <th>289</th>\n",
       "      <td>40.456865</td>\n",
       "      <td>-3.681556</td>\n",
       "      <td>8000.0</td>\n",
       "      <td>departamento</td>\n",
       "      <td>1</td>\n",
       "      <td>290.0</td>\n",
       "      <td>5</td>\n",
       "      <td>4</td>\n",
       "      <td>Paseo De La Habana</td>\n",
       "      <td>None</td>\n",
       "    </tr>\n",
       "    <tr>\n",
       "      <th>310</th>\n",
       "      <td>40.425909</td>\n",
       "      <td>-3.682865</td>\n",
       "      <td>8000.0</td>\n",
       "      <td>departamento</td>\n",
       "      <td>en</td>\n",
       "      <td>305.0</td>\n",
       "      <td>5</td>\n",
       "      <td>4</td>\n",
       "      <td>Calle De Ayala</td>\n",
       "      <td>Ref. Md-2030 Embassy Properties Presenta Este ...</td>\n",
       "    </tr>\n",
       "    <tr>\n",
       "      <th>313</th>\n",
       "      <td>40.452577</td>\n",
       "      <td>-3.690114</td>\n",
       "      <td>5700.0</td>\n",
       "      <td>departamento</td>\n",
       "      <td>7</td>\n",
       "      <td>295.0</td>\n",
       "      <td>4</td>\n",
       "      <td>3</td>\n",
       "      <td>Barrio El Viso</td>\n",
       "      <td>La Inmobiliaria Internacional Cpm Gestiona Est...</td>\n",
       "    </tr>\n",
       "    <tr>\n",
       "      <th>361</th>\n",
       "      <td>40.425892</td>\n",
       "      <td>-3.686630</td>\n",
       "      <td>4500.0</td>\n",
       "      <td>departamento</td>\n",
       "      <td>1</td>\n",
       "      <td>133.0</td>\n",
       "      <td>3</td>\n",
       "      <td>4</td>\n",
       "      <td>Calle De Jorge Juan</td>\n",
       "      <td>El Edificio De Carácter Clásico, Cuenta Con Po...</td>\n",
       "    </tr>\n",
       "    <tr>\n",
       "      <th>365</th>\n",
       "      <td>40.472110</td>\n",
       "      <td>-3.689448</td>\n",
       "      <td>7000.0</td>\n",
       "      <td>departamento</td>\n",
       "      <td>1</td>\n",
       "      <td>245.0</td>\n",
       "      <td>5</td>\n",
       "      <td>3</td>\n",
       "      <td>Paseo De La Castellana</td>\n",
       "      <td>Perfecto Para Estudiantes Del Ie O Trabajadore...</td>\n",
       "    </tr>\n",
       "  </tbody>\n",
       "</table>\n",
       "</div>"
      ],
      "text/plain": [
       "       Latitud  Longitud  Precio          Tipo Planta  Tamanio  Habitaciones  \\\n",
       "7    40.436160 -3.693369  5900.0  departamento      2    130.0             3   \n",
       "9    40.415596 -3.708451  4800.0  departamento      2    154.0             2   \n",
       "19   40.457106 -3.683056  8000.0  departamento   None    287.0             5   \n",
       "23   40.418827 -3.699927  4500.0  departamento      1    133.0             2   \n",
       "47   40.448310 -3.669911  4700.0  departamento      6    170.0             3   \n",
       "49   40.456418 -3.631459  4500.0        chalet   None    324.0             5   \n",
       "51   40.448954 -3.669955  5000.0        chalet   None    180.0             3   \n",
       "61   40.410255 -3.676674  5500.0  departamento      5    238.0             4   \n",
       "77   40.472115 -3.780787  9500.0        chalet   None   1000.0             6   \n",
       "81   40.436833 -3.685469  4900.0         ático      8    170.0             2   \n",
       "91   40.431212 -3.721704  4500.0  departamento      6    224.0             4   \n",
       "97   40.422360 -3.684071  5000.0  departamento   None    144.0             3   \n",
       "101  40.423883 -3.698689  4995.0  departamento      1    159.0             3   \n",
       "109  40.454636 -3.682110  7000.0  departamento      3    306.0             5   \n",
       "129  40.424348 -3.688319  9000.0  departamento      5    314.0             4   \n",
       "133  40.425621 -3.681345  4850.0         ático      6    166.0             3   \n",
       "135  40.451899 -3.644068  8500.0        chalet   None    969.0             6   \n",
       "171  40.421506 -3.683817  6000.0  departamento      7    240.0             4   \n",
       "177  40.421814 -3.693191  6995.0  departamento      4    237.0             3   \n",
       "201  40.455726 -3.629026  4500.0        chalet   None    330.0             5   \n",
       "203  40.430653 -3.685580  4500.0  departamento      2     90.0             2   \n",
       "222  40.431825 -3.692679  4900.0  departamento      7    180.0             3   \n",
       "226  40.423553 -3.685361  7200.0  departamento   None    148.0             3   \n",
       "253  40.455615 -3.645907  5000.0  departamento      2    359.0             5   \n",
       "283  40.424946 -3.678476  5695.0  departamento      1    139.0             3   \n",
       "285  40.430163 -3.684711  7700.0  departamento      1    253.0             4   \n",
       "287  40.454344 -3.696067  5000.0  departamento      3    190.0             4   \n",
       "289  40.456865 -3.681556  8000.0  departamento      1    290.0             5   \n",
       "310  40.425909 -3.682865  8000.0  departamento     en    305.0             5   \n",
       "313  40.452577 -3.690114  5700.0  departamento      7    295.0             4   \n",
       "361  40.425892 -3.686630  4500.0  departamento      1    133.0             3   \n",
       "365  40.472110 -3.689448  7000.0  departamento      1    245.0             5   \n",
       "\n",
       "     Banios                              Direccion  \\\n",
       "7         3                   Calle De Zurbano, 61   \n",
       "9         2                    Calle De La Lechuga   \n",
       "19        4                     Paseo De La Habana   \n",
       "23        2  Calle De La Virgen De Los Peligros, 9   \n",
       "47        3                Calle De López De Hoyos   \n",
       "49        5             Barrio Conde Orgaz-Piovera   \n",
       "51        2                   Barrio Ciudad Jardín   \n",
       "61        4                      Barrio Niño Jesús   \n",
       "77        7          Calle Loma De Los Bailanderos   \n",
       "81        2                                Lagasca   \n",
       "91        3               Paseo Del Pintor Rosales   \n",
       "97        3                       Barrio Recoletos   \n",
       "101       3                   Calle De La Libertad   \n",
       "109       4                     Paseo De La Habana   \n",
       "129       3                          Calle De Goya   \n",
       "133       3               Calle De Núñez De Balboa   \n",
       "135       6             Barrio Conde Orgaz-Piovera   \n",
       "171       3                    Calle De Alcalá, 97   \n",
       "177       3            Calle Del Marqués Del Duero   \n",
       "201       5             Barrio Conde Orgaz-Piovera   \n",
       "203       3      Calle De José Ortega Y Gasset, 17   \n",
       "222       4                  Calle De Rafael Calvo   \n",
       "226       2                   Calle De Lagasca, 30   \n",
       "253       5             Barrio Conde Orgaz-Piovera   \n",
       "283       3                    Calle De Jorge Juan   \n",
       "285       4          Calle De Don Ramón De La Cruz   \n",
       "287       4                        Calle De Orense   \n",
       "289       4                     Paseo De La Habana   \n",
       "310       4                         Calle De Ayala   \n",
       "313       3                         Barrio El Viso   \n",
       "361       4                    Calle De Jorge Juan   \n",
       "365       3                 Paseo De La Castellana   \n",
       "\n",
       "                                           Descripcion  \n",
       "7    ¡Descubre Este Reformado Y Lujoso Apartamento ...  \n",
       "9    S C A L A  |  Properties Presenta Esta Viviend...  \n",
       "19   Fantástico Y Amplio Piso Con Terraza Y Piscina...  \n",
       "23   Esta Vivienda A Estrenar Destaca Por Su Calida...  \n",
       "47   Crownston Presenta Este Elegantísimo Ático Dúp...  \n",
       "49   Quartiers Expertos Inmobiliarios. Agents Immob...  \n",
       "51   Chalet Reformado De Lujo En Ciudad Jardín Magn...  \n",
       "61   Luminoso Piso Remodelado Con Vistas Al Retiro ...  \n",
       "77   Evernest Presenta Esta Maravillosa Propiedad U...  \n",
       "81   Diplomatic Real Estate Alquila Espectacular Át...  \n",
       "91   Diplomatic Real Estate Ofrece Piso Señorial En...  \n",
       "97   Piso Obra Nueva En Calle Núñez De Balboa En Al...  \n",
       "101  Disponible Para Entradas Inmediatas **Precio V...  \n",
       "109  S C A L A  |  Properties Presenta Vivienda En ...  \n",
       "129  Piso Exterior Con Terraza En Recoletos. En El ...  \n",
       "133  Este Ático De 166 M², Recientemente Reformado,...  \n",
       "135  Quartiers Expertos Inmobiliarios. Agents Immob...  \n",
       "171  Para Más Viviendas Como Esta, Visita Nuestra P...  \n",
       "177  Disponible Para Entradas Inmediatas ** Precio ...  \n",
       "201  Colomba Boutique Inmobiliaria Alquila Chalet P...  \n",
       "203  Nik Inversión Y Gestión, Les Ofrece En Alquile...  \n",
       "222  Magnífico Piso Exterior De Tres Dormitorios, C...  \n",
       "226  Domus Aurea Capital Presenta Este Fantástico A...  \n",
       "253  No Amueblado - Cocina Equipada -  El Piso Esta...  \n",
       "283  Disponible Para Entradas Inmediatas ** Precio ...  \n",
       "285  Teresa Elias Ofrece En Exclusiva Magnifico Pis...  \n",
       "287  Teresa Elias Ofrece En Exclusiva Increible Pis...  \n",
       "289                                               None  \n",
       "310  Ref. Md-2030 Embassy Properties Presenta Este ...  \n",
       "313  La Inmobiliaria Internacional Cpm Gestiona Est...  \n",
       "361  El Edificio De Carácter Clásico, Cuenta Con Po...  \n",
       "365  Perfecto Para Estudiantes Del Ie O Trabajadore...  "
      ]
     },
     "execution_count": 8,
     "metadata": {},
     "output_type": "execute_result"
    }
   ],
   "source": [
    "sf.identificar_outliers(df_idealista,\"Precio\")"
   ]
  },
  {
   "cell_type": "markdown",
   "metadata": {},
   "source": [
    "- En este caso, eliminaremos 32 entradas. Calculamos nuestros límites inferiores y superiores y aplicamos el filtro."
   ]
  },
  {
   "cell_type": "code",
   "execution_count": 15,
   "metadata": {},
   "outputs": [
    {
     "name": "stdout",
     "output_type": "stream",
     "text": [
      "-625.0\n",
      "4375.0\n"
     ]
    }
   ],
   "source": [
    "Q1 = df_idealista[\"Precio\"].quantile(0.25)\n",
    "Q3 = df_idealista[\"Precio\"].quantile(0.75)\n",
    "IQR = Q3 - Q1\n",
    "\n",
    "lower_bound = Q1 - 1.5 * IQR\n",
    "upper_bound = Q3 + 1.5 * IQR\n",
    "print(lower_bound)\n",
    "print(upper_bound)"
   ]
  },
  {
   "cell_type": "code",
   "execution_count": 18,
   "metadata": {},
   "outputs": [],
   "source": [
    "df_idealista = df_idealista[(df_idealista['Precio'] <= upper_bound)]"
   ]
  },
  {
   "cell_type": "markdown",
   "metadata": {},
   "source": [
    "- Eliminamos tildes en los nombres de las columnas y usamos nuevamente nuestra función de traducción sobre la columna \"Tipo\", obteniendo como resultado el DF que se imprime, que contiene información de 367 viviendas."
   ]
  },
  {
   "cell_type": "code",
   "execution_count": 7,
   "metadata": {},
   "outputs": [],
   "source": [
    "df_idealista[\"Tipo\"] = df_idealista[\"Tipo\"].apply(sf.traducir_es)\n",
    "df_idealista[\"Direccion\"] = df_idealista[\"Direccion\"].str.title()\n",
    "df_idealista[\"Descripcion\"] = df_idealista[\"Descripcion\"].str.title()"
   ]
  },
  {
   "cell_type": "code",
   "execution_count": 19,
   "metadata": {},
   "outputs": [
    {
     "data": {
      "text/plain": [
       "(368, 10)"
      ]
     },
     "execution_count": 19,
     "metadata": {},
     "output_type": "execute_result"
    }
   ],
   "source": [
    "df_idealista.shape"
   ]
  },
  {
   "cell_type": "code",
   "execution_count": null,
   "metadata": {},
   "outputs": [
    {
     "data": {
      "text/html": [
       "<div>\n",
       "<style scoped>\n",
       "    .dataframe tbody tr th:only-of-type {\n",
       "        vertical-align: middle;\n",
       "    }\n",
       "\n",
       "    .dataframe tbody tr th {\n",
       "        vertical-align: top;\n",
       "    }\n",
       "\n",
       "    .dataframe thead th {\n",
       "        text-align: right;\n",
       "    }\n",
       "</style>\n",
       "<table border=\"1\" class=\"dataframe\">\n",
       "  <thead>\n",
       "    <tr style=\"text-align: right;\">\n",
       "      <th></th>\n",
       "      <th>Latitud</th>\n",
       "      <th>Longitud</th>\n",
       "      <th>Precio</th>\n",
       "      <th>Tipo</th>\n",
       "      <th>Planta</th>\n",
       "      <th>Tamaño</th>\n",
       "      <th>Habitaciones</th>\n",
       "      <th>Baños</th>\n",
       "      <th>Dirección</th>\n",
       "      <th>Descripción</th>\n",
       "    </tr>\n",
       "  </thead>\n",
       "  <tbody>\n",
       "    <tr>\n",
       "      <th>0</th>\n",
       "      <td>40.432201</td>\n",
       "      <td>-3.714278</td>\n",
       "      <td>1350.0</td>\n",
       "      <td>departamento</td>\n",
       "      <td>1</td>\n",
       "      <td>73.0</td>\n",
       "      <td>2</td>\n",
       "      <td>1</td>\n",
       "      <td>Calle De Andres Mellado, 18</td>\n",
       "      <td>Piso Con Una Habitación Con Cama De Matrimonio...</td>\n",
       "    </tr>\n",
       "    <tr>\n",
       "      <th>1</th>\n",
       "      <td>40.414669</td>\n",
       "      <td>-3.705414</td>\n",
       "      <td>2300.0</td>\n",
       "      <td>departamento</td>\n",
       "      <td>5</td>\n",
       "      <td>95.0</td>\n",
       "      <td>2</td>\n",
       "      <td>2</td>\n",
       "      <td>Calle Del Marqués Viudo De Pontejos</td>\n",
       "      <td>S C A L A  |  Properties Presenta Ático Amuebl...</td>\n",
       "    </tr>\n",
       "  </tbody>\n",
       "</table>\n",
       "</div>"
      ],
      "text/plain": [
       "     Latitud  Longitud  Precio          Tipo Planta  Tamaño  Habitaciones  \\\n",
       "0  40.432201 -3.714278  1350.0  departamento      1    73.0             2   \n",
       "1  40.414669 -3.705414  2300.0  departamento      5    95.0             2   \n",
       "\n",
       "   Baños                            Dirección  \\\n",
       "0      1          Calle De Andres Mellado, 18   \n",
       "1      2  Calle Del Marqués Viudo De Pontejos   \n",
       "\n",
       "                                         Descripción  \n",
       "0  Piso Con Una Habitación Con Cama De Matrimonio...  \n",
       "1  S C A L A  |  Properties Presenta Ático Amuebl...  "
      ]
     },
     "execution_count": 51,
     "metadata": {},
     "output_type": "execute_result"
    }
   ],
   "source": [
    "df_idealista.head(2)"
   ]
  },
  {
   "cell_type": "markdown",
   "metadata": {},
   "source": [
    "- Cuando un valor se repite muchas veces, como puede ser el caso del tipo de vivienda, para crear nuestra base de datos, lo correcto sería obtener una nueva tabla con identificadores únicos para cada tipo de vivienda, así, normalizamos los datos, eliminando redundancias. Por una limitación de tiempo, no se hará en este proyecto."
   ]
  },
  {
   "cell_type": "code",
   "execution_count": 20,
   "metadata": {},
   "outputs": [
    {
     "data": {
      "text/plain": [
       "Tipo\n",
       "departamento    296\n",
       "estudio          37\n",
       "ático            23\n",
       "dúplex           11\n",
       "chalet            1\n",
       "Name: count, dtype: int64"
      ]
     },
     "execution_count": 20,
     "metadata": {},
     "output_type": "execute_result"
    }
   ],
   "source": [
    "df_idealista[\"Tipo\"].value_counts()"
   ]
  },
  {
   "cell_type": "markdown",
   "metadata": {},
   "source": [
    "- Para poder asignar las coordenadas de cada vivienda a un distrito, transformamos la latitud y la longitud de entrada a un geopunto, y uniremos el nuevo GDF con nuestro GDF de distritos. Asignamos el tipo de CRS y guardamos en un archivo de tipo `geojson`."
   ]
  },
  {
   "cell_type": "code",
   "execution_count": null,
   "metadata": {},
   "outputs": [],
   "source": [
    "gdf_idealista = gpd.GeoDataFrame(df_idealista, geometry=gpd.points_from_xy(df_idealista.Longitud, df_idealista.Latitud))\n",
    "gdf_idealista.crs = \"EPSG:4326\"\n",
    "#gdf_idealista.to_file('../datos/origen/idealista.geojson', driver='GeoJSON')"
   ]
  },
  {
   "cell_type": "code",
   "execution_count": null,
   "metadata": {},
   "outputs": [],
   "source": [
    "gdf_sjoin2 = gpd.sjoin(gdf_idealista, gdf_distritos, how=\"inner\", predicate=\"within\")\n",
    "gdf_sjoin2 = gdf_sjoin2.drop(columns=\"index_right\")"
   ]
  },
  {
   "cell_type": "markdown",
   "metadata": {},
   "source": [
    "- Realizamos algunas tareas más de limpieza, asignación de tipos de datos y guardamos el resultado final en un archivo `geojson`."
   ]
  },
  {
   "cell_type": "code",
   "execution_count": 23,
   "metadata": {},
   "outputs": [],
   "source": [
    "gdf_sjoin2_final = gdf_sjoin2[['ID_Distrito', 'Precio', 'Tipo', 'Planta', 'Tamanio',\n",
    "       'Habitaciones', 'Banios', 'Direccion', 'Descripcion', 'geometry']]\n",
    "gdf_sjoin2_final[\"Tamanio\"] = gdf_sjoin2_final[\"Tamanio\"].astype(int)"
   ]
  },
  {
   "cell_type": "code",
   "execution_count": 24,
   "metadata": {},
   "outputs": [
    {
     "data": {
      "text/html": [
       "<div>\n",
       "<style scoped>\n",
       "    .dataframe tbody tr th:only-of-type {\n",
       "        vertical-align: middle;\n",
       "    }\n",
       "\n",
       "    .dataframe tbody tr th {\n",
       "        vertical-align: top;\n",
       "    }\n",
       "\n",
       "    .dataframe thead th {\n",
       "        text-align: right;\n",
       "    }\n",
       "</style>\n",
       "<table border=\"1\" class=\"dataframe\">\n",
       "  <thead>\n",
       "    <tr style=\"text-align: right;\">\n",
       "      <th></th>\n",
       "      <th>ID_Distrito</th>\n",
       "      <th>Precio</th>\n",
       "      <th>Tipo</th>\n",
       "      <th>Planta</th>\n",
       "      <th>Tamanio</th>\n",
       "      <th>Habitaciones</th>\n",
       "      <th>Banios</th>\n",
       "      <th>Direccion</th>\n",
       "      <th>Descripcion</th>\n",
       "      <th>geometry</th>\n",
       "    </tr>\n",
       "  </thead>\n",
       "  <tbody>\n",
       "    <tr>\n",
       "      <th>236</th>\n",
       "      <td>9</td>\n",
       "      <td>1600.0</td>\n",
       "      <td>departamento</td>\n",
       "      <td>1</td>\n",
       "      <td>50</td>\n",
       "      <td>1</td>\n",
       "      <td>1</td>\n",
       "      <td>Plaza De Alcira, 15</td>\n",
       "      <td>Disponible En: Noviembre.  Reserve En Línea Ha...</td>\n",
       "      <td>POINT (-3.71428 40.46385)</td>\n",
       "    </tr>\n",
       "    <tr>\n",
       "      <th>113</th>\n",
       "      <td>9</td>\n",
       "      <td>2500.0</td>\n",
       "      <td>departamento</td>\n",
       "      <td>bj</td>\n",
       "      <td>142</td>\n",
       "      <td>3</td>\n",
       "      <td>2</td>\n",
       "      <td>Avenida Del Talgo</td>\n",
       "      <td>¡Descubre Tu Nuevo Hogar En Madrid! Este Impre...</td>\n",
       "      <td>POINT (-3.77726 40.44813)</td>\n",
       "    </tr>\n",
       "  </tbody>\n",
       "</table>\n",
       "</div>"
      ],
      "text/plain": [
       "     ID_Distrito  Precio          Tipo Planta  Tamanio  Habitaciones  Banios  \\\n",
       "236            9  1600.0  departamento      1       50             1       1   \n",
       "113            9  2500.0  departamento     bj      142             3       2   \n",
       "\n",
       "               Direccion                                        Descripcion  \\\n",
       "236  Plaza De Alcira, 15  Disponible En: Noviembre.  Reserve En Línea Ha...   \n",
       "113    Avenida Del Talgo  ¡Descubre Tu Nuevo Hogar En Madrid! Este Impre...   \n",
       "\n",
       "                      geometry  \n",
       "236  POINT (-3.71428 40.46385)  \n",
       "113  POINT (-3.77726 40.44813)  "
      ]
     },
     "execution_count": 24,
     "metadata": {},
     "output_type": "execute_result"
    }
   ],
   "source": [
    "gdf_sjoin2_final.sample(2)"
   ]
  },
  {
   "cell_type": "code",
   "execution_count": 25,
   "metadata": {},
   "outputs": [
    {
     "data": {
      "text/plain": [
       "ID_Distrito        int32\n",
       "Precio           float64\n",
       "Tipo              object\n",
       "Planta            object\n",
       "Tamanio            int64\n",
       "Habitaciones       int64\n",
       "Banios             int64\n",
       "Direccion         object\n",
       "Descripcion       object\n",
       "geometry        geometry\n",
       "dtype: object"
      ]
     },
     "execution_count": 25,
     "metadata": {},
     "output_type": "execute_result"
    }
   ],
   "source": [
    "gdf_sjoin2_final.dtypes"
   ]
  },
  {
   "cell_type": "code",
   "execution_count": null,
   "metadata": {},
   "outputs": [],
   "source": [
    "#gdf_sjoin2_final.to_file('../datos/finales/idealista.geojson', driver='GeoJSON')"
   ]
  },
  {
   "cell_type": "markdown",
   "metadata": {},
   "source": [
    "- Verificamos la descarga y haciendo uso de la libería `os` renombraremos el archivo."
   ]
  },
  {
   "cell_type": "code",
   "execution_count": 9,
   "metadata": {},
   "outputs": [
    {
     "data": {
      "text/plain": [
       "['distritos_zaragoza.json', 'ejemplos_venta_id.pkl']"
      ]
     },
     "execution_count": 9,
     "metadata": {},
     "output_type": "execute_result"
    }
   ],
   "source": [
    "os.listdir(\"../data/raw/\")"
   ]
  },
  {
   "cell_type": "code",
   "execution_count": null,
   "metadata": {},
   "outputs": [],
   "source": [
    "#os.rename(\"../datos/origen/Datos de la serie 0307010000022.csv\", \"../datos/origen/extranjeros_madrid.csv\")"
   ]
  },
  {
   "cell_type": "markdown",
   "metadata": {},
   "source": [
    "- Ahora debemos importarlo a nuestro notebook y convertirlo en un dataframe."
   ]
  },
  {
   "cell_type": "markdown",
   "metadata": {},
   "source": [
    "- Sobre este, realizaremos tareas de transformación."
   ]
  },
  {
   "cell_type": "markdown",
   "metadata": {},
   "source": [
    "- Con este nuevo formato, comprobamos los tipos de datos y exportamos a un archivo CSV."
   ]
  },
  {
   "cell_type": "markdown",
   "metadata": {},
   "source": [
    "- Con esta tarea finalizamos la extracción y transformación de los datos. Continuaremos en el notebook #2 con la creación e inserción de los datos a una base de datos SQL."
   ]
  }
 ],
 "metadata": {
  "kernelspec": {
   "display_name": "Python 3",
   "language": "python",
   "name": "python3"
  },
  "language_info": {
   "codemirror_mode": {
    "name": "ipython",
    "version": 3
   },
   "file_extension": ".py",
   "mimetype": "text/x-python",
   "name": "python",
   "nbconvert_exporter": "python",
   "pygments_lexer": "ipython3",
   "version": "3.9.6"
  }
 },
 "nbformat": 4,
 "nbformat_minor": 2
}
