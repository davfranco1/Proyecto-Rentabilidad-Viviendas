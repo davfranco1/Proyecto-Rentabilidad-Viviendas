{
 "cells": [
  {
   "cell_type": "markdown",
   "metadata": {},
   "source": [
    "# Notebook #1: Extracción\n",
    "\n",
    "- En este notebook, extraeremos datos haciendo uso de APIs, para las sigueintes fuentes de información:\n",
    "1. API Geoapify: datos geográficos de una ciudad.\n",
    "2. API Idealista: datos de viviendas en venta y alquiler.\n",
    "\n",
    "- Todas las funciones aquí utilizadas encuentran su soporte en [este soporte](../src/soporte_ETL.py).\n",
    "\n",
    "- Dado que los datos se modifican cada vez que se ejecuta una función de consulta, las mismas están comentadas. Para ejecutarlas, debe eliminarse la #, con la consecuencia de que, los datos de origen serán sustituidos.\n",
    "\n",
    "- El primer paso será importar las librerías necesarias:"
   ]
  },
  {
   "cell_type": "code",
   "execution_count": 1,
   "metadata": {},
   "outputs": [],
   "source": [
    "%load_ext autoreload\n",
    "%autoreload 2\n",
    "\n",
    "# Librerías para tratamiento de datos\n",
    "\n",
    "import pandas as pd\n",
    "import geopandas as gpd\n",
    "pd.set_option('display.max_columns', None) # Parámetro que modifica la visualización de los DFs\n",
    "\n",
    "# Librerías para el acceso a variables y funciones\n",
    "import sys\n",
    "sys.path.append(\"../\")\n",
    "import src.soporte_extraccion as setl\n",
    "import src.soporte_mongo as sm\n",
    "\n",
    "# Librerías para trabajar con distintos formatos de archivos\n",
    "import pickle\n",
    "import json\n",
    "\n",
    "# Librería para ignorar avisos\n",
    "import warnings\n",
    "warnings.filterwarnings(\"ignore\") # Ignora TODOS los avisos"
   ]
  },
  {
   "cell_type": "markdown",
   "metadata": {},
   "source": [
    "- Por medio de la API de Geoapify, se extrae la información geográfica de las divisiones administrativas de Zaragoza, en este caso, los distritos.\n",
    "- La función `geoconsulta_distritos` recibe como único argumento el ID de la división administrativa deseada, en este caso, la ciudad de Zaragoza.\n",
    "- El ID se obtiene a través del endpoint Geocoding, dentro de la misma API: https://apidocs.geoapify.com/playground/geocoding/.\n",
    "- Una vez extraída, se guarda en un archivo json."
   ]
  },
  {
   "cell_type": "code",
   "execution_count": 13,
   "metadata": {},
   "outputs": [],
   "source": [
    "response_distritos = setl.geoconsulta_distritos(\"516ca3dd0b861fedbf594631421e8bd84440f00101f9018c46050000000000c002069203085a617261676f7a61\")\n",
    "#with open(\"../data/raw/distritos_zaragoza.json\", \"w\") as f:\n",
    "#    json.dump(response_distritos, f, indent=4)"
   ]
  },
  {
   "cell_type": "markdown",
   "metadata": {},
   "source": [
    "- Carga del json genrado:"
   ]
  },
  {
   "cell_type": "code",
   "execution_count": 14,
   "metadata": {},
   "outputs": [],
   "source": [
    "with open(\"../data/raw/distritos_zaragoza.json\", \"r\") as f:\n",
    "    response_distritos = json.load(f)"
   ]
  },
  {
   "cell_type": "markdown",
   "metadata": {},
   "source": [
    "## Creación del DF Distritos\n",
    "\n",
    "- Usando la función `dataframe_distritos`, transformaremos el JSON obtenido en la respuesta en un GeoDataFrame con los datos geográficos de cada uno de los 16 distritos, que convertiremos a geografía de multipolígono.\n",
    "- Como paso final, guardamos el archivo."
   ]
  },
  {
   "cell_type": "code",
   "execution_count": 15,
   "metadata": {},
   "outputs": [],
   "source": [
    "gdf_distritos = setl.dataframe_distritos(response_distritos)\n",
    "#gdf_distritos.to_file(\"../data/transformed/gdf_distritos.geojson\", driver=\"GeoJSON\")"
   ]
  },
  {
   "cell_type": "markdown",
   "metadata": {},
   "source": [
    "- Comprobamos la apariencia del nuevo GDF y los tipos de datos."
   ]
  },
  {
   "cell_type": "code",
   "execution_count": 16,
   "metadata": {},
   "outputs": [
    {
     "data": {
      "text/html": [
       "<div>\n",
       "<style scoped>\n",
       "    .dataframe tbody tr th:only-of-type {\n",
       "        vertical-align: middle;\n",
       "    }\n",
       "\n",
       "    .dataframe tbody tr th {\n",
       "        vertical-align: top;\n",
       "    }\n",
       "\n",
       "    .dataframe thead th {\n",
       "        text-align: right;\n",
       "    }\n",
       "</style>\n",
       "<table border=\"1\" class=\"dataframe\">\n",
       "  <thead>\n",
       "    <tr style=\"text-align: right;\">\n",
       "      <th></th>\n",
       "      <th>distrito</th>\n",
       "      <th>geometry</th>\n",
       "    </tr>\n",
       "  </thead>\n",
       "  <tbody>\n",
       "    <tr>\n",
       "      <th>0</th>\n",
       "      <td>Distrito Rural</td>\n",
       "      <td>MULTIPOLYGON (((-0.9212 41.50517, -0.91835 41....</td>\n",
       "    </tr>\n",
       "    <tr>\n",
       "      <th>1</th>\n",
       "      <td>Sur</td>\n",
       "      <td>MULTIPOLYGON (((-1.06057 41.61549, -1.05914 41...</td>\n",
       "    </tr>\n",
       "    <tr>\n",
       "      <th>2</th>\n",
       "      <td>Miralbueno</td>\n",
       "      <td>MULTIPOLYGON (((-0.98545 41.65679, -0.98502 41...</td>\n",
       "    </tr>\n",
       "    <tr>\n",
       "      <th>3</th>\n",
       "      <td>Santa Isabel</td>\n",
       "      <td>MULTIPOLYGON (((-0.8438 41.67621, -0.84371 41....</td>\n",
       "    </tr>\n",
       "    <tr>\n",
       "      <th>4</th>\n",
       "      <td>El Rabal</td>\n",
       "      <td>MULTIPOLYGON (((-0.88153 41.65838, -0.87771 41...</td>\n",
       "    </tr>\n",
       "  </tbody>\n",
       "</table>\n",
       "</div>"
      ],
      "text/plain": [
       "         distrito                                           geometry\n",
       "0  Distrito Rural  MULTIPOLYGON (((-0.9212 41.50517, -0.91835 41....\n",
       "1             Sur  MULTIPOLYGON (((-1.06057 41.61549, -1.05914 41...\n",
       "2      Miralbueno  MULTIPOLYGON (((-0.98545 41.65679, -0.98502 41...\n",
       "3    Santa Isabel  MULTIPOLYGON (((-0.8438 41.67621, -0.84371 41....\n",
       "4        El Rabal  MULTIPOLYGON (((-0.88153 41.65838, -0.87771 41..."
      ]
     },
     "execution_count": 16,
     "metadata": {},
     "output_type": "execute_result"
    }
   ],
   "source": [
    "gdf_distritos.head(5)"
   ]
  },
  {
   "cell_type": "code",
   "execution_count": 17,
   "metadata": {},
   "outputs": [
    {
     "data": {
      "text/plain": [
       "distrito      object\n",
       "geometry    geometry\n",
       "dtype: object"
      ]
     },
     "execution_count": 17,
     "metadata": {},
     "output_type": "execute_result"
    }
   ],
   "source": [
    "gdf_distritos.dtypes"
   ]
  },
  {
   "cell_type": "markdown",
   "metadata": {},
   "source": [
    "### Subida a Mongo"
   ]
  },
  {
   "cell_type": "code",
   "execution_count": 18,
   "metadata": {},
   "outputs": [
    {
     "name": "stdout",
     "output_type": "stream",
     "text": [
      "GeoDataFrame subido a la colección: distritos\n"
     ]
    }
   ],
   "source": [
    "# bd = sm.conectar_a_mongo(\"ProyectoRentabilidad\")\n",
    "\n",
    "# sm.subir_geodataframe_a_mongo(bd, gdf_distritos, \"distritos\")\n",
    "\n",
    "# bd.client.close()"
   ]
  },
  {
   "cell_type": "markdown",
   "metadata": {},
   "source": [
    "## API Idealista"
   ]
  },
  {
   "cell_type": "markdown",
   "metadata": {},
   "source": [
    "- Obtendremos datos de viviendas en venta y en alquiler a través de una API de idealista.\n",
    "- De la consulta, que realizamos con la función `setl.consulta_idealista()`, obtendremos una lista correspondiente a cada página de respuesta.\n",
    "- La función recibe como argumentos el tipo de operación, el código y el nombre de la ciudad que deseamos consultar, precio mínimo, máximo y el número de páginas deseado, devolviendo 40 resultados por página. La lista de resultados la almacenaremos en un archivo de tipo `json`.\n",
    "- El locationID se puede obtener haciendo una consulta al endpoint https://rapidapi.com/scraperium/api/idealista7/playground/apiendpoint_1c6db49a-0793-4aa7-840b-6b8fc8868c3a.\n",
    "- Dadas las limitaciones de la API, cada iteración tarda unos 10 segundos.\n",
    "- Realizaremos dos consultas, una para las operaciones de venta y otra para las de alquiler.\n",
    "- El número de páginas se ha elegido realizando una consulta manual del número de anuncios publicados en Enero 2025 en la plataforma, sabiendo que, cada página contiene un máximo de 40 resultados. En este caso, hay 452 anuncios de alquiler entre 400€ y 1.500€ euros, y 586 de venta entre 60.000€ y 150.000€."
   ]
  },
  {
   "cell_type": "code",
   "execution_count": 2,
   "metadata": {},
   "outputs": [
    {
     "name": "stderr",
     "output_type": "stream",
     "text": [
      "100%|██████████| 12/12 [01:21<00:00,  6.77s/it]\n"
     ]
    }
   ],
   "source": [
    "resultados_idealista_sale = setl.consulta_idealista(\"sale\", \"0-EU-ES-50-17-001-297\", \"Zaragoza\", \"60000\", \"150000\", 12)"
   ]
  },
  {
   "cell_type": "code",
   "execution_count": 8,
   "metadata": {},
   "outputs": [
    {
     "name": "stderr",
     "output_type": "stream",
     "text": [
      "100%|██████████| 15/15 [01:21<00:00,  5.42s/it]\n"
     ]
    }
   ],
   "source": [
    "#resultados_idealista_rent = setl.consulta_idealista(\"rent\", \"0-EU-ES-50-17-001-297\", \"Zaragoza\", \"400\", \"1500\", 15)"
   ]
  },
  {
   "cell_type": "code",
   "execution_count": 4,
   "metadata": {},
   "outputs": [],
   "source": [
    "# with open(\"../data/raw/idealista-sale2.json\", \"w\") as json_file:\n",
    "#     json.dump(resultados_idealista_sale, json_file, indent=4)\n",
    "\n",
    "# # with open(\"../data/raw/idealista-rent.json\", \"w\") as json_file:\n",
    "# #     json.dump(resultados_idealista_rent, json_file, indent=4)"
   ]
  },
  {
   "cell_type": "markdown",
   "metadata": {},
   "source": [
    "- Ahora importaremos el resultado de la consulta, comprobaremos que la longitud de la lista sea correcta y le aplicaremos la función `dataframe_idealista()`, que recibe como argumento el archivo json con los resultados y devuelve un dataframe con los datos transformados."
   ]
  },
  {
   "cell_type": "code",
   "execution_count": 4,
   "metadata": {},
   "outputs": [],
   "source": [
    "with open(\"../data/raw/idealista-sale.json\", 'r') as file:\n",
    "    resultados_idealista_sale = json.load(file)\n",
    "\n",
    "with open(\"../data/raw/idealista-rent.json\", 'r') as file:\n",
    "    resultados_idealista_rent = json.load(file)"
   ]
  },
  {
   "cell_type": "code",
   "execution_count": 68,
   "metadata": {},
   "outputs": [
    {
     "name": "stdout",
     "output_type": "stream",
     "text": [
      " Páginas resultados venta: 12\n",
      "Páginas resultados alquiler: 15 \n"
     ]
    }
   ],
   "source": [
    "print(f\"\"\" Páginas resultados venta: {len(resultados_idealista_sale)}\n",
    "Páginas resultados alquiler: {len(resultados_idealista_rent)} \"\"\")"
   ]
  },
  {
   "cell_type": "markdown",
   "metadata": {},
   "source": [
    "Cada dataframe se compone de 28 columnas, descritas en el documento de Markdown disponible en [este enlace](../data/descripcion_variables.md)."
   ]
  },
  {
   "cell_type": "code",
   "execution_count": 5,
   "metadata": {},
   "outputs": [
    {
     "data": {
      "text/html": [
       "<div>\n",
       "<style scoped>\n",
       "    .dataframe tbody tr th:only-of-type {\n",
       "        vertical-align: middle;\n",
       "    }\n",
       "\n",
       "    .dataframe tbody tr th {\n",
       "        vertical-align: top;\n",
       "    }\n",
       "\n",
       "    .dataframe thead th {\n",
       "        text-align: right;\n",
       "    }\n",
       "</style>\n",
       "<table border=\"1\" class=\"dataframe\">\n",
       "  <thead>\n",
       "    <tr style=\"text-align: right;\">\n",
       "      <th></th>\n",
       "      <th>codigo</th>\n",
       "      <th>latitud</th>\n",
       "      <th>longitud</th>\n",
       "      <th>precio</th>\n",
       "      <th>precio_por_zona</th>\n",
       "      <th>tipo</th>\n",
       "      <th>exterior</th>\n",
       "      <th>planta</th>\n",
       "      <th>ascensor</th>\n",
       "      <th>tamanio</th>\n",
       "      <th>habitaciones</th>\n",
       "      <th>banios</th>\n",
       "      <th>aire_acondicionado</th>\n",
       "      <th>trastero</th>\n",
       "      <th>terraza</th>\n",
       "      <th>patio</th>\n",
       "      <th>parking</th>\n",
       "      <th>estado</th>\n",
       "      <th>direccion</th>\n",
       "      <th>descripcion</th>\n",
       "      <th>fecha</th>\n",
       "      <th>anunciante</th>\n",
       "      <th>contacto</th>\n",
       "      <th>cantidad_imagenes</th>\n",
       "      <th>urls_imagenes</th>\n",
       "      <th>tags_imagenes</th>\n",
       "    </tr>\n",
       "  </thead>\n",
       "  <tbody>\n",
       "    <tr>\n",
       "      <th>0</th>\n",
       "      <td>104792745</td>\n",
       "      <td>41.697302</td>\n",
       "      <td>-0.869352</td>\n",
       "      <td>149900.0</td>\n",
       "      <td>1180.0</td>\n",
       "      <td>flat</td>\n",
       "      <td>True</td>\n",
       "      <td>4</td>\n",
       "      <td>True</td>\n",
       "      <td>127.0</td>\n",
       "      <td>3</td>\n",
       "      <td>2</td>\n",
       "      <td>False</td>\n",
       "      <td>False</td>\n",
       "      <td>False</td>\n",
       "      <td>True</td>\n",
       "      <td>True</td>\n",
       "      <td>good</td>\n",
       "      <td>carretera de Huesca, 21</td>\n",
       "      <td>Junto a la Academia General Militar, en carret...</td>\n",
       "      <td>None</td>\n",
       "      <td>Fincas Ruiz, Jose</td>\n",
       "      <td>876 21 08 84</td>\n",
       "      <td>39</td>\n",
       "      <td>[https://img4.idealista.com/blur/WEB_LISTING-M...</td>\n",
       "      <td>[views, livingRoom, kitchen, facade, livingRoo...</td>\n",
       "    </tr>\n",
       "  </tbody>\n",
       "</table>\n",
       "</div>"
      ],
      "text/plain": [
       "      codigo    latitud  longitud    precio  precio_por_zona  tipo exterior  \\\n",
       "0  104792745  41.697302 -0.869352  149900.0           1180.0  flat     True   \n",
       "\n",
       "  planta ascensor  tamanio  habitaciones  banios aire_acondicionado trastero  \\\n",
       "0      4     True    127.0             3       2              False    False   \n",
       "\n",
       "  terraza patio  parking estado                direccion  \\\n",
       "0   False  True     True   good  carretera de Huesca, 21   \n",
       "\n",
       "                                         descripcion fecha         anunciante  \\\n",
       "0  Junto a la Academia General Militar, en carret...  None  Fincas Ruiz, Jose   \n",
       "\n",
       "       contacto  cantidad_imagenes  \\\n",
       "0  876 21 08 84                 39   \n",
       "\n",
       "                                       urls_imagenes  \\\n",
       "0  [https://img4.idealista.com/blur/WEB_LISTING-M...   \n",
       "\n",
       "                                       tags_imagenes  \n",
       "0  [views, livingRoom, kitchen, facade, livingRoo...  "
      ]
     },
     "execution_count": 5,
     "metadata": {},
     "output_type": "execute_result"
    }
   ],
   "source": [
    "df_idealista_sale = setl.dataframe_idealista(resultados_idealista_sale)\n",
    "df_idealista_sale.head(1)"
   ]
  },
  {
   "cell_type": "code",
   "execution_count": 7,
   "metadata": {},
   "outputs": [
    {
     "data": {
      "text/html": [
       "<div>\n",
       "<style scoped>\n",
       "    .dataframe tbody tr th:only-of-type {\n",
       "        vertical-align: middle;\n",
       "    }\n",
       "\n",
       "    .dataframe tbody tr th {\n",
       "        vertical-align: top;\n",
       "    }\n",
       "\n",
       "    .dataframe thead th {\n",
       "        text-align: right;\n",
       "    }\n",
       "</style>\n",
       "<table border=\"1\" class=\"dataframe\">\n",
       "  <thead>\n",
       "    <tr style=\"text-align: right;\">\n",
       "      <th></th>\n",
       "      <th>codigo</th>\n",
       "      <th>latitud</th>\n",
       "      <th>longitud</th>\n",
       "      <th>precio</th>\n",
       "      <th>precio_por_zona</th>\n",
       "      <th>tipo</th>\n",
       "      <th>exterior</th>\n",
       "      <th>planta</th>\n",
       "      <th>ascensor</th>\n",
       "      <th>tamanio</th>\n",
       "      <th>habitaciones</th>\n",
       "      <th>banios</th>\n",
       "      <th>aire_acondicionado</th>\n",
       "      <th>trastero</th>\n",
       "      <th>terraza</th>\n",
       "      <th>patio</th>\n",
       "      <th>parking</th>\n",
       "      <th>estado</th>\n",
       "      <th>direccion</th>\n",
       "      <th>descripcion</th>\n",
       "      <th>fecha</th>\n",
       "      <th>anunciante</th>\n",
       "      <th>contacto</th>\n",
       "      <th>cantidad_imagenes</th>\n",
       "      <th>urls_imagenes</th>\n",
       "      <th>tags_imagenes</th>\n",
       "    </tr>\n",
       "  </thead>\n",
       "  <tbody>\n",
       "    <tr>\n",
       "      <th>0</th>\n",
       "      <td>107028216</td>\n",
       "      <td>41.681202</td>\n",
       "      <td>-1.024342</td>\n",
       "      <td>750.0</td>\n",
       "      <td>6.0</td>\n",
       "      <td>flat</td>\n",
       "      <td>True</td>\n",
       "      <td>2</td>\n",
       "      <td>True</td>\n",
       "      <td>123.0</td>\n",
       "      <td>2</td>\n",
       "      <td>1</td>\n",
       "      <td>False</td>\n",
       "      <td>False</td>\n",
       "      <td>True</td>\n",
       "      <td>False</td>\n",
       "      <td>True</td>\n",
       "      <td>good</td>\n",
       "      <td>avenida Jota</td>\n",
       "      <td>En Garrapinillos tienes un Esplendido piso sem...</td>\n",
       "      <td>2025-01-15</td>\n",
       "      <td>Re/Max Y Tú, Susana</td>\n",
       "      <td>876 21 09 00</td>\n",
       "      <td>39</td>\n",
       "      <td>[https://img4.idealista.com/blur/WEB_LISTING-M...</td>\n",
       "      <td>[livingRoom, corridor, room, room, room, room,...</td>\n",
       "    </tr>\n",
       "  </tbody>\n",
       "</table>\n",
       "</div>"
      ],
      "text/plain": [
       "      codigo    latitud  longitud  precio  precio_por_zona  tipo exterior  \\\n",
       "0  107028216  41.681202 -1.024342   750.0              6.0  flat     True   \n",
       "\n",
       "  planta ascensor  tamanio  habitaciones  banios aire_acondicionado trastero  \\\n",
       "0      2     True    123.0             2       1              False    False   \n",
       "\n",
       "  terraza  patio  parking estado     direccion  \\\n",
       "0    True  False     True   good  avenida Jota   \n",
       "\n",
       "                                         descripcion       fecha  \\\n",
       "0  En Garrapinillos tienes un Esplendido piso sem...  2025-01-15   \n",
       "\n",
       "            anunciante      contacto  cantidad_imagenes  \\\n",
       "0  Re/Max Y Tú, Susana  876 21 09 00                 39   \n",
       "\n",
       "                                       urls_imagenes  \\\n",
       "0  [https://img4.idealista.com/blur/WEB_LISTING-M...   \n",
       "\n",
       "                                       tags_imagenes  \n",
       "0  [livingRoom, corridor, room, room, room, room,...  "
      ]
     },
     "execution_count": 7,
     "metadata": {},
     "output_type": "execute_result"
    }
   ],
   "source": [
    "df_idealista_rent = setl.dataframe_idealista(resultados_idealista_rent)\n",
    "df_idealista_rent.head(1)"
   ]
  },
  {
   "cell_type": "markdown",
   "metadata": {},
   "source": [
    "- Vamos a crear un diccionario para traducir los nombres de los tipos de vivienda a español, y usamos el método replace para hacer los cambios en ambos dataframes."
   ]
  },
  {
   "cell_type": "code",
   "execution_count": 6,
   "metadata": {},
   "outputs": [],
   "source": [
    "diccionario_remplazo_tipo = {\n",
    "    \"flat\": \"piso\",\n",
    "    \"duplex\": \"dúplex\",\n",
    "    \"penthouse\": \"ático\",\n",
    "    \"studio\": \"estudio\",\n",
    "    \"countryHouse\": \"casa de campo\",\n",
    "    \"chalet\": \"chalet\"\n",
    "}"
   ]
  },
  {
   "cell_type": "code",
   "execution_count": 7,
   "metadata": {},
   "outputs": [],
   "source": [
    "df_idealista_sale[\"tipo\"] = df_idealista_sale[\"tipo\"].replace(diccionario_remplazo_tipo)\n",
    "df_idealista_rent[\"tipo\"] = df_idealista_rent[\"tipo\"].replace(diccionario_remplazo_tipo)"
   ]
  },
  {
   "cell_type": "markdown",
   "metadata": {},
   "source": [
    "- Comprobamos el total de resultados de la consulta:"
   ]
  },
  {
   "cell_type": "code",
   "execution_count": 10,
   "metadata": {},
   "outputs": [
    {
     "name": "stdout",
     "output_type": "stream",
     "text": [
      " Venta: 480\n",
      "Alquiler: 450 \n"
     ]
    }
   ],
   "source": [
    "print(f\"\"\" Venta: {df_idealista_sale.shape[0]}\n",
    "Alquiler: {df_idealista_rent.shape[0]} \"\"\")"
   ]
  },
  {
   "cell_type": "markdown",
   "metadata": {},
   "source": [
    "- Guardamos los archivos resultantes en formato CSV.\n",
    "- Con esta tarea, finalizamos la extracción y transformación inicial de los datos. Continuaremos en el notebook #2 con el EDA, transformación y preprocesamiento."
   ]
  },
  {
   "cell_type": "code",
   "execution_count": 8,
   "metadata": {},
   "outputs": [],
   "source": [
    "df_idealista_sale.to_csv(\"../data/raw/idealista_sale2.csv\")\n",
    "df_idealista_rent.to_csv(\"../data/raw/idealista_rent.csv\")"
   ]
  }
 ],
 "metadata": {
  "kernelspec": {
   "display_name": "Python 3",
   "language": "python",
   "name": "python3"
  },
  "language_info": {
   "codemirror_mode": {
    "name": "ipython",
    "version": 3
   },
   "file_extension": ".py",
   "mimetype": "text/x-python",
   "name": "python",
   "nbconvert_exporter": "python",
   "pygments_lexer": "ipython3",
   "version": "3.9.6"
  }
 },
 "nbformat": 4,
 "nbformat_minor": 2
}
