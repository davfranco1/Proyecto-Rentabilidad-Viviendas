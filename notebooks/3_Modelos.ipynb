{
 "cells": [
  {
   "cell_type": "markdown",
   "metadata": {},
   "source": [
    "# Notebook #3: Modelos de regresión\n",
    "\n",
    "- En este notebook entrenaremos a los modelos que serán capaces de predecir el precio del alquiler, con los datos extraídos y transformados de las viviendas en venta en idealista.\n",
    "\n",
    "- Importamos las librerías y soportes."
   ]
  },
  {
   "cell_type": "code",
   "execution_count": 1,
   "metadata": {},
   "outputs": [],
   "source": [
    "%load_ext autoreload\n",
    "%autoreload 2\n",
    "\n",
    "# Tratamiento de datos\n",
    "# -----------------------------------------------------------------------\n",
    "import pandas as pd\n",
    "import numpy as np\n",
    "import pickle\n",
    "pd.set_option('display.max_columns', None) # para poder visualizar todas las columnas de los DataFrames\n",
    "\n",
    "# Ignorar los warnings\n",
    "# -----------------------------------------------------------------------\n",
    "import warnings\n",
    "warnings.filterwarnings('ignore')\n",
    "\n",
    "# Librería para el acceso a variables y funciones\n",
    "# -----------------------------------------------------------------------\n",
    "import sys\n",
    "sys.path.append(\"../\")\n",
    "from src import soporte_modelos as sm"
   ]
  },
  {
   "cell_type": "markdown",
   "metadata": {},
   "source": [
    "- El primer paso consiste en cargar los datos ya estandarizados."
   ]
  },
  {
   "cell_type": "code",
   "execution_count": 2,
   "metadata": {},
   "outputs": [
    {
     "data": {
      "text/html": [
       "<div>\n",
       "<style scoped>\n",
       "    .dataframe tbody tr th:only-of-type {\n",
       "        vertical-align: middle;\n",
       "    }\n",
       "\n",
       "    .dataframe tbody tr th {\n",
       "        vertical-align: top;\n",
       "    }\n",
       "\n",
       "    .dataframe thead th {\n",
       "        text-align: right;\n",
       "    }\n",
       "</style>\n",
       "<table border=\"1\" class=\"dataframe\">\n",
       "  <thead>\n",
       "    <tr style=\"text-align: right;\">\n",
       "      <th></th>\n",
       "      <th>precio</th>\n",
       "      <th>tipo</th>\n",
       "      <th>exterior</th>\n",
       "      <th>planta</th>\n",
       "      <th>ascensor</th>\n",
       "      <th>tamanio</th>\n",
       "      <th>habitaciones</th>\n",
       "      <th>banios</th>\n",
       "      <th>aire_acondicionado</th>\n",
       "      <th>trastero</th>\n",
       "      <th>terraza</th>\n",
       "      <th>patio</th>\n",
       "      <th>distrito</th>\n",
       "    </tr>\n",
       "  </thead>\n",
       "  <tbody>\n",
       "    <tr>\n",
       "      <th>361</th>\n",
       "      <td>1100.0</td>\n",
       "      <td>911.616751</td>\n",
       "      <td>-1.0</td>\n",
       "      <td>5.0</td>\n",
       "      <td>1.0</td>\n",
       "      <td>1.731786</td>\n",
       "      <td>3.0</td>\n",
       "      <td>2.0</td>\n",
       "      <td>1.0</td>\n",
       "      <td>1.0</td>\n",
       "      <td>-1.0</td>\n",
       "      <td>-1.0</td>\n",
       "      <td>986.629118</td>\n",
       "    </tr>\n",
       "    <tr>\n",
       "      <th>142</th>\n",
       "      <td>850.0</td>\n",
       "      <td>911.616751</td>\n",
       "      <td>-1.0</td>\n",
       "      <td>4.0</td>\n",
       "      <td>1.0</td>\n",
       "      <td>0.112454</td>\n",
       "      <td>2.0</td>\n",
       "      <td>2.0</td>\n",
       "      <td>1.0</td>\n",
       "      <td>-1.0</td>\n",
       "      <td>-1.0</td>\n",
       "      <td>-1.0</td>\n",
       "      <td>986.629118</td>\n",
       "    </tr>\n",
       "    <tr>\n",
       "      <th>420</th>\n",
       "      <td>700.0</td>\n",
       "      <td>911.616751</td>\n",
       "      <td>-1.0</td>\n",
       "      <td>2.0</td>\n",
       "      <td>1.0</td>\n",
       "      <td>0.546909</td>\n",
       "      <td>1.0</td>\n",
       "      <td>1.0</td>\n",
       "      <td>-1.0</td>\n",
       "      <td>-1.0</td>\n",
       "      <td>-1.0</td>\n",
       "      <td>-1.0</td>\n",
       "      <td>921.986525</td>\n",
       "    </tr>\n",
       "    <tr>\n",
       "      <th>215</th>\n",
       "      <td>750.0</td>\n",
       "      <td>911.616751</td>\n",
       "      <td>-1.0</td>\n",
       "      <td>3.0</td>\n",
       "      <td>1.0</td>\n",
       "      <td>-0.440489</td>\n",
       "      <td>2.0</td>\n",
       "      <td>1.0</td>\n",
       "      <td>-1.0</td>\n",
       "      <td>-1.0</td>\n",
       "      <td>-1.0</td>\n",
       "      <td>-1.0</td>\n",
       "      <td>921.986525</td>\n",
       "    </tr>\n",
       "    <tr>\n",
       "      <th>228</th>\n",
       "      <td>900.0</td>\n",
       "      <td>938.211340</td>\n",
       "      <td>1.0</td>\n",
       "      <td>4.0</td>\n",
       "      <td>1.0</td>\n",
       "      <td>0.349429</td>\n",
       "      <td>3.0</td>\n",
       "      <td>2.0</td>\n",
       "      <td>1.0</td>\n",
       "      <td>-1.0</td>\n",
       "      <td>1.0</td>\n",
       "      <td>-1.0</td>\n",
       "      <td>986.629118</td>\n",
       "    </tr>\n",
       "  </tbody>\n",
       "</table>\n",
       "</div>"
      ],
      "text/plain": [
       "     precio        tipo  exterior  planta  ascensor   tamanio  habitaciones  \\\n",
       "361  1100.0  911.616751      -1.0     5.0       1.0  1.731786           3.0   \n",
       "142   850.0  911.616751      -1.0     4.0       1.0  0.112454           2.0   \n",
       "420   700.0  911.616751      -1.0     2.0       1.0  0.546909           1.0   \n",
       "215   750.0  911.616751      -1.0     3.0       1.0 -0.440489           2.0   \n",
       "228   900.0  938.211340       1.0     4.0       1.0  0.349429           3.0   \n",
       "\n",
       "     banios  aire_acondicionado  trastero  terraza  patio    distrito  \n",
       "361     2.0                 1.0       1.0     -1.0   -1.0  986.629118  \n",
       "142     2.0                 1.0      -1.0     -1.0   -1.0  986.629118  \n",
       "420     1.0                -1.0      -1.0     -1.0   -1.0  921.986525  \n",
       "215     1.0                -1.0      -1.0     -1.0   -1.0  921.986525  \n",
       "228     2.0                 1.0      -1.0      1.0   -1.0  986.629118  "
      ]
     },
     "execution_count": 2,
     "metadata": {},
     "output_type": "execute_result"
    }
   ],
   "source": [
    "df = pd.read_pickle('../data/transformed/final_rent.pkl')\n",
    "df.sample(5)"
   ]
  },
  {
   "cell_type": "markdown",
   "metadata": {},
   "source": [
    "- Para nuestros modelos, utilizaremos el Decision Tree y otros tres modelos de ensamble: el Random Forest, el Gradient Boost y el XGBoost, que se usan en modelos de clasificación y de regresión.\n",
    "\n",
    "- Nuestro problema es de regresión, por cuanto estamos intentando predecir valores continuos, en este caso, el alquiler. Un valor continuo es un tipo de dato numérico que puede tomar cualquier valor dentro de un rango determinado.\n",
    "\n",
    "- Los Decision Tree son especialmente efectivos en problemas con interacciones no lineales y datos con diferentes tipos de variables (numéricas y categóricas). Son robustos frente a outliers y pueden gestionar conjuntos con valores faltantes. Sin embargo, son propensos al overfitting. Es entonces cuando podemos recurrir a los modelos de ensamble, para mejorar su estabilidad y precisión.\n",
    "\n",
    "- El Random Forest puede funcionar mejor cuando tenemos conjuntos de datos grandes o mucho ruido en nuestros datos, pero puede ser menos efectivo para captar variaciones más pequeñas. Es más sencillo configurar los hiperparámetros. Es un modelo de Bagging, donde creamos un bosque (paralelo), no nos quedamos con un sólo árbol, y el resultado es la media de sus medias.\n",
    "\n",
    "- Con Gradient Boosting, las predicciones suelen ser más acertadas, dado que la secuencia árboles tiende a reducir los errores. Normalmente tarda más para converger. Es más probable tener overfitting. En los modelos de Boosting, se aprende de los datos en la primera iteración (se predice la variable respuesta) pero en las posteriores, aprende de los errores cometidos, que son los que entran en el siguiente árbol, siendo el resultado final el del último árbol.\n",
    "\n",
    "- La versión optimizada de este último modelo es el XGBoost, que utiliza paralelización (mejora tanto la velocidad como la eficiencia computacional), para maximizar la eficiencia y la precisión general del modelo.\n",
    "________________________"
   ]
  },
  {
   "cell_type": "markdown",
   "metadata": {},
   "source": [
    "- Como primer paso, separamos la X y la y de nuestro conjunto de datos."
   ]
  },
  {
   "cell_type": "code",
   "execution_count": 3,
   "metadata": {},
   "outputs": [],
   "source": [
    "X, y, X_train, X_test, y_train, y_test = sm.separar_datos(df, 'precio', train_size=0.7)"
   ]
  },
  {
   "cell_type": "markdown",
   "metadata": {},
   "source": [
    "- Definimos un diccionario de hiperparámetros conjunto para todos los modelos."
   ]
  },
  {
   "cell_type": "code",
   "execution_count": 4,
   "metadata": {},
   "outputs": [],
   "source": [
    "params = {\n",
    "    \"tree\": {\n",
    "        'max_depth': [5],\n",
    "        'min_samples_split': [10],\n",
    "        'min_samples_leaf': [1]\n",
    "    },\n",
    "    \"random_forest\": {\n",
    "        'n_estimators': [200],\n",
    "        'max_depth': [15],\n",
    "        'min_samples_split': [2],\n",
    "        'min_samples_leaf': [1]\n",
    "    },\n",
    "    \"gradient_boosting\": {\n",
    "        'n_estimators': [300],\n",
    "        'learning_rate': [0.01],\n",
    "        'max_depth': [5],\n",
    "        'min_samples_split': [5],\n",
    "        'min_samples_leaf': [2],\n",
    "        'subsample': [0.8]\n",
    "    },\n",
    "    \"xgboost\": {\n",
    "        'n_estimators': [100, 300],\n",
    "        'learning_rate': [0.01, 0.05, 0.1],\n",
    "        'max_depth': [3, 5, 7],\n",
    "        'min_child_weight': [1, 3, 5],\n",
    "        'subsample': [0.8, 1.0],\n",
    "        'colsample_bytree': [0.8, 1.0]\n",
    "    }\n",
    "}"
   ]
  },
  {
   "cell_type": "markdown",
   "metadata": {},
   "source": [
    "- Antes de probar nuestros modelos, recordemos cómo interpretamos las métricas resultantes, específicamente el R2 y el RMSE, ambas son utilizadas para evaluar la precisión de los modelos de regresión.\n",
    "\n",
    "- El R2 indica en qué porcentaje las variaciones en el modelo son explicadas por sus variables independientes. Con valores que van de 0 a 1, un valor más cercano a 1 indica un mejor ajuste del modelo.\n",
    "\n",
    "- Por otro lado, el RMSE mide la magnitud de los errores de predicción, representando la desviación estándar de las diferencias entre los valores predichos y los observados. Un valor más bajo de RMSE indica una mejor predicción. \n",
    "\n",
    "- Con esto claro, empezamos las pruebas."
   ]
  },
  {
   "cell_type": "markdown",
   "metadata": {},
   "source": [
    "## Decision Tree"
   ]
  },
  {
   "cell_type": "code",
   "execution_count": 140,
   "metadata": {},
   "outputs": [
    {
     "name": "stdout",
     "output_type": "stream",
     "text": [
      "Los mejores parámetros para el modelo DecisionTree son:\n",
      "    {'max_depth': 5, 'min_samples_leaf': 1, 'min_samples_split': 10}\n",
      "    \n",
      "\n",
      "    Y sus mejores métricas son:\n"
     ]
    },
    {
     "data": {
      "text/html": [
       "<div>\n",
       "<style scoped>\n",
       "    .dataframe tbody tr th:only-of-type {\n",
       "        vertical-align: middle;\n",
       "    }\n",
       "\n",
       "    .dataframe tbody tr th {\n",
       "        vertical-align: top;\n",
       "    }\n",
       "\n",
       "    .dataframe thead th {\n",
       "        text-align: right;\n",
       "    }\n",
       "</style>\n",
       "<table border=\"1\" class=\"dataframe\">\n",
       "  <thead>\n",
       "    <tr style=\"text-align: right;\">\n",
       "      <th></th>\n",
       "      <th>R2</th>\n",
       "      <th>RMSE</th>\n",
       "      <th>MSE</th>\n",
       "      <th>MAE</th>\n",
       "    </tr>\n",
       "  </thead>\n",
       "  <tbody>\n",
       "    <tr>\n",
       "      <th>Train</th>\n",
       "      <td>0.481288</td>\n",
       "      <td>167.850978</td>\n",
       "      <td>28173.950828</td>\n",
       "      <td>123.259154</td>\n",
       "    </tr>\n",
       "    <tr>\n",
       "      <th>Test</th>\n",
       "      <td>0.489699</td>\n",
       "      <td>159.541549</td>\n",
       "      <td>25453.505997</td>\n",
       "      <td>116.976125</td>\n",
       "    </tr>\n",
       "  </tbody>\n",
       "</table>\n",
       "</div>"
      ],
      "text/plain": [
       "             R2        RMSE           MSE         MAE\n",
       "Train  0.481288  167.850978  28173.950828  123.259154\n",
       "Test   0.489699  159.541549  25453.505997  116.976125"
      ]
     },
     "metadata": {},
     "output_type": "display_data"
    }
   ],
   "source": [
    "modelo_tree, metricas_tree = sm.entrenar_modelo(X, y[\"precio\"].values, X_test, y_test, params[\"tree\"], 'DecisionTree')"
   ]
  },
  {
   "cell_type": "code",
   "execution_count": 56,
   "metadata": {},
   "outputs": [
    {
     "name": "stdout",
     "output_type": "stream",
     "text": [
      "El precio medio de las viviendas en el conjunto de datos es de: 911 euros.\n"
     ]
    }
   ],
   "source": [
    "print(f\"El precio medio de las viviendas en el conjunto de datos es de: {round(df['precio'].mean())} euros.\")"
   ]
  },
  {
   "cell_type": "markdown",
   "metadata": {},
   "source": [
    "- El resultado es malo, especialmente el R2, que nos está indicando que, las variables del modelo sólamente explican en un 49% los cambios en el modelo.\n",
    "\n",
    "- En el caso del RSME, tenemos una desviación de aproximadamente 160 euros, que es alta, considerando que la media del conjunto de datos es de 911 euros.\n",
    "\n",
    "- No tenemos overfitting, es decir, el modelo no está aprendiéndose los datos."
   ]
  },
  {
   "cell_type": "markdown",
   "metadata": {},
   "source": [
    "## Random Forest"
   ]
  },
  {
   "cell_type": "code",
   "execution_count": 141,
   "metadata": {},
   "outputs": [
    {
     "name": "stdout",
     "output_type": "stream",
     "text": [
      "Los mejores parámetros para el modelo RandomForest son:\n",
      "    {'max_depth': 15, 'min_samples_leaf': 1, 'min_samples_split': 2, 'n_estimators': 200}\n",
      "    \n",
      "\n",
      "    Y sus mejores métricas son:\n"
     ]
    },
    {
     "data": {
      "text/html": [
       "<div>\n",
       "<style scoped>\n",
       "    .dataframe tbody tr th:only-of-type {\n",
       "        vertical-align: middle;\n",
       "    }\n",
       "\n",
       "    .dataframe tbody tr th {\n",
       "        vertical-align: top;\n",
       "    }\n",
       "\n",
       "    .dataframe thead th {\n",
       "        text-align: right;\n",
       "    }\n",
       "</style>\n",
       "<table border=\"1\" class=\"dataframe\">\n",
       "  <thead>\n",
       "    <tr style=\"text-align: right;\">\n",
       "      <th></th>\n",
       "      <th>R2</th>\n",
       "      <th>RMSE</th>\n",
       "      <th>MSE</th>\n",
       "      <th>MAE</th>\n",
       "    </tr>\n",
       "  </thead>\n",
       "  <tbody>\n",
       "    <tr>\n",
       "      <th>Train</th>\n",
       "      <td>0.893736</td>\n",
       "      <td>75.972002</td>\n",
       "      <td>5771.745086</td>\n",
       "      <td>56.140226</td>\n",
       "    </tr>\n",
       "    <tr>\n",
       "      <th>Test</th>\n",
       "      <td>0.876608</td>\n",
       "      <td>78.452079</td>\n",
       "      <td>6154.728728</td>\n",
       "      <td>58.442645</td>\n",
       "    </tr>\n",
       "  </tbody>\n",
       "</table>\n",
       "</div>"
      ],
      "text/plain": [
       "             R2       RMSE          MSE        MAE\n",
       "Train  0.893736  75.972002  5771.745086  56.140226\n",
       "Test   0.876608  78.452079  6154.728728  58.442645"
      ]
     },
     "metadata": {},
     "output_type": "display_data"
    }
   ],
   "source": [
    "modelo_rf, metricas_rf = sm.entrenar_modelo(X, y[\"precio\"].values, X_test, y_test, params[\"random_forest\"], 'RandomForest')"
   ]
  },
  {
   "cell_type": "markdown",
   "metadata": {},
   "source": [
    "- En este caso, los resultados son muy buenos, con un R2 alto y un RMSE menor. En el caso del R2, quiere decir que, casi el 90% de los cambios en la variable respuesta (precio) pueden ser explicadas por el modelo, mientras que, la otra mitad se debe a factores no capturados por el modelo.\n",
    "\n",
    "- Veamos la importancia de nuestras variables predictoras, graficándolas para una interpretación más sencilla:"
   ]
  },
  {
   "cell_type": "code",
   "execution_count": 111,
   "metadata": {},
   "outputs": [
    {
     "data": {
      "image/png": "[encoded data removed]",
      "text/plain": [
       "<Figure size 800x600 with 1 Axes>"
      ]
     },
     "metadata": {},
     "output_type": "display_data"
    },
    {
     "data": {
      "text/html": [
       "<div>\n",
       "<style scoped>\n",
       "    .dataframe tbody tr th:only-of-type {\n",
       "        vertical-align: middle;\n",
       "    }\n",
       "\n",
       "    .dataframe tbody tr th {\n",
       "        vertical-align: top;\n",
       "    }\n",
       "\n",
       "    .dataframe thead th {\n",
       "        text-align: right;\n",
       "    }\n",
       "</style>\n",
       "<table border=\"1\" class=\"dataframe\">\n",
       "  <thead>\n",
       "    <tr style=\"text-align: right;\">\n",
       "      <th></th>\n",
       "      <th>Importancia</th>\n",
       "    </tr>\n",
       "  </thead>\n",
       "  <tbody>\n",
       "    <tr>\n",
       "      <th>tamanio</th>\n",
       "      <td>34.621694</td>\n",
       "    </tr>\n",
       "    <tr>\n",
       "      <th>distrito</th>\n",
       "      <td>15.111444</td>\n",
       "    </tr>\n",
       "    <tr>\n",
       "      <th>banios</th>\n",
       "      <td>12.173888</td>\n",
       "    </tr>\n",
       "    <tr>\n",
       "      <th>planta</th>\n",
       "      <td>11.095948</td>\n",
       "    </tr>\n",
       "    <tr>\n",
       "      <th>habitaciones</th>\n",
       "      <td>8.505974</td>\n",
       "    </tr>\n",
       "    <tr>\n",
       "      <th>ascensor</th>\n",
       "      <td>3.874313</td>\n",
       "    </tr>\n",
       "    <tr>\n",
       "      <th>terraza</th>\n",
       "      <td>3.854845</td>\n",
       "    </tr>\n",
       "    <tr>\n",
       "      <th>aire_acondicionado</th>\n",
       "      <td>3.677657</td>\n",
       "    </tr>\n",
       "    <tr>\n",
       "      <th>trastero</th>\n",
       "      <td>2.200286</td>\n",
       "    </tr>\n",
       "    <tr>\n",
       "      <th>tipo</th>\n",
       "      <td>1.983536</td>\n",
       "    </tr>\n",
       "    <tr>\n",
       "      <th>exterior</th>\n",
       "      <td>1.882715</td>\n",
       "    </tr>\n",
       "    <tr>\n",
       "      <th>patio</th>\n",
       "      <td>1.017700</td>\n",
       "    </tr>\n",
       "  </tbody>\n",
       "</table>\n",
       "</div>"
      ],
      "text/plain": [
       "                    Importancia\n",
       "tamanio               34.621694\n",
       "distrito              15.111444\n",
       "banios                12.173888\n",
       "planta                11.095948\n",
       "habitaciones           8.505974\n",
       "ascensor               3.874313\n",
       "terraza                3.854845\n",
       "aire_acondicionado     3.677657\n",
       "trastero               2.200286\n",
       "tipo                   1.983536\n",
       "exterior               1.882715\n",
       "patio                  1.017700"
      ]
     },
     "execution_count": 111,
     "metadata": {},
     "output_type": "execute_result"
    }
   ],
   "source": [
    "sm.importancia_caracteristicas(modelo_rf, X)"
   ]
  },
  {
   "cell_type": "markdown",
   "metadata": {},
   "source": [
    "- Vemos que, con diferencia, el tamaño es la variable predictora más importante, explicando casi un 35% de los cambios.\n",
    "\n",
    "- Le siguen el distrito, baños y planta, que explican aproximadamente entre el 10 y 15% de los cambios. Las habitaciones representan un 8%.\n",
    "\n",
    "- Tenemos un grupo que representa entorno al 9%, que son ascensor, aire acondicionado y habitaciones, y otro final que no llega al 2% e incluyen trastero, exterior, tipo y patio.\n",
    "\n",
    "- Vamos a eliminar este último grupo y probar si obtenemos un mejor resultado."
   ]
  },
  {
   "cell_type": "code",
   "execution_count": 92,
   "metadata": {},
   "outputs": [],
   "source": [
    "columnas_a_eliminar = ['trastero', 'exterior', 'tipo', 'patio']\n",
    "\n",
    "X_train_reducida = X_train.drop(columns=columnas_a_eliminar)\n",
    "X_test_reducida = X_test.drop(columns=columnas_a_eliminar)"
   ]
  },
  {
   "cell_type": "markdown",
   "metadata": {},
   "source": [
    "- Ahora reentrenamos al modelo, ajustando ligeramente los parámetros."
   ]
  },
  {
   "cell_type": "code",
   "execution_count": 99,
   "metadata": {},
   "outputs": [],
   "source": [
    "nuevos_params = {\n",
    "        'n_estimators': [100, 200, 300],\n",
    "        'max_depth': [5, 10, 15],\n",
    "        'min_samples_split': [2, 5, 10],\n",
    "        'min_samples_leaf': [1, 2, 5]\n",
    "    }"
   ]
  },
  {
   "cell_type": "code",
   "execution_count": 112,
   "metadata": {},
   "outputs": [
    {
     "name": "stdout",
     "output_type": "stream",
     "text": [
      "Los mejores parámetros para el modelo RandomForest son:\n",
      "    {'max_depth': 10, 'min_samples_leaf': 5, 'min_samples_split': 2, 'n_estimators': 300}\n",
      "    \n",
      "\n",
      "    Y sus mejores métricas son:\n"
     ]
    },
    {
     "data": {
      "text/html": [
       "<div>\n",
       "<style scoped>\n",
       "    .dataframe tbody tr th:only-of-type {\n",
       "        vertical-align: middle;\n",
       "    }\n",
       "\n",
       "    .dataframe tbody tr th {\n",
       "        vertical-align: top;\n",
       "    }\n",
       "\n",
       "    .dataframe thead th {\n",
       "        text-align: right;\n",
       "    }\n",
       "</style>\n",
       "<table border=\"1\" class=\"dataframe\">\n",
       "  <thead>\n",
       "    <tr style=\"text-align: right;\">\n",
       "      <th></th>\n",
       "      <th>R2</th>\n",
       "      <th>RMSE</th>\n",
       "      <th>MAE</th>\n",
       "      <th>MSE</th>\n",
       "    </tr>\n",
       "  </thead>\n",
       "  <tbody>\n",
       "    <tr>\n",
       "      <th>Train</th>\n",
       "      <td>0.577975</td>\n",
       "      <td>154.039635</td>\n",
       "      <td>112.777833</td>\n",
       "      <td>23728.209249</td>\n",
       "    </tr>\n",
       "    <tr>\n",
       "      <th>Test</th>\n",
       "      <td>0.228629</td>\n",
       "      <td>196.151831</td>\n",
       "      <td>144.888367</td>\n",
       "      <td>38475.540623</td>\n",
       "    </tr>\n",
       "  </tbody>\n",
       "</table>\n",
       "</div>"
      ],
      "text/plain": [
       "             R2        RMSE         MAE           MSE\n",
       "Train  0.577975  154.039635  112.777833  23728.209249\n",
       "Test   0.228629  196.151831  144.888367  38475.540623"
      ]
     },
     "metadata": {},
     "output_type": "display_data"
    }
   ],
   "source": [
    "modelo_rf_v2, metricas_rf_v2 = sm.entrenar_modelo(X_train_reducida, y_train[\"precio\"].values, X_test_reducida, y_test, nuevos_params, 'RandomForest')"
   ]
  },
  {
   "cell_type": "markdown",
   "metadata": {},
   "source": [
    "- Vemos que, las métricas han empeorado significativamente, así que, no sería este el acercamiento correcto (eliminar variables). Vemos que, además, tenemos muchísimo overfitting."
   ]
  },
  {
   "cell_type": "markdown",
   "metadata": {},
   "source": [
    "## Gradient Boost"
   ]
  },
  {
   "cell_type": "code",
   "execution_count": 108,
   "metadata": {},
   "outputs": [
    {
     "name": "stdout",
     "output_type": "stream",
     "text": [
      "Los mejores parámetros para el modelo GradientBoost son:\n",
      "    {'learning_rate': 0.01, 'max_depth': 5, 'min_samples_leaf': 2, 'min_samples_split': 5, 'n_estimators': 300, 'subsample': 0.8}\n",
      "    \n",
      "\n",
      "    Y sus mejores métricas son:\n"
     ]
    },
    {
     "data": {
      "text/html": [
       "<div>\n",
       "<style scoped>\n",
       "    .dataframe tbody tr th:only-of-type {\n",
       "        vertical-align: middle;\n",
       "    }\n",
       "\n",
       "    .dataframe tbody tr th {\n",
       "        vertical-align: top;\n",
       "    }\n",
       "\n",
       "    .dataframe thead th {\n",
       "        text-align: right;\n",
       "    }\n",
       "</style>\n",
       "<table border=\"1\" class=\"dataframe\">\n",
       "  <thead>\n",
       "    <tr style=\"text-align: right;\">\n",
       "      <th></th>\n",
       "      <th>R2</th>\n",
       "      <th>RMSE</th>\n",
       "      <th>MAE</th>\n",
       "      <th>MSE</th>\n",
       "    </tr>\n",
       "  </thead>\n",
       "  <tbody>\n",
       "    <tr>\n",
       "      <th>Train</th>\n",
       "      <td>0.698979</td>\n",
       "      <td>127.867230</td>\n",
       "      <td>91.546548</td>\n",
       "      <td>16350.028629</td>\n",
       "    </tr>\n",
       "    <tr>\n",
       "      <th>Test</th>\n",
       "      <td>0.678853</td>\n",
       "      <td>126.564694</td>\n",
       "      <td>90.959479</td>\n",
       "      <td>16018.621708</td>\n",
       "    </tr>\n",
       "  </tbody>\n",
       "</table>\n",
       "</div>"
      ],
      "text/plain": [
       "             R2        RMSE        MAE           MSE\n",
       "Train  0.698979  127.867230  91.546548  16350.028629\n",
       "Test   0.678853  126.564694  90.959479  16018.621708"
      ]
     },
     "metadata": {},
     "output_type": "display_data"
    }
   ],
   "source": [
    "modelo_gb, metricas_gb = sm.entrenar_modelo(X, y[\"precio\"].values, X_test, y_test, params[\"gradient_boosting\"], 'GradientBoost')"
   ]
  },
  {
   "cell_type": "markdown",
   "metadata": {},
   "source": [
    "- Damos un paso atrás respecto a la primera iteración del Random Forest. Vemos que, tanto el R2 como el RMSE han empeorado. Aunque el R2 no es del todo malo, un 0,68, el RMSE es elevado y tendría un efecto negativo elevado sobre los cálculos de rentabilidad.\n",
    "\n",
    "- No hay overfitting."
   ]
  },
  {
   "cell_type": "markdown",
   "metadata": {},
   "source": [
    "## XGBoost"
   ]
  },
  {
   "cell_type": "code",
   "execution_count": 106,
   "metadata": {},
   "outputs": [
    {
     "name": "stdout",
     "output_type": "stream",
     "text": [
      "Los mejores parámetros para el modelo XGBRegressor son:\n",
      "    {'colsample_bytree': 0.8, 'learning_rate': 0.01, 'max_depth': 7, 'min_child_weight': 3, 'n_estimators': 300, 'subsample': 0.8}\n",
      "    \n",
      "\n",
      "    Y sus mejores métricas son:\n"
     ]
    },
    {
     "data": {
      "text/html": [
       "<div>\n",
       "<style scoped>\n",
       "    .dataframe tbody tr th:only-of-type {\n",
       "        vertical-align: middle;\n",
       "    }\n",
       "\n",
       "    .dataframe tbody tr th {\n",
       "        vertical-align: top;\n",
       "    }\n",
       "\n",
       "    .dataframe thead th {\n",
       "        text-align: right;\n",
       "    }\n",
       "</style>\n",
       "<table border=\"1\" class=\"dataframe\">\n",
       "  <thead>\n",
       "    <tr style=\"text-align: right;\">\n",
       "      <th></th>\n",
       "      <th>R2</th>\n",
       "      <th>RMSE</th>\n",
       "      <th>MAE</th>\n",
       "      <th>MSE</th>\n",
       "    </tr>\n",
       "  </thead>\n",
       "  <tbody>\n",
       "    <tr>\n",
       "      <th>Train</th>\n",
       "      <td>0.753317</td>\n",
       "      <td>115.752546</td>\n",
       "      <td>82.436713</td>\n",
       "      <td>13398.651943</td>\n",
       "    </tr>\n",
       "    <tr>\n",
       "      <th>Test</th>\n",
       "      <td>0.740434</td>\n",
       "      <td>113.784846</td>\n",
       "      <td>81.658474</td>\n",
       "      <td>12946.991109</td>\n",
       "    </tr>\n",
       "  </tbody>\n",
       "</table>\n",
       "</div>"
      ],
      "text/plain": [
       "             R2        RMSE        MAE           MSE\n",
       "Train  0.753317  115.752546  82.436713  13398.651943\n",
       "Test   0.740434  113.784846  81.658474  12946.991109"
      ]
     },
     "metadata": {},
     "output_type": "display_data"
    }
   ],
   "source": [
    "modelo_xgb, metricas_xgb = sm.entrenar_modelo(X, y[\"precio\"].values, X_test, y_test, params[\"xgboost\"], 'XGBRegressor')"
   ]
  },
  {
   "cell_type": "markdown",
   "metadata": {},
   "source": [
    "- Respecto al Gradient Boosting, mejoramos las métricas, con un R2 que explica el 74% de los cambios, sin embargo, se alejan de los resultados obtenidos por el Random Forest, con un RMSE 38 superior.\n",
    "\n",
    "- Cuando consideramos el impacto sobre la rentabilidad, esto es significativo."
   ]
  },
  {
   "cell_type": "markdown",
   "metadata": {},
   "source": [
    "## Modelo elegido\n",
    "\n",
    "- Dadas las métricas que hemos conseguido, el mejor modelo es Random Forest, con lo cual, vamos a reentrenar al modelo con la totalidad de los datos, y guardar el objeto."
   ]
  },
  {
   "cell_type": "code",
   "execution_count": 13,
   "metadata": {},
   "outputs": [
    {
     "name": "stdout",
     "output_type": "stream",
     "text": [
      "Modelo final entrenado con todos los datos.\n"
     ]
    },
    {
     "data": {
      "text/html": [
       "<div>\n",
       "<style scoped>\n",
       "    .dataframe tbody tr th:only-of-type {\n",
       "        vertical-align: middle;\n",
       "    }\n",
       "\n",
       "    .dataframe tbody tr th {\n",
       "        vertical-align: top;\n",
       "    }\n",
       "\n",
       "    .dataframe thead th {\n",
       "        text-align: right;\n",
       "    }\n",
       "</style>\n",
       "<table border=\"1\" class=\"dataframe\">\n",
       "  <thead>\n",
       "    <tr style=\"text-align: right;\">\n",
       "      <th></th>\n",
       "      <th>R2</th>\n",
       "      <th>RMSE</th>\n",
       "      <th>MSE</th>\n",
       "      <th>MAE</th>\n",
       "    </tr>\n",
       "  </thead>\n",
       "  <tbody>\n",
       "    <tr>\n",
       "      <th>Total</th>\n",
       "      <td>0.893736</td>\n",
       "      <td>75.972002</td>\n",
       "      <td>5771.745086</td>\n",
       "      <td>56.140226</td>\n",
       "    </tr>\n",
       "  </tbody>\n",
       "</table>\n",
       "</div>"
      ],
      "text/plain": [
       "             R2       RMSE          MSE        MAE\n",
       "Total  0.893736  75.972002  5771.745086  56.140226"
      ]
     },
     "metadata": {},
     "output_type": "display_data"
    }
   ],
   "source": [
    "modelo_final_rf, metricas_final_rf = sm.entrenar_modelo(X, y[\"precio\"].values, X_test, y_test, params[\"random_forest\"], 'RandomForest', modelo_final=True, X=X, y=y)"
   ]
  },
  {
   "cell_type": "code",
   "execution_count": 127,
   "metadata": {},
   "outputs": [],
   "source": [
    "#with open('../transformers/model.pkl', 'wb') as f:\n",
    "#      pickle.dump(modelo_final_rf, f)"
   ]
  }
 ],
 "metadata": {
  "kernelspec": {
   "display_name": "Python 3",
   "language": "python",
   "name": "python3"
  },
  "language_info": {
   "codemirror_mode": {
    "name": "ipython",
    "version": 3
   },
   "file_extension": ".py",
   "mimetype": "text/x-python",
   "name": "python",
   "nbconvert_exporter": "python",
   "pygments_lexer": "ipython3",
   "version": "3.9.6"
  }
 },
 "nbformat": 4,
 "nbformat_minor": 2
}
