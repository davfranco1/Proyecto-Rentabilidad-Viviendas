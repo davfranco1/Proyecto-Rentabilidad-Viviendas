{
 "cells": [
  {
   "cell_type": "markdown",
   "metadata": {},
   "source": [
    "# Notebook #4: Cálculo de Rentabilidad\n",
    "\n",
    "- Con los datos extraídos y el modelo de *machine learning* que se ha entrenado para predecir el precio del alquiler, somos capaces de realizar el cálculo de rentabilidad con ayuda de distintas funciones.\n",
    "\n",
    "- Importamos las librerías y soportes."
   ]
  },
  {
   "cell_type": "code",
   "execution_count": 432,
   "metadata": {},
   "outputs": [
    {
     "name": "stdout",
     "output_type": "stream",
     "text": [
      "The autoreload extension is already loaded. To reload it, use:\n",
      "  %reload_ext autoreload\n"
     ]
    }
   ],
   "source": [
    "%load_ext autoreload\n",
    "%autoreload 2\n",
    "\n",
    "# Tratamiento de datos\n",
    "# -----------------------------------------------------------------------\n",
    "import pandas as pd\n",
    "import geopandas as gpd\n",
    "import numpy as np\n",
    "import pickle\n",
    "pd.set_option('display.max_columns', None) # para poder visualizar todas las columnas de los dfFrames\n",
    "\n",
    "from tqdm import tqdm\n",
    "\n",
    "# Ignorar los warnings\n",
    "# -----------------------------------------------------------------------\n",
    "import warnings\n",
    "warnings.filterwarnings('ignore')\n",
    "\n",
    "# Librería para el acceso a variables y funciones\n",
    "# -----------------------------------------------------------------------\n",
    "import sys\n",
    "sys.path.append(\"../\")\n",
    "from src import soporte_rentabilidad as sr\n",
    "from src import soporte_yolo as sy\n",
    "from src import soporte_scoring as ss\n",
    "from src import soporte_blip as sb\n",
    "from src import soporte_mongo as sm"
   ]
  },
  {
   "cell_type": "markdown",
   "metadata": {},
   "source": [
    "- Como primer paso, definimos una variable con las rutas de los transformers: el encoder, el scaler y el modelo Random Forest.\n",
    "\n",
    "- También vamos a conectarnos a la base de datos de Mongo para obtener el los datos correspondientes a viviendas en venta.\n",
    "\n",
    "- Utilizaremos la función `predecir_alquiler` para aplicar el modelo a la totalidad de viviendas en venta, que devuelve el dataframe con una nueva columna 'alquiler_predicho'. Sus únicos argumentos son el archivo pickle con las viviendas en venta y la variable con las rutas de los transformers."
   ]
  },
  {
   "cell_type": "code",
   "execution_count": 522,
   "metadata": {},
   "outputs": [],
   "source": [
    "paths_transformers = [\"../transformers/target_encoder.pkl\", \"../transformers/scaler.pkl\", \"../transformers/model.pkl\"]\n",
    "bd = sm.conectar_a_mongo(\"ProyectoRentabilidad\")\n",
    "gdf = sm.importar_a_geodataframe(bd, \"venta\")\n",
    "gdf = sr.predecir_alquiler(gdf, paths_transformers)"
   ]
  },
  {
   "cell_type": "markdown",
   "metadata": {},
   "source": [
    "- Comprobamos el dataframe."
   ]
  },
  {
   "cell_type": "markdown",
   "metadata": {},
   "source": [
    "- Para cada vivienda, tenemos una columna que corresponde a una lista con las urls de las imágenes. Para poder identificar cuál corresponde a cada estancia, utilizaremos el modelo YOLOv11, en su versión x y de clasificación, por cuanto no nos interesa determinar la ubicación ni la forma de los objetos en las imágenes, solamente su existencia.\n",
    "\n",
    "- Con la función `identificar_urls_habitaciones`, se añaden etiquetas a la cocina y al baño de cada anuncio. Para optimizar el tiempo de procesamiento, cuando las ha encontrado, no continua con el resto de imágenes, sino que salta al siguiente anuncio.\n",
    "\n",
    "- El resultado es un dataframe con nuevas columnas para la URL del baño y de la cocina. Cuando uno de los dos valores es nulo, elimina esa fila. El return también incluye un dataframe con todas las detecciones de las imágenes procesadas, como una forma de poder validar los resultados."
   ]
  },
  {
   "cell_type": "markdown",
   "metadata": {},
   "source": [
    "116 misses"
   ]
  },
  {
   "cell_type": "code",
   "execution_count": 523,
   "metadata": {},
   "outputs": [
    {
     "name": "stderr",
     "output_type": "stream",
     "text": [
      " 33%|███▎      | 116/352 [36:30<1:06:39, 16.95s/it] "
     ]
    },
    {
     "name": "stdout",
     "output_type": "stream",
     "text": [
      "Error processing https://img4.idealista.com/blur/WEB_LISTING-M/0/id.pro.es.image.master/f3/c0/22/1263973405.webp: HTTPSConnectionPool(host='img4.idealista.com', port=443): Read timed out. (read timeout=10)\n",
      "Error processing https://img4.idealista.com/blur/WEB_LISTING-M/0/id.pro.es.image.master/a9/7b/cd/1263973421.webp: HTTPSConnectionPool(host='img4.idealista.com', port=443): Read timed out. (read timeout=10)\n"
     ]
    },
    {
     "name": "stderr",
     "output_type": "stream",
     "text": [
      "100%|██████████| 352/352 [1:13:56<00:00, 12.61s/it]"
     ]
    },
    {
     "name": "stdout",
     "output_type": "stream",
     "text": [
      "Se han eliminado 117 filas donde 'url_cocina' o 'url_banio' son None o NaN.\n"
     ]
    },
    {
     "name": "stderr",
     "output_type": "stream",
     "text": [
      "\n"
     ]
    }
   ],
   "source": [
    "gdf, detecciones = sy.identificar_urls_habitaciones(gdf, 'urls_imagenes', drop_nulls=True)"
   ]
  },
  {
   "cell_type": "markdown",
   "metadata": {},
   "source": [
    "- Vamos a comprobar el resultado del filtrado.\n",
    "\n",
    "- Además del dataframe con las imágenes filtradas, tenemos un segundo dataframe como retorno, que almacena los elementos que se han detectado en cada imagen, la URL y si ha sido etiquetado como cocina o baño. Esto nos permite realizar generar una métrica sobre la efectividad de YOLO.\n",
    "\n",
    "- De las 365 viviendas en venta, se han encontrado imágenes de baño y cocina para 266. Dado que el cliente objetivo del proyecto no es quién se dedica a reformas, sin poder conocer el estado de estas estancias, el cálculo de rentabilidad puede cambiar significativamente por ser los espacios que cuesta más dinero reformar.\n",
    "\n",
    "- Por ese motivo, las eliminaremos del conjunto de datos con el parámetro *drop nulls*."
   ]
  },
  {
   "cell_type": "code",
   "execution_count": 525,
   "metadata": {},
   "outputs": [
    {
     "data": {
      "text/plain": [
       "265"
      ]
     },
     "execution_count": 525,
     "metadata": {},
     "output_type": "execute_result"
    }
   ],
   "source": [
    "gdf.shape[0]"
   ]
  },
  {
   "cell_type": "code",
   "execution_count": 526,
   "metadata": {},
   "outputs": [
    {
     "data": {
      "text/html": [
       "<div>\n",
       "<style scoped>\n",
       "    .dataframe tbody tr th:only-of-type {\n",
       "        vertical-align: middle;\n",
       "    }\n",
       "\n",
       "    .dataframe tbody tr th {\n",
       "        vertical-align: top;\n",
       "    }\n",
       "\n",
       "    .dataframe thead th {\n",
       "        text-align: right;\n",
       "    }\n",
       "</style>\n",
       "<table border=\"1\" class=\"dataframe\">\n",
       "  <thead>\n",
       "    <tr style=\"text-align: right;\">\n",
       "      <th></th>\n",
       "      <th>url</th>\n",
       "      <th>detecciones</th>\n",
       "      <th>habitación</th>\n",
       "    </tr>\n",
       "  </thead>\n",
       "  <tbody>\n",
       "    <tr>\n",
       "      <th>2</th>\n",
       "      <td>https://img4.idealista.com/blur/WEB_LISTING-M/...</td>\n",
       "      <td>[microwave, refrigerator, wardrobe, dishwasher...</td>\n",
       "      <td>kitchen</td>\n",
       "    </tr>\n",
       "    <tr>\n",
       "      <th>7</th>\n",
       "      <td>https://img4.idealista.com/blur/WEB_LISTING-M/...</td>\n",
       "      <td>[microwave, washbasin, refrigerator, washer, s...</td>\n",
       "      <td>kitchen</td>\n",
       "    </tr>\n",
       "    <tr>\n",
       "      <th>13</th>\n",
       "      <td>https://img4.idealista.com/blur/WEB_LISTING-M/...</td>\n",
       "      <td>[microwave, washer, stove, dishwasher, washbasin]</td>\n",
       "      <td>kitchen</td>\n",
       "    </tr>\n",
       "    <tr>\n",
       "      <th>14</th>\n",
       "      <td>https://img4.idealista.com/blur/WEB_LISTING-M/...</td>\n",
       "      <td>[washer, microwave, washbasin, refrigerator, s...</td>\n",
       "      <td>kitchen</td>\n",
       "    </tr>\n",
       "    <tr>\n",
       "      <th>16</th>\n",
       "      <td>https://img4.idealista.com/blur/WEB_LISTING-M/...</td>\n",
       "      <td>[washer, microwave, space_heater, dishwasher, ...</td>\n",
       "      <td>kitchen</td>\n",
       "    </tr>\n",
       "  </tbody>\n",
       "</table>\n",
       "</div>"
      ],
      "text/plain": [
       "                                                  url  \\\n",
       "2   https://img4.idealista.com/blur/WEB_LISTING-M/...   \n",
       "7   https://img4.idealista.com/blur/WEB_LISTING-M/...   \n",
       "13  https://img4.idealista.com/blur/WEB_LISTING-M/...   \n",
       "14  https://img4.idealista.com/blur/WEB_LISTING-M/...   \n",
       "16  https://img4.idealista.com/blur/WEB_LISTING-M/...   \n",
       "\n",
       "                                          detecciones habitación  \n",
       "2   [microwave, refrigerator, wardrobe, dishwasher...    kitchen  \n",
       "7   [microwave, washbasin, refrigerator, washer, s...    kitchen  \n",
       "13  [microwave, washer, stove, dishwasher, washbasin]    kitchen  \n",
       "14  [washer, microwave, washbasin, refrigerator, s...    kitchen  \n",
       "16  [washer, microwave, space_heater, dishwasher, ...    kitchen  "
      ]
     },
     "execution_count": 526,
     "metadata": {},
     "output_type": "execute_result"
    }
   ],
   "source": [
    "detecciones[detecciones['habitación']=='kitchen'].head(5)"
   ]
  },
  {
   "cell_type": "markdown",
   "metadata": {},
   "source": [
    "- Al comprobar las URLs de forma manual utilizando una muestra aleatoria, se confirma una accuracy de entorno al 90% en el etiquetado."
   ]
  },
  {
   "cell_type": "code",
   "execution_count": 527,
   "metadata": {},
   "outputs": [
    {
     "name": "stdout",
     "output_type": "stream",
     "text": [
      "https://img4.idealista.com/blur/WEB_LISTING-M/0/id.pro.es.image.master/69/26/e9/1278654596.webp\n",
      "https://img4.idealista.com/blur/WEB_LISTING-M/0/id.pro.es.image.master/d2/f1/46/1300762768.webp\n",
      "https://img4.idealista.com/blur/WEB_LISTING-M/90/id.pro.es.image.master/e2/c2/66/1284302405.webp\n",
      "https://img4.idealista.com/blur/WEB_LISTING-M/90/id.pro.es.image.master/27/0a/a8/1159363025.webp\n",
      "https://img4.idealista.com/blur/WEB_LISTING-M/0/id.pro.es.image.master/f9/90/42/1245503450.webp\n",
      "https://img4.idealista.com/blur/WEB_LISTING-M/0/id.pro.es.image.master/ff/30/25/1295857292.webp\n",
      "https://img4.idealista.com/blur/WEB_LISTING-M/0/id.pro.es.image.master/19/5a/4d/1300123246.webp\n",
      "https://img4.idealista.com/blur/WEB_LISTING-M/0/id.pro.es.image.master/7d/20/9c/1289004786.webp\n",
      "https://img4.idealista.com/blur/WEB_LISTING-M/0/id.pro.es.image.master/59/1a/b9/1300629581.webp\n",
      "https://img4.idealista.com/blur/WEB_LISTING-M/0/id.pro.es.image.master/ca/f7/72/918499944.webp\n"
     ]
    }
   ],
   "source": [
    "for value in detecciones[detecciones['habitación']=='kitchen']['url'].sample(10):\n",
    "    print(value)"
   ]
  },
  {
   "cell_type": "markdown",
   "metadata": {},
   "source": [
    "- Como una capa de verificación adicional, vamos a utilizar el modelo BLIP de Salesforce, que crea descripciones de las imágenes, en este caso, de las URLs identificadas por YOLO. Contamos luego el número de ocurrencias de 'kitchen' o 'bathroom'."
   ]
  },
  {
   "cell_type": "code",
   "execution_count": 528,
   "metadata": {},
   "outputs": [
    {
     "name": "stderr",
     "output_type": "stream",
     "text": [
      "265it [03:50,  1.15it/s]\n"
     ]
    },
    {
     "data": {
      "text/plain": [
       "233"
      ]
     },
     "execution_count": 528,
     "metadata": {},
     "output_type": "execute_result"
    }
   ],
   "source": [
    "captions_cocinas = sb.generar_descripciones(gdf, 'url_cocina')\n",
    "sb.contar_palabras(captions_cocinas, 'kitchen')"
   ]
  },
  {
   "cell_type": "code",
   "execution_count": 510,
   "metadata": {},
   "outputs": [
    {
     "name": "stderr",
     "output_type": "stream",
     "text": [
      "266it [04:24,  1.01it/s]\n"
     ]
    },
    {
     "data": {
      "text/plain": [
       "250"
      ]
     },
     "execution_count": 510,
     "metadata": {},
     "output_type": "execute_result"
    }
   ],
   "source": [
    "captions_banios = sb.generar_descripciones(gdf, 'url_banio')\n",
    "sb.contar_palabras(captions_banios, 'bathroom')"
   ]
  },
  {
   "cell_type": "markdown",
   "metadata": {},
   "source": [
    "- De las 266 imágenes identificadas como cocinas por YOLO, BLIP ha coincidido en 234, un 88%. El dato en el caso de los baños mejora, habiendo encontrado 250 coincidencias, un 94%.\n",
    "\n",
    "- Conocedores de que, habrá falsos negativos y falsos positivos en ambos modelos, el alto porcentaje de coincidencias en ambos casos nos indica que la fiabilidad del primer cribado es alta."
   ]
  },
  {
   "cell_type": "markdown",
   "metadata": {},
   "source": [
    "- Una observación adicional a lo detectado en el EDA es que, aquellos anuncios en que hemos rellenado el valor nulo del anunciante con 'ND', corresponden generalmente a particulares, lo cual es relevante porque podría significar entorno a un 3% de ahorro en el valor de compra."
   ]
  },
  {
   "cell_type": "code",
   "execution_count": 529,
   "metadata": {},
   "outputs": [
    {
     "data": {
      "text/html": [
       "<div>\n",
       "<style scoped>\n",
       "    .dataframe tbody tr th:only-of-type {\n",
       "        vertical-align: middle;\n",
       "    }\n",
       "\n",
       "    .dataframe tbody tr th {\n",
       "        vertical-align: top;\n",
       "    }\n",
       "\n",
       "    .dataframe thead th {\n",
       "        text-align: right;\n",
       "    }\n",
       "</style>\n",
       "<table border=\"1\" class=\"dataframe\">\n",
       "  <thead>\n",
       "    <tr style=\"text-align: right;\">\n",
       "      <th></th>\n",
       "      <th>codigo</th>\n",
       "      <th>precio</th>\n",
       "      <th>precio_por_zona</th>\n",
       "      <th>tipo</th>\n",
       "      <th>exterior</th>\n",
       "      <th>planta</th>\n",
       "      <th>ascensor</th>\n",
       "      <th>tamanio</th>\n",
       "      <th>habitaciones</th>\n",
       "      <th>banios</th>\n",
       "      <th>aire_acondicionado</th>\n",
       "      <th>trastero</th>\n",
       "      <th>terraza</th>\n",
       "      <th>patio</th>\n",
       "      <th>estado</th>\n",
       "      <th>direccion</th>\n",
       "      <th>descripcion</th>\n",
       "      <th>anunciante</th>\n",
       "      <th>contacto</th>\n",
       "      <th>urls_imagenes</th>\n",
       "      <th>distrito</th>\n",
       "      <th>geometry</th>\n",
       "      <th>alquiler_predicho</th>\n",
       "      <th>url_cocina</th>\n",
       "      <th>url_banio</th>\n",
       "    </tr>\n",
       "  </thead>\n",
       "  <tbody>\n",
       "    <tr>\n",
       "      <th>234</th>\n",
       "      <td>102216234</td>\n",
       "      <td>144900.0</td>\n",
       "      <td>1932.0</td>\n",
       "      <td>piso</td>\n",
       "      <td>True</td>\n",
       "      <td>3</td>\n",
       "      <td>False</td>\n",
       "      <td>75.0</td>\n",
       "      <td>4</td>\n",
       "      <td>1</td>\n",
       "      <td>False</td>\n",
       "      <td>False</td>\n",
       "      <td>True</td>\n",
       "      <td>False</td>\n",
       "      <td>good</td>\n",
       "      <td>calle Portugal, 16</td>\n",
       "      <td>Piso ubicado en la zona universitaria, en CALL...</td>\n",
       "      <td>ND</td>\n",
       "      <td>652561233</td>\n",
       "      <td>['https://img4.idealista.com/blur/WEB_LISTING-...</td>\n",
       "      <td>Delicias</td>\n",
       "      <td>POINT (-0.90189 41.65036)</td>\n",
       "      <td>913.0</td>\n",
       "      <td>https://img4.idealista.com/blur/WEB_LISTING-M/...</td>\n",
       "      <td>https://img4.idealista.com/blur/WEB_LISTING-M/...</td>\n",
       "    </tr>\n",
       "    <tr>\n",
       "      <th>66</th>\n",
       "      <td>106918117</td>\n",
       "      <td>134000.0</td>\n",
       "      <td>2436.0</td>\n",
       "      <td>piso</td>\n",
       "      <td>True</td>\n",
       "      <td>4</td>\n",
       "      <td>False</td>\n",
       "      <td>55.0</td>\n",
       "      <td>2</td>\n",
       "      <td>1</td>\n",
       "      <td>True</td>\n",
       "      <td>False</td>\n",
       "      <td>False</td>\n",
       "      <td>False</td>\n",
       "      <td>good</td>\n",
       "      <td>calle del Río Duero, 30</td>\n",
       "      <td>Esta encantadora y acogedora vivienda, con un ...</td>\n",
       "      <td>ND</td>\n",
       "      <td>ND</td>\n",
       "      <td>['https://img4.idealista.com/blur/WEB_LISTING-...</td>\n",
       "      <td>La Almozara</td>\n",
       "      <td>POINT (-0.89903 41.65904)</td>\n",
       "      <td>686.0</td>\n",
       "      <td>https://img4.idealista.com/blur/WEB_LISTING-M/...</td>\n",
       "      <td>https://img4.idealista.com/blur/WEB_LISTING-M/...</td>\n",
       "    </tr>\n",
       "  </tbody>\n",
       "</table>\n",
       "</div>"
      ],
      "text/plain": [
       "        codigo    precio  precio_por_zona  tipo exterior planta ascensor  \\\n",
       "234  102216234  144900.0           1932.0  piso     True      3    False   \n",
       "66   106918117  134000.0           2436.0  piso     True      4    False   \n",
       "\n",
       "     tamanio  habitaciones  banios aire_acondicionado trastero terraza  patio  \\\n",
       "234     75.0             4       1              False    False    True  False   \n",
       "66      55.0             2       1               True    False   False  False   \n",
       "\n",
       "    estado                direccion  \\\n",
       "234   good       calle Portugal, 16   \n",
       "66    good  calle del Río Duero, 30   \n",
       "\n",
       "                                           descripcion anunciante   contacto  \\\n",
       "234  Piso ubicado en la zona universitaria, en CALL...         ND  652561233   \n",
       "66   Esta encantadora y acogedora vivienda, con un ...         ND         ND   \n",
       "\n",
       "                                         urls_imagenes     distrito  \\\n",
       "234  ['https://img4.idealista.com/blur/WEB_LISTING-...     Delicias   \n",
       "66   ['https://img4.idealista.com/blur/WEB_LISTING-...  La Almozara   \n",
       "\n",
       "                      geometry  alquiler_predicho  \\\n",
       "234  POINT (-0.90189 41.65036)              913.0   \n",
       "66   POINT (-0.89903 41.65904)              686.0   \n",
       "\n",
       "                                            url_cocina  \\\n",
       "234  https://img4.idealista.com/blur/WEB_LISTING-M/...   \n",
       "66   https://img4.idealista.com/blur/WEB_LISTING-M/...   \n",
       "\n",
       "                                             url_banio  \n",
       "234  https://img4.idealista.com/blur/WEB_LISTING-M/...  \n",
       "66   https://img4.idealista.com/blur/WEB_LISTING-M/...  "
      ]
     },
     "execution_count": 529,
     "metadata": {},
     "output_type": "execute_result"
    }
   ],
   "source": [
    "gdf[gdf['anunciante']=='ND'].sample(2)"
   ]
  },
  {
   "cell_type": "markdown",
   "metadata": {},
   "source": [
    "- El siguiente paso será utilizar la API de Anthropic, y específicamente el modelo Sonnet, para asignar una puntuación del 1 al 10 al estado de la estancia, y una estimación de los metros cuadrados, que es una consideración que ha surgido durante el desarrollo y la fase de pruebas del proyecto.\n",
    "\n",
    "- El prompt de sistema es similar a este:\n",
    "\n",
    "<div style=\"background-color:rgb(149, 222, 237); padding: 10px; border-left: 6px solid #000080; color: black; border-radius: 10px;\">\n",
    "You are an AI image analysis system specialized in evaluating property conditions. Your task is to analyze multiple property images in batch and provide a precise evaluation.\n",
    "Instructions for Analysis:\n",
    "\n",
    "Analyze each pair of images:\n",
    "\n",
    "Image 1: Kitchen\n",
    "Image 2: Bathroom\n",
    "\n",
    "Evaluation Criteria:\n",
    "\n",
    "Ratings: Whole numbers 1-5\n",
    "1: Very poor (complete renovation required)\n",
    "2: Poor (major renovations needed)\n",
    "3: Fair (some renovations needed)\n",
    "4: Good (minor improvements required)\n",
    "5: Excellent (no renovations needed)\n",
    "\n",
    "Sizes: Whole numbers in square meters (m²)\n",
    "</div>\n",
    "\n",
    "- Como puede verse en el prompt, el resultado de la consulta son 4 valores separados por comas, con la función `analizar_propiedades`, separaremos esos resultados y los asignaremos a 4 nuevas columnas del dataframe. Para tener consultas más eficientes, se enviarán en lotes, o *batches*, que corresponden a grupos de viviendas. Este batch más el dataframe con las URLs identificadas son los parámetros de la función."
   ]
  },
  {
   "cell_type": "code",
   "execution_count": 530,
   "metadata": {},
   "outputs": [],
   "source": [
    "df_sample = gdf.head(3)"
   ]
  },
  {
   "cell_type": "code",
   "execution_count": 532,
   "metadata": {},
   "outputs": [
    {
     "data": {
      "application/vnd.jupyter.widget-view+json": {
       "model_id": "d05c05a2319c4afa91af381b40899b33",
       "version_major": 2,
       "version_minor": 0
      },
      "text/plain": [
       "Procesando lotes:   0%|          | 0/1 [00:00<?, ?it/s]"
      ]
     },
     "metadata": {},
     "output_type": "display_data"
    }
   ],
   "source": [
    "df_sample, resultados = ss.analizar_propiedades(df_sample, batch=3)"
   ]
  },
  {
   "cell_type": "code",
   "execution_count": 533,
   "metadata": {},
   "outputs": [
    {
     "data": {
      "text/html": [
       "<div>\n",
       "<style scoped>\n",
       "    .dataframe tbody tr th:only-of-type {\n",
       "        vertical-align: middle;\n",
       "    }\n",
       "\n",
       "    .dataframe tbody tr th {\n",
       "        vertical-align: top;\n",
       "    }\n",
       "\n",
       "    .dataframe thead th {\n",
       "        text-align: right;\n",
       "    }\n",
       "</style>\n",
       "<table border=\"1\" class=\"dataframe\">\n",
       "  <thead>\n",
       "    <tr style=\"text-align: right;\">\n",
       "      <th></th>\n",
       "      <th>codigo</th>\n",
       "      <th>precio</th>\n",
       "      <th>precio_por_zona</th>\n",
       "      <th>tipo</th>\n",
       "      <th>exterior</th>\n",
       "      <th>planta</th>\n",
       "      <th>ascensor</th>\n",
       "      <th>tamanio</th>\n",
       "      <th>habitaciones</th>\n",
       "      <th>banios</th>\n",
       "      <th>aire_acondicionado</th>\n",
       "      <th>trastero</th>\n",
       "      <th>terraza</th>\n",
       "      <th>patio</th>\n",
       "      <th>estado</th>\n",
       "      <th>direccion</th>\n",
       "      <th>descripcion</th>\n",
       "      <th>anunciante</th>\n",
       "      <th>contacto</th>\n",
       "      <th>urls_imagenes</th>\n",
       "      <th>distrito</th>\n",
       "      <th>geometry</th>\n",
       "      <th>alquiler_predicho</th>\n",
       "      <th>url_cocina</th>\n",
       "      <th>url_banio</th>\n",
       "      <th>puntuacion_cocina</th>\n",
       "      <th>puntuacion_banio</th>\n",
       "      <th>mts_cocina</th>\n",
       "      <th>mts_banio</th>\n",
       "    </tr>\n",
       "  </thead>\n",
       "  <tbody>\n",
       "    <tr>\n",
       "      <th>0</th>\n",
       "      <td>104792745</td>\n",
       "      <td>149900.0</td>\n",
       "      <td>1180.0</td>\n",
       "      <td>piso</td>\n",
       "      <td>True</td>\n",
       "      <td>4</td>\n",
       "      <td>True</td>\n",
       "      <td>127.0</td>\n",
       "      <td>3</td>\n",
       "      <td>2</td>\n",
       "      <td>False</td>\n",
       "      <td>False</td>\n",
       "      <td>False</td>\n",
       "      <td>True</td>\n",
       "      <td>good</td>\n",
       "      <td>carretera de Huesca, 21</td>\n",
       "      <td>Junto a la Academia General Militar, en carret...</td>\n",
       "      <td>FINCAS RUIZ</td>\n",
       "      <td>876210884</td>\n",
       "      <td>['https://img4.idealista.com/blur/WEB_LISTING-...</td>\n",
       "      <td>Distrito Rural</td>\n",
       "      <td>POINT (-0.86935 41.6973)</td>\n",
       "      <td>1180.0</td>\n",
       "      <td>https://img4.idealista.com/blur/WEB_LISTING-M/...</td>\n",
       "      <td>https://img4.idealista.com/blur/WEB_LISTING-M/...</td>\n",
       "      <td>4</td>\n",
       "      <td>5</td>\n",
       "      <td>20</td>\n",
       "      <td>5</td>\n",
       "    </tr>\n",
       "    <tr>\n",
       "      <th>1</th>\n",
       "      <td>106086132</td>\n",
       "      <td>139900.0</td>\n",
       "      <td>1686.0</td>\n",
       "      <td>piso</td>\n",
       "      <td>True</td>\n",
       "      <td>3</td>\n",
       "      <td>True</td>\n",
       "      <td>83.0</td>\n",
       "      <td>2</td>\n",
       "      <td>1</td>\n",
       "      <td>False</td>\n",
       "      <td>False</td>\n",
       "      <td>True</td>\n",
       "      <td>False</td>\n",
       "      <td>good</td>\n",
       "      <td>calle de Portugal</td>\n",
       "      <td>Financiación hipoteca 100% ¡oportunidad única ...</td>\n",
       "      <td>ciz inmobiliaria</td>\n",
       "      <td>876210272</td>\n",
       "      <td>['https://img4.idealista.com/blur/WEB_LISTING-...</td>\n",
       "      <td>Delicias</td>\n",
       "      <td>POINT (-0.90232 41.65202)</td>\n",
       "      <td>761.0</td>\n",
       "      <td>https://img4.idealista.com/blur/WEB_LISTING-M/...</td>\n",
       "      <td>https://img4.idealista.com/blur/WEB_LISTING-M/...</td>\n",
       "      <td>4</td>\n",
       "      <td>4</td>\n",
       "      <td>18</td>\n",
       "      <td>6</td>\n",
       "    </tr>\n",
       "    <tr>\n",
       "      <th>2</th>\n",
       "      <td>105844791</td>\n",
       "      <td>149900.0</td>\n",
       "      <td>1162.0</td>\n",
       "      <td>piso</td>\n",
       "      <td>True</td>\n",
       "      <td>4</td>\n",
       "      <td>True</td>\n",
       "      <td>129.0</td>\n",
       "      <td>3</td>\n",
       "      <td>2</td>\n",
       "      <td>False</td>\n",
       "      <td>False</td>\n",
       "      <td>False</td>\n",
       "      <td>False</td>\n",
       "      <td>good</td>\n",
       "      <td>carretera de Huesca</td>\n",
       "      <td>Financiación hipoteca 100%. ¡oportunidad única...</td>\n",
       "      <td>ciz inmobiliaria</td>\n",
       "      <td>876210272</td>\n",
       "      <td>['https://img4.idealista.com/blur/WEB_LISTING-...</td>\n",
       "      <td>Distrito Rural</td>\n",
       "      <td>POINT (-0.87 41.69848)</td>\n",
       "      <td>1186.0</td>\n",
       "      <td>https://img4.idealista.com/blur/WEB_LISTING-M/...</td>\n",
       "      <td>https://img4.idealista.com/blur/WEB_LISTING-M/...</td>\n",
       "      <td>4</td>\n",
       "      <td>4</td>\n",
       "      <td>16</td>\n",
       "      <td>4</td>\n",
       "    </tr>\n",
       "  </tbody>\n",
       "</table>\n",
       "</div>"
      ],
      "text/plain": [
       "      codigo    precio  precio_por_zona  tipo exterior planta ascensor  \\\n",
       "0  104792745  149900.0           1180.0  piso     True      4     True   \n",
       "1  106086132  139900.0           1686.0  piso     True      3     True   \n",
       "2  105844791  149900.0           1162.0  piso     True      4     True   \n",
       "\n",
       "   tamanio  habitaciones  banios aire_acondicionado trastero terraza  patio  \\\n",
       "0    127.0             3       2              False    False   False   True   \n",
       "1     83.0             2       1              False    False    True  False   \n",
       "2    129.0             3       2              False    False   False  False   \n",
       "\n",
       "  estado                direccion  \\\n",
       "0   good  carretera de Huesca, 21   \n",
       "1   good        calle de Portugal   \n",
       "2   good      carretera de Huesca   \n",
       "\n",
       "                                         descripcion        anunciante  \\\n",
       "0  Junto a la Academia General Militar, en carret...       FINCAS RUIZ   \n",
       "1  Financiación hipoteca 100% ¡oportunidad única ...  ciz inmobiliaria   \n",
       "2  Financiación hipoteca 100%. ¡oportunidad única...  ciz inmobiliaria   \n",
       "\n",
       "    contacto                                      urls_imagenes  \\\n",
       "0  876210884  ['https://img4.idealista.com/blur/WEB_LISTING-...   \n",
       "1  876210272  ['https://img4.idealista.com/blur/WEB_LISTING-...   \n",
       "2  876210272  ['https://img4.idealista.com/blur/WEB_LISTING-...   \n",
       "\n",
       "         distrito                   geometry  alquiler_predicho  \\\n",
       "0  Distrito Rural   POINT (-0.86935 41.6973)             1180.0   \n",
       "1        Delicias  POINT (-0.90232 41.65202)              761.0   \n",
       "2  Distrito Rural     POINT (-0.87 41.69848)             1186.0   \n",
       "\n",
       "                                          url_cocina  \\\n",
       "0  https://img4.idealista.com/blur/WEB_LISTING-M/...   \n",
       "1  https://img4.idealista.com/blur/WEB_LISTING-M/...   \n",
       "2  https://img4.idealista.com/blur/WEB_LISTING-M/...   \n",
       "\n",
       "                                           url_banio puntuacion_cocina  \\\n",
       "0  https://img4.idealista.com/blur/WEB_LISTING-M/...                 4   \n",
       "1  https://img4.idealista.com/blur/WEB_LISTING-M/...                 4   \n",
       "2  https://img4.idealista.com/blur/WEB_LISTING-M/...                 4   \n",
       "\n",
       "  puntuacion_banio mts_cocina mts_banio  \n",
       "0                5         20         5  \n",
       "1                4         18         6  \n",
       "2                4         16         4  "
      ]
     },
     "execution_count": 533,
     "metadata": {},
     "output_type": "execute_result"
    }
   ],
   "source": [
    "df_sample"
   ]
  },
  {
   "cell_type": "code",
   "execution_count": 547,
   "metadata": {},
   "outputs": [],
   "source": [
    "df_sample.to_pickle(\"../streamlit/ejemplo.pkl\")"
   ]
  },
  {
   "cell_type": "code",
   "execution_count": 334,
   "metadata": {},
   "outputs": [],
   "source": [
    "gdf.to_pickle(\"../data/transformed/final_tags.pkl\")"
   ]
  },
  {
   "cell_type": "code",
   "execution_count": 335,
   "metadata": {},
   "outputs": [
    {
     "data": {
      "text/plain": [
       "278"
      ]
     },
     "execution_count": 335,
     "metadata": {},
     "output_type": "execute_result"
    }
   ],
   "source": [
    "df_importado = pd.read_pickle(\"../data/transformed/final_tags.pkl\")\n",
    "df_importado.shape[0]"
   ]
  },
  {
   "cell_type": "code",
   "execution_count": 536,
   "metadata": {},
   "outputs": [],
   "source": [
    "df_ej = sr.calcular_rentabilidad_inmobiliaria_wrapper(df_sample, porcentaje_entrada=0.2, coste_reformas=10000, comision_agencia=5000, anios=30, tin=0.03, seguro_vida=0, tipo_irpf=0.37, porcentaje_amortizacion=0.4)\n",
    "df_ej.to_csv(\"../ejemplo.csv\")"
   ]
  },
  {
   "cell_type": "code",
   "execution_count": 538,
   "metadata": {},
   "outputs": [
    {
     "data": {
      "text/html": [
       "<div>\n",
       "<style scoped>\n",
       "    .dataframe tbody tr th:only-of-type {\n",
       "        vertical-align: middle;\n",
       "    }\n",
       "\n",
       "    .dataframe tbody tr th {\n",
       "        vertical-align: top;\n",
       "    }\n",
       "\n",
       "    .dataframe thead th {\n",
       "        text-align: right;\n",
       "    }\n",
       "</style>\n",
       "<table border=\"1\" class=\"dataframe\">\n",
       "  <thead>\n",
       "    <tr style=\"text-align: right;\">\n",
       "      <th></th>\n",
       "      <th>codigo</th>\n",
       "      <th>precio</th>\n",
       "      <th>precio_por_zona</th>\n",
       "      <th>tipo</th>\n",
       "      <th>exterior</th>\n",
       "      <th>planta</th>\n",
       "      <th>ascensor</th>\n",
       "      <th>tamanio</th>\n",
       "      <th>habitaciones</th>\n",
       "      <th>banios</th>\n",
       "      <th>aire_acondicionado</th>\n",
       "      <th>trastero</th>\n",
       "      <th>terraza</th>\n",
       "      <th>patio</th>\n",
       "      <th>estado</th>\n",
       "      <th>direccion</th>\n",
       "      <th>descripcion</th>\n",
       "      <th>anunciante</th>\n",
       "      <th>contacto</th>\n",
       "      <th>urls_imagenes</th>\n",
       "      <th>distrito</th>\n",
       "      <th>geometry</th>\n",
       "      <th>alquiler_predicho</th>\n",
       "      <th>url_cocina</th>\n",
       "      <th>url_banio</th>\n",
       "      <th>puntuacion_cocina</th>\n",
       "      <th>puntuacion_banio</th>\n",
       "      <th>mts_cocina</th>\n",
       "      <th>mts_banio</th>\n",
       "      <th>Coste Total</th>\n",
       "      <th>Rentabilidad Bruta</th>\n",
       "      <th>Beneficio Antes de Impuestos</th>\n",
       "      <th>Rentabilidad Neta</th>\n",
       "      <th>Cuota Mensual Hipoteca</th>\n",
       "      <th>Cash Necesario Compra</th>\n",
       "      <th>Cash Total Compra y Reforma</th>\n",
       "      <th>Beneficio Neto</th>\n",
       "      <th>Cashflow Antes de Impuestos</th>\n",
       "      <th>Cashflow Después de Impuestos</th>\n",
       "      <th>ROCE</th>\n",
       "      <th>ROCE (Años)</th>\n",
       "      <th>Cash-on-Cash Return</th>\n",
       "      <th>COCR (Años)</th>\n",
       "    </tr>\n",
       "  </thead>\n",
       "  <tbody>\n",
       "    <tr>\n",
       "      <th>2</th>\n",
       "      <td>105844791</td>\n",
       "      <td>149900.0</td>\n",
       "      <td>1162.0</td>\n",
       "      <td>piso</td>\n",
       "      <td>True</td>\n",
       "      <td>4</td>\n",
       "      <td>True</td>\n",
       "      <td>129.0</td>\n",
       "      <td>3</td>\n",
       "      <td>2</td>\n",
       "      <td>False</td>\n",
       "      <td>False</td>\n",
       "      <td>False</td>\n",
       "      <td>False</td>\n",
       "      <td>good</td>\n",
       "      <td>carretera de Huesca</td>\n",
       "      <td>Financiación hipoteca 100%. ¡oportunidad única...</td>\n",
       "      <td>ciz inmobiliaria</td>\n",
       "      <td>876210272</td>\n",
       "      <td>['https://img4.idealista.com/blur/WEB_LISTING-...</td>\n",
       "      <td>Distrito Rural</td>\n",
       "      <td>POINT (-0.87 41.69848)</td>\n",
       "      <td>1186.0</td>\n",
       "      <td>https://img4.idealista.com/blur/WEB_LISTING-M/...</td>\n",
       "      <td>https://img4.idealista.com/blur/WEB_LISTING-M/...</td>\n",
       "      <td>4</td>\n",
       "      <td>4</td>\n",
       "      <td>16</td>\n",
       "      <td>4</td>\n",
       "      <td>179890.0</td>\n",
       "      <td>7.91</td>\n",
       "      <td>8392.27</td>\n",
       "      <td>3.96</td>\n",
       "      <td>-505.59</td>\n",
       "      <td>49970.0</td>\n",
       "      <td>54970.0</td>\n",
       "      <td>7128.25</td>\n",
       "      <td>4394.93</td>\n",
       "      <td>3130.92</td>\n",
       "      <td>23.73</td>\n",
       "      <td>4.21</td>\n",
       "      <td>5.22</td>\n",
       "      <td>19.15</td>\n",
       "    </tr>\n",
       "    <tr>\n",
       "      <th>0</th>\n",
       "      <td>104792745</td>\n",
       "      <td>149900.0</td>\n",
       "      <td>1180.0</td>\n",
       "      <td>piso</td>\n",
       "      <td>True</td>\n",
       "      <td>4</td>\n",
       "      <td>True</td>\n",
       "      <td>127.0</td>\n",
       "      <td>3</td>\n",
       "      <td>2</td>\n",
       "      <td>False</td>\n",
       "      <td>False</td>\n",
       "      <td>False</td>\n",
       "      <td>True</td>\n",
       "      <td>good</td>\n",
       "      <td>carretera de Huesca, 21</td>\n",
       "      <td>Junto a la Academia General Militar, en carret...</td>\n",
       "      <td>FINCAS RUIZ</td>\n",
       "      <td>876210884</td>\n",
       "      <td>['https://img4.idealista.com/blur/WEB_LISTING-...</td>\n",
       "      <td>Distrito Rural</td>\n",
       "      <td>POINT (-0.86935 41.6973)</td>\n",
       "      <td>1180.0</td>\n",
       "      <td>https://img4.idealista.com/blur/WEB_LISTING-M/...</td>\n",
       "      <td>https://img4.idealista.com/blur/WEB_LISTING-M/...</td>\n",
       "      <td>4</td>\n",
       "      <td>5</td>\n",
       "      <td>20</td>\n",
       "      <td>5</td>\n",
       "      <td>179890.0</td>\n",
       "      <td>7.87</td>\n",
       "      <td>8333.95</td>\n",
       "      <td>3.94</td>\n",
       "      <td>-505.59</td>\n",
       "      <td>49970.0</td>\n",
       "      <td>54970.0</td>\n",
       "      <td>7082.88</td>\n",
       "      <td>4336.61</td>\n",
       "      <td>3085.54</td>\n",
       "      <td>23.61</td>\n",
       "      <td>4.24</td>\n",
       "      <td>5.15</td>\n",
       "      <td>19.44</td>\n",
       "    </tr>\n",
       "    <tr>\n",
       "      <th>1</th>\n",
       "      <td>106086132</td>\n",
       "      <td>139900.0</td>\n",
       "      <td>1686.0</td>\n",
       "      <td>piso</td>\n",
       "      <td>True</td>\n",
       "      <td>3</td>\n",
       "      <td>True</td>\n",
       "      <td>83.0</td>\n",
       "      <td>2</td>\n",
       "      <td>1</td>\n",
       "      <td>False</td>\n",
       "      <td>False</td>\n",
       "      <td>True</td>\n",
       "      <td>False</td>\n",
       "      <td>good</td>\n",
       "      <td>calle de Portugal</td>\n",
       "      <td>Financiación hipoteca 100% ¡oportunidad única ...</td>\n",
       "      <td>ciz inmobiliaria</td>\n",
       "      <td>876210272</td>\n",
       "      <td>['https://img4.idealista.com/blur/WEB_LISTING-...</td>\n",
       "      <td>Delicias</td>\n",
       "      <td>POINT (-0.90232 41.65202)</td>\n",
       "      <td>761.0</td>\n",
       "      <td>https://img4.idealista.com/blur/WEB_LISTING-M/...</td>\n",
       "      <td>https://img4.idealista.com/blur/WEB_LISTING-M/...</td>\n",
       "      <td>4</td>\n",
       "      <td>4</td>\n",
       "      <td>18</td>\n",
       "      <td>6</td>\n",
       "      <td>168890.0</td>\n",
       "      <td>5.41</td>\n",
       "      <td>4439.81</td>\n",
       "      <td>2.38</td>\n",
       "      <td>-471.86</td>\n",
       "      <td>46970.0</td>\n",
       "      <td>51970.0</td>\n",
       "      <td>4019.94</td>\n",
       "      <td>709.14</td>\n",
       "      <td>289.27</td>\n",
       "      <td>16.03</td>\n",
       "      <td>6.24</td>\n",
       "      <td>0.51</td>\n",
       "      <td>196.94</td>\n",
       "    </tr>\n",
       "  </tbody>\n",
       "</table>\n",
       "</div>"
      ],
      "text/plain": [
       "      codigo    precio  precio_por_zona  tipo exterior planta ascensor  \\\n",
       "2  105844791  149900.0           1162.0  piso     True      4     True   \n",
       "0  104792745  149900.0           1180.0  piso     True      4     True   \n",
       "1  106086132  139900.0           1686.0  piso     True      3     True   \n",
       "\n",
       "   tamanio  habitaciones  banios aire_acondicionado trastero terraza  patio  \\\n",
       "2    129.0             3       2              False    False   False  False   \n",
       "0    127.0             3       2              False    False   False   True   \n",
       "1     83.0             2       1              False    False    True  False   \n",
       "\n",
       "  estado                direccion  \\\n",
       "2   good      carretera de Huesca   \n",
       "0   good  carretera de Huesca, 21   \n",
       "1   good        calle de Portugal   \n",
       "\n",
       "                                         descripcion        anunciante  \\\n",
       "2  Financiación hipoteca 100%. ¡oportunidad única...  ciz inmobiliaria   \n",
       "0  Junto a la Academia General Militar, en carret...       FINCAS RUIZ   \n",
       "1  Financiación hipoteca 100% ¡oportunidad única ...  ciz inmobiliaria   \n",
       "\n",
       "    contacto                                      urls_imagenes  \\\n",
       "2  876210272  ['https://img4.idealista.com/blur/WEB_LISTING-...   \n",
       "0  876210884  ['https://img4.idealista.com/blur/WEB_LISTING-...   \n",
       "1  876210272  ['https://img4.idealista.com/blur/WEB_LISTING-...   \n",
       "\n",
       "         distrito                   geometry  alquiler_predicho  \\\n",
       "2  Distrito Rural     POINT (-0.87 41.69848)             1186.0   \n",
       "0  Distrito Rural   POINT (-0.86935 41.6973)             1180.0   \n",
       "1        Delicias  POINT (-0.90232 41.65202)              761.0   \n",
       "\n",
       "                                          url_cocina  \\\n",
       "2  https://img4.idealista.com/blur/WEB_LISTING-M/...   \n",
       "0  https://img4.idealista.com/blur/WEB_LISTING-M/...   \n",
       "1  https://img4.idealista.com/blur/WEB_LISTING-M/...   \n",
       "\n",
       "                                           url_banio puntuacion_cocina  \\\n",
       "2  https://img4.idealista.com/blur/WEB_LISTING-M/...                 4   \n",
       "0  https://img4.idealista.com/blur/WEB_LISTING-M/...                 4   \n",
       "1  https://img4.idealista.com/blur/WEB_LISTING-M/...                 4   \n",
       "\n",
       "  puntuacion_banio mts_cocina mts_banio  Coste Total  Rentabilidad Bruta  \\\n",
       "2                4         16         4     179890.0                7.91   \n",
       "0                5         20         5     179890.0                7.87   \n",
       "1                4         18         6     168890.0                5.41   \n",
       "\n",
       "   Beneficio Antes de Impuestos  Rentabilidad Neta  Cuota Mensual Hipoteca  \\\n",
       "2                       8392.27               3.96                 -505.59   \n",
       "0                       8333.95               3.94                 -505.59   \n",
       "1                       4439.81               2.38                 -471.86   \n",
       "\n",
       "   Cash Necesario Compra  Cash Total Compra y Reforma  Beneficio Neto  \\\n",
       "2                49970.0                      54970.0         7128.25   \n",
       "0                49970.0                      54970.0         7082.88   \n",
       "1                46970.0                      51970.0         4019.94   \n",
       "\n",
       "   Cashflow Antes de Impuestos  Cashflow Después de Impuestos   ROCE  \\\n",
       "2                      4394.93                        3130.92  23.73   \n",
       "0                      4336.61                        3085.54  23.61   \n",
       "1                       709.14                         289.27  16.03   \n",
       "\n",
       "   ROCE (Años)  Cash-on-Cash Return  COCR (Años)  \n",
       "2         4.21                 5.22        19.15  \n",
       "0         4.24                 5.15        19.44  \n",
       "1         6.24                 0.51       196.94  "
      ]
     },
     "execution_count": 538,
     "metadata": {},
     "output_type": "execute_result"
    }
   ],
   "source": [
    "df_ej"
   ]
  }
 ],
 "metadata": {
  "kernelspec": {
   "display_name": "Python 3",
   "language": "python",
   "name": "python3"
  },
  "language_info": {
   "codemirror_mode": {
    "name": "ipython",
    "version": 3
   },
   "file_extension": ".py",
   "mimetype": "text/x-python",
   "name": "python",
   "nbconvert_exporter": "python",
   "pygments_lexer": "ipython3",
   "version": "3.9.6"
  }
 },
 "nbformat": 4,
 "nbformat_minor": 2
}
