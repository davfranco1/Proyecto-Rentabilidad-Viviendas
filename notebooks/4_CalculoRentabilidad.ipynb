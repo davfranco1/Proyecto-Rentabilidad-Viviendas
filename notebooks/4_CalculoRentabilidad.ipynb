{
 "cells": [
  {
   "cell_type": "markdown",
   "metadata": {},
   "source": [
    "# Notebook #4: Cálculo de Rentabilidad\n",
    "\n",
    "- Con los datos extraídos y el modelo de *machine learning* que se ha entrenado para predecir el precio del alquiler, somos capaces de realizar el cálculo de rentabilidad con ayuda de distintas funciones.\n",
    "\n",
    "- Importamos las librerías y soportes."
   ]
  },
  {
   "cell_type": "code",
   "execution_count": 2,
   "metadata": {},
   "outputs": [],
   "source": [
    "%load_ext autoreload\n",
    "%autoreload 2\n",
    "\n",
    "# Tratamiento de datos\n",
    "# -----------------------------------------------------------------------\n",
    "import pandas as pd\n",
    "import geopandas as gpd\n",
    "import numpy as np\n",
    "import pickle\n",
    "pd.set_option('display.max_columns', None) # para poder visualizar todas las columnas de los dfFrames\n",
    "\n",
    "from tqdm import tqdm\n",
    "\n",
    "# Ignorar los warnings\n",
    "# -----------------------------------------------------------------------\n",
    "import warnings\n",
    "warnings.filterwarnings('ignore')\n",
    "\n",
    "# Librería para el acceso a variables y funciones\n",
    "# -----------------------------------------------------------------------\n",
    "import sys\n",
    "sys.path.append(\"../\")\n",
    "from src import soporte_rentabilidad as sr\n",
    "from src import soporte_yolo as sy\n",
    "from src import soporte_scoring as ss\n",
    "from src import soporte_blip as sb\n",
    "from src import soporte_mongo as sm"
   ]
  },
  {
   "cell_type": "markdown",
   "metadata": {},
   "source": [
    "- Como primer paso, definimos una variable con las rutas de los transformers: el encoder, el scaler y el modelo Random Forest.\n",
    "\n",
    "- También vamos a conectarnos a la base de datos de Mongo para obtener el los datos correspondientes a viviendas en venta.\n",
    "\n",
    "- Utilizaremos la función `predecir_alquiler` para aplicar el modelo a la totalidad de viviendas en venta, que devuelve el dataframe con una nueva columna 'alquiler_predicho'. Sus únicos argumentos son el archivo pickle con las viviendas en venta y la variable con las rutas de los transformers."
   ]
  },
  {
   "cell_type": "code",
   "execution_count": 3,
   "metadata": {},
   "outputs": [],
   "source": [
    "paths_transformers = [\"../transformers/target_encoder.pkl\", \"../transformers/scaler.pkl\", \"../transformers/model.pkl\"]\n",
    "bd = sm.conectar_a_mongo(\"ProyectoRentabilidad\")\n",
    "gdf = sm.importar_a_geodataframe(bd, \"venta\")\n",
    "gdf = sr.predecir_alquiler(gdf, paths_transformers)"
   ]
  },
  {
   "cell_type": "markdown",
   "metadata": {},
   "source": [
    "- Comprobamos el dataframe."
   ]
  },
  {
   "cell_type": "markdown",
   "metadata": {},
   "source": [
    "- Para cada vivienda, tenemos una columna que corresponde a una lista con las urls de las imágenes. Para poder identificar cuál corresponde a cada estancia, utilizaremos el modelo YOLOv11, en su versión x y de clasificación, por cuanto no nos interesa determinar la ubicación ni la forma de los objetos en las imágenes, solamente su existencia.\n",
    "\n",
    "- Con la función `identificar_urls_habitaciones`, se añaden etiquetas a la cocina y al baño de cada anuncio. Para optimizar el tiempo de procesamiento, cuando las ha encontrado, no continua con el resto de imágenes, sino que salta al siguiente anuncio.\n",
    "\n",
    "- El resultado es un dataframe con nuevas columnas para la URL del baño y de la cocina. Cuando uno de los dos valores es nulo, elimina esa fila. El return también incluye un dataframe con todas las detecciones de las imágenes procesadas, como una forma de poder validar los resultados."
   ]
  },
  {
   "cell_type": "code",
   "execution_count": 4,
   "metadata": {},
   "outputs": [
    {
     "name": "stderr",
     "output_type": "stream",
     "text": [
      "100%|██████████| 352/352 [53:41<00:00,  9.15s/it]  "
     ]
    },
    {
     "name": "stdout",
     "output_type": "stream",
     "text": [
      "Se han eliminado 116 filas donde 'url_cocina' o 'url_banio' son None o NaN.\n"
     ]
    },
    {
     "name": "stderr",
     "output_type": "stream",
     "text": [
      "\n"
     ]
    }
   ],
   "source": [
    "gdf, detecciones = sy.identificar_urls_habitaciones(gdf, 'urls_imagenes', drop_nulls=True)"
   ]
  },
  {
   "cell_type": "markdown",
   "metadata": {},
   "source": [
    "- Vamos a comprobar el resultado del filtrado.\n",
    "\n",
    "- Además del dataframe con las imágenes filtradas, tenemos un segundo dataframe como retorno, que almacena los elementos que se han detectado en cada imagen, la URL y si ha sido etiquetado como cocina o baño. Esto nos permite realizar generar una métrica sobre la efectividad de YOLO.\n",
    "\n",
    "- De las 365 viviendas en venta, se han encontrado imágenes de baño y cocina para 266. Dado que el cliente objetivo del proyecto no es quién se dedica a reformas, sin poder conocer el estado de estas estancias, el cálculo de rentabilidad puede cambiar significativamente por ser los espacios que cuesta más dinero reformar.\n",
    "\n",
    "- Por ese motivo, las eliminaremos del conjunto de datos con el parámetro *drop nulls*."
   ]
  },
  {
   "cell_type": "code",
   "execution_count": 5,
   "metadata": {},
   "outputs": [
    {
     "data": {
      "text/plain": [
       "266"
      ]
     },
     "execution_count": 5,
     "metadata": {},
     "output_type": "execute_result"
    }
   ],
   "source": [
    "gdf.shape[0]"
   ]
  },
  {
   "cell_type": "code",
   "execution_count": 14,
   "metadata": {},
   "outputs": [],
   "source": [
    "#gdf.to_pickle(\"../data/transformed/final_tags.pkl\")"
   ]
  },
  {
   "cell_type": "code",
   "execution_count": 6,
   "metadata": {},
   "outputs": [
    {
     "data": {
      "text/html": [
       "<div>\n",
       "<style scoped>\n",
       "    .dataframe tbody tr th:only-of-type {\n",
       "        vertical-align: middle;\n",
       "    }\n",
       "\n",
       "    .dataframe tbody tr th {\n",
       "        vertical-align: top;\n",
       "    }\n",
       "\n",
       "    .dataframe thead th {\n",
       "        text-align: right;\n",
       "    }\n",
       "</style>\n",
       "<table border=\"1\" class=\"dataframe\">\n",
       "  <thead>\n",
       "    <tr style=\"text-align: right;\">\n",
       "      <th></th>\n",
       "      <th>url</th>\n",
       "      <th>detecciones</th>\n",
       "      <th>habitación</th>\n",
       "    </tr>\n",
       "  </thead>\n",
       "  <tbody>\n",
       "    <tr>\n",
       "      <th>2</th>\n",
       "      <td>https://img4.idealista.com/blur/WEB_LISTING-M/...</td>\n",
       "      <td>[microwave, refrigerator, wardrobe, dishwasher...</td>\n",
       "      <td>kitchen</td>\n",
       "    </tr>\n",
       "    <tr>\n",
       "      <th>7</th>\n",
       "      <td>https://img4.idealista.com/blur/WEB_LISTING-M/...</td>\n",
       "      <td>[microwave, washbasin, refrigerator, washer, s...</td>\n",
       "      <td>kitchen</td>\n",
       "    </tr>\n",
       "    <tr>\n",
       "      <th>13</th>\n",
       "      <td>https://img4.idealista.com/blur/WEB_LISTING-M/...</td>\n",
       "      <td>[microwave, washer, stove, dishwasher, washbasin]</td>\n",
       "      <td>kitchen</td>\n",
       "    </tr>\n",
       "    <tr>\n",
       "      <th>14</th>\n",
       "      <td>https://img4.idealista.com/blur/WEB_LISTING-M/...</td>\n",
       "      <td>[washer, microwave, washbasin, refrigerator, s...</td>\n",
       "      <td>kitchen</td>\n",
       "    </tr>\n",
       "    <tr>\n",
       "      <th>16</th>\n",
       "      <td>https://img4.idealista.com/blur/WEB_LISTING-M/...</td>\n",
       "      <td>[washer, microwave, space_heater, dishwasher, ...</td>\n",
       "      <td>kitchen</td>\n",
       "    </tr>\n",
       "  </tbody>\n",
       "</table>\n",
       "</div>"
      ],
      "text/plain": [
       "                                                  url  \\\n",
       "2   https://img4.idealista.com/blur/WEB_LISTING-M/...   \n",
       "7   https://img4.idealista.com/blur/WEB_LISTING-M/...   \n",
       "13  https://img4.idealista.com/blur/WEB_LISTING-M/...   \n",
       "14  https://img4.idealista.com/blur/WEB_LISTING-M/...   \n",
       "16  https://img4.idealista.com/blur/WEB_LISTING-M/...   \n",
       "\n",
       "                                          detecciones habitación  \n",
       "2   [microwave, refrigerator, wardrobe, dishwasher...    kitchen  \n",
       "7   [microwave, washbasin, refrigerator, washer, s...    kitchen  \n",
       "13  [microwave, washer, stove, dishwasher, washbasin]    kitchen  \n",
       "14  [washer, microwave, washbasin, refrigerator, s...    kitchen  \n",
       "16  [washer, microwave, space_heater, dishwasher, ...    kitchen  "
      ]
     },
     "execution_count": 6,
     "metadata": {},
     "output_type": "execute_result"
    }
   ],
   "source": [
    "detecciones[detecciones['habitación']=='kitchen'].head(5)"
   ]
  },
  {
   "cell_type": "markdown",
   "metadata": {},
   "source": [
    "- Al comprobar las URLs de forma manual utilizando una muestra aleatoria, se confirma una accuracy de entorno al 90% en el etiquetado."
   ]
  },
  {
   "cell_type": "code",
   "execution_count": 7,
   "metadata": {},
   "outputs": [
    {
     "name": "stdout",
     "output_type": "stream",
     "text": [
      "https://img4.idealista.com/blur/WEB_LISTING-M/0/id.pro.es.image.master/a5/95/64/918499997.webp\n",
      "https://img4.idealista.com/blur/WEB_LISTING-M/0/id.pro.es.image.master/2a/fb/58/1291969391.webp\n",
      "https://img4.idealista.com/blur/WEB_LISTING-M/0/id.pro.es.image.master/75/88/d3/1296526056.webp\n",
      "https://img4.idealista.com/blur/WEB_LISTING-M/0/id.pro.es.image.master/a1/d1/c1/1297365981.webp\n",
      "https://img4.idealista.com/blur/WEB_LISTING-M/0/id.pro.es.image.master/5d/6d/c6/1300123245.webp\n",
      "https://img4.idealista.com/blur/WEB_LISTING-M/0/id.pro.es.image.master/eb/af/3c/1290783297.webp\n",
      "https://img4.idealista.com/blur/WEB_LISTING-M/0/id.pro.es.image.master/ba/4f/f0/1300146068.webp\n",
      "https://img4.idealista.com/blur/WEB_LISTING-M/0/id.pro.es.image.master/8d/e4/1b/1298117937.webp\n",
      "https://img4.idealista.com/blur/WEB_LISTING-M/0/id.pro.es.image.master/2d/b8/9d/1300229160.webp\n",
      "https://img4.idealista.com/blur/WEB_LISTING-M/0/id.pro.es.image.master/53/8d/25/1296878330.webp\n"
     ]
    }
   ],
   "source": [
    "for value in detecciones[detecciones['habitación']=='kitchen']['url'].sample(10):\n",
    "    print(value)"
   ]
  },
  {
   "cell_type": "markdown",
   "metadata": {},
   "source": [
    "- Como una capa de verificación adicional, vamos a utilizar el modelo BLIP de Salesforce, que crea descripciones de las imágenes, en este caso, de las URLs identificadas por YOLO. Contamos luego el número de ocurrencias de 'kitchen' o 'bathroom'."
   ]
  },
  {
   "cell_type": "code",
   "execution_count": 8,
   "metadata": {},
   "outputs": [
    {
     "name": "stderr",
     "output_type": "stream",
     "text": [
      "266it [03:40,  1.21it/s]\n"
     ]
    },
    {
     "data": {
      "text/plain": [
       "234"
      ]
     },
     "execution_count": 8,
     "metadata": {},
     "output_type": "execute_result"
    }
   ],
   "source": [
    "captions_cocinas = sb.generar_descripciones(gdf, 'url_cocina')\n",
    "sb.contar_palabras(captions_cocinas, 'kitchen')"
   ]
  },
  {
   "cell_type": "code",
   "execution_count": 9,
   "metadata": {},
   "outputs": [
    {
     "name": "stderr",
     "output_type": "stream",
     "text": [
      "266it [03:57,  1.12it/s]\n"
     ]
    },
    {
     "data": {
      "text/plain": [
       "250"
      ]
     },
     "execution_count": 9,
     "metadata": {},
     "output_type": "execute_result"
    }
   ],
   "source": [
    "captions_banios = sb.generar_descripciones(gdf, 'url_banio')\n",
    "sb.contar_palabras(captions_banios, 'bathroom')"
   ]
  },
  {
   "cell_type": "markdown",
   "metadata": {},
   "source": [
    "- De las 266 imágenes identificadas como cocinas por YOLO, BLIP ha coincidido en 234, un 88%. El dato en el caso de los baños mejora, habiendo encontrado 250 coincidencias, un 94%.\n",
    "\n",
    "- Conocedores de que, habrá falsos negativos y falsos positivos en ambos modelos, el alto porcentaje de coincidencias en ambos casos nos indica que la fiabilidad del primer cribado es alta."
   ]
  },
  {
   "cell_type": "markdown",
   "metadata": {},
   "source": [
    "- El siguiente paso será utilizar la API de Anthropic, y específicamente el modelo Sonnet, para asignar una puntuación del 1 al 10 al estado de la estancia, y una estimación de los metros cuadrados, que es una consideración que ha surgido durante el desarrollo y la fase de pruebas del proyecto.\n",
    "\n",
    "- El prompt de sistema es similar a este:\n",
    "\n",
    "<div style=\"background-color:rgb(149, 222, 237); padding: 10px; border-left: 6px solid #000080; color: black; border-radius: 10px;\">\n",
    "You are an AI image analysis system specialized in evaluating property conditions. Your task is to analyze multiple property images in batch and provide a precise evaluation.\n",
    "Instructions for Analysis:\n",
    "\n",
    "Analyze each pair of images:\n",
    "\n",
    "Image 1: Kitchen\n",
    "Image 2: Bathroom\n",
    "\n",
    "Evaluation Criteria:\n",
    "\n",
    "Ratings: Whole numbers 1-5\n",
    "1: Very poor (complete renovation required)\n",
    "2: Poor (major renovations needed)\n",
    "3: Fair (some renovations needed)\n",
    "4: Good (minor improvements required)\n",
    "5: Excellent (no renovations needed)\n",
    "\n",
    "Sizes: Whole numbers in square meters (m²)\n",
    "</div>\n",
    "\n",
    "- Como puede verse en el prompt, el resultado de la consulta son 4 valores separados por comas, con la función `analizar_propiedades`, separaremos esos resultados y los asignaremos a 4 nuevas columnas del dataframe. Para tener consultas más eficientes, se enviarán en lotes, o *batches*, que corresponden a grupos de viviendas. Este batch más el dataframe con las URLs identificadas son los parámetros de la función."
   ]
  },
  {
   "cell_type": "code",
   "execution_count": 10,
   "metadata": {},
   "outputs": [
    {
     "data": {
      "text/html": [
       "<div>\n",
       "<style scoped>\n",
       "    .dataframe tbody tr th:only-of-type {\n",
       "        vertical-align: middle;\n",
       "    }\n",
       "\n",
       "    .dataframe tbody tr th {\n",
       "        vertical-align: top;\n",
       "    }\n",
       "\n",
       "    .dataframe thead th {\n",
       "        text-align: right;\n",
       "    }\n",
       "</style>\n",
       "<table border=\"1\" class=\"dataframe\">\n",
       "  <thead>\n",
       "    <tr style=\"text-align: right;\">\n",
       "      <th></th>\n",
       "      <th>codigo</th>\n",
       "      <th>precio</th>\n",
       "      <th>precio_por_zona</th>\n",
       "      <th>tamanio</th>\n",
       "      <th>habitaciones</th>\n",
       "      <th>banios</th>\n",
       "      <th>alquiler_predicho</th>\n",
       "    </tr>\n",
       "  </thead>\n",
       "  <tbody>\n",
       "    <tr>\n",
       "      <th>count</th>\n",
       "      <td>2.660000e+02</td>\n",
       "      <td>266.000000</td>\n",
       "      <td>266.000000</td>\n",
       "      <td>266.000000</td>\n",
       "      <td>266.000000</td>\n",
       "      <td>266.000000</td>\n",
       "      <td>266.000000</td>\n",
       "    </tr>\n",
       "    <tr>\n",
       "      <th>mean</th>\n",
       "      <td>1.053132e+08</td>\n",
       "      <td>121159.048872</td>\n",
       "      <td>1760.169173</td>\n",
       "      <td>76.736842</td>\n",
       "      <td>2.293233</td>\n",
       "      <td>1.078947</td>\n",
       "      <td>838.375940</td>\n",
       "    </tr>\n",
       "    <tr>\n",
       "      <th>std</th>\n",
       "      <td>5.197263e+06</td>\n",
       "      <td>21279.516803</td>\n",
       "      <td>481.557863</td>\n",
       "      <td>54.852653</td>\n",
       "      <td>0.905180</td>\n",
       "      <td>0.270165</td>\n",
       "      <td>125.886418</td>\n",
       "    </tr>\n",
       "    <tr>\n",
       "      <th>min</th>\n",
       "      <td>3.511038e+07</td>\n",
       "      <td>65000.000000</td>\n",
       "      <td>176.000000</td>\n",
       "      <td>34.000000</td>\n",
       "      <td>0.000000</td>\n",
       "      <td>1.000000</td>\n",
       "      <td>617.000000</td>\n",
       "    </tr>\n",
       "    <tr>\n",
       "      <th>25%</th>\n",
       "      <td>1.058259e+08</td>\n",
       "      <td>106250.000000</td>\n",
       "      <td>1447.750000</td>\n",
       "      <td>58.000000</td>\n",
       "      <td>2.000000</td>\n",
       "      <td>1.000000</td>\n",
       "      <td>750.250000</td>\n",
       "    </tr>\n",
       "    <tr>\n",
       "      <th>50%</th>\n",
       "      <td>1.064768e+08</td>\n",
       "      <td>125000.000000</td>\n",
       "      <td>1776.500000</td>\n",
       "      <td>67.500000</td>\n",
       "      <td>2.000000</td>\n",
       "      <td>1.000000</td>\n",
       "      <td>812.000000</td>\n",
       "    </tr>\n",
       "    <tr>\n",
       "      <th>75%</th>\n",
       "      <td>1.068621e+08</td>\n",
       "      <td>139000.000000</td>\n",
       "      <td>2078.500000</td>\n",
       "      <td>81.000000</td>\n",
       "      <td>3.000000</td>\n",
       "      <td>1.000000</td>\n",
       "      <td>899.750000</td>\n",
       "    </tr>\n",
       "    <tr>\n",
       "      <th>max</th>\n",
       "      <td>1.070260e+08</td>\n",
       "      <td>150000.000000</td>\n",
       "      <td>2998.000000</td>\n",
       "      <td>850.000000</td>\n",
       "      <td>5.000000</td>\n",
       "      <td>2.000000</td>\n",
       "      <td>1334.000000</td>\n",
       "    </tr>\n",
       "  </tbody>\n",
       "</table>\n",
       "</div>"
      ],
      "text/plain": [
       "             codigo         precio  precio_por_zona     tamanio  habitaciones  \\\n",
       "count  2.660000e+02     266.000000       266.000000  266.000000    266.000000   \n",
       "mean   1.053132e+08  121159.048872      1760.169173   76.736842      2.293233   \n",
       "std    5.197263e+06   21279.516803       481.557863   54.852653      0.905180   \n",
       "min    3.511038e+07   65000.000000       176.000000   34.000000      0.000000   \n",
       "25%    1.058259e+08  106250.000000      1447.750000   58.000000      2.000000   \n",
       "50%    1.064768e+08  125000.000000      1776.500000   67.500000      2.000000   \n",
       "75%    1.068621e+08  139000.000000      2078.500000   81.000000      3.000000   \n",
       "max    1.070260e+08  150000.000000      2998.000000  850.000000      5.000000   \n",
       "\n",
       "           banios  alquiler_predicho  \n",
       "count  266.000000         266.000000  \n",
       "mean     1.078947         838.375940  \n",
       "std      0.270165         125.886418  \n",
       "min      1.000000         617.000000  \n",
       "25%      1.000000         750.250000  \n",
       "50%      1.000000         812.000000  \n",
       "75%      1.000000         899.750000  \n",
       "max      2.000000        1334.000000  "
      ]
     },
     "execution_count": 10,
     "metadata": {},
     "output_type": "execute_result"
    }
   ],
   "source": [
    "gdf.describe()"
   ]
  },
  {
   "cell_type": "code",
   "execution_count": 11,
   "metadata": {},
   "outputs": [
    {
     "data": {
      "application/vnd.jupyter.widget-view+json": {
       "model_id": "e0db45db3d65470e80870613b2a103ff",
       "version_major": 2,
       "version_minor": 0
      },
      "text/plain": [
       "Procesando lotes:   0%|          | 0/89 [00:00<?, ?it/s]"
      ]
     },
     "metadata": {},
     "output_type": "display_data"
    },
    {
     "name": "stdout",
     "output_type": "stream",
     "text": [
      "Error procesando lote: invalid syntax (<string>, line 1)\n",
      "Error procesando lote: invalid syntax (<string>, line 1)\n",
      "Error procesando lote: invalid syntax (<string>, line 1)\n",
      "Error procesando lote: invalid syntax (<string>, line 1)\n",
      "Error procesando lote: invalid syntax (<string>, line 1)\n"
     ]
    }
   ],
   "source": [
    "df_scoring, resultados = ss.analizar_propiedades(gdf, batch=3)"
   ]
  },
  {
   "cell_type": "code",
   "execution_count": 13,
   "metadata": {},
   "outputs": [
    {
     "data": {
      "text/html": [
       "<div>\n",
       "<style scoped>\n",
       "    .dataframe tbody tr th:only-of-type {\n",
       "        vertical-align: middle;\n",
       "    }\n",
       "\n",
       "    .dataframe tbody tr th {\n",
       "        vertical-align: top;\n",
       "    }\n",
       "\n",
       "    .dataframe thead th {\n",
       "        text-align: right;\n",
       "    }\n",
       "</style>\n",
       "<table border=\"1\" class=\"dataframe\">\n",
       "  <thead>\n",
       "    <tr style=\"text-align: right;\">\n",
       "      <th></th>\n",
       "      <th>codigo</th>\n",
       "      <th>precio</th>\n",
       "      <th>precio_por_zona</th>\n",
       "      <th>tipo</th>\n",
       "      <th>exterior</th>\n",
       "      <th>planta</th>\n",
       "      <th>ascensor</th>\n",
       "      <th>tamanio</th>\n",
       "      <th>habitaciones</th>\n",
       "      <th>banios</th>\n",
       "      <th>aire_acondicionado</th>\n",
       "      <th>trastero</th>\n",
       "      <th>terraza</th>\n",
       "      <th>patio</th>\n",
       "      <th>parking</th>\n",
       "      <th>estado</th>\n",
       "      <th>direccion</th>\n",
       "      <th>descripcion</th>\n",
       "      <th>anunciante</th>\n",
       "      <th>contacto</th>\n",
       "      <th>urls_imagenes</th>\n",
       "      <th>distrito</th>\n",
       "      <th>geometry</th>\n",
       "      <th>alquiler_predicho</th>\n",
       "      <th>url_cocina</th>\n",
       "      <th>url_banio</th>\n",
       "      <th>puntuacion_cocina</th>\n",
       "      <th>puntuacion_banio</th>\n",
       "      <th>mts_cocina</th>\n",
       "      <th>mts_banio</th>\n",
       "    </tr>\n",
       "  </thead>\n",
       "  <tbody>\n",
       "    <tr>\n",
       "      <th>0</th>\n",
       "      <td>104792745</td>\n",
       "      <td>149900.0</td>\n",
       "      <td>1180.0</td>\n",
       "      <td>piso</td>\n",
       "      <td>True</td>\n",
       "      <td>4</td>\n",
       "      <td>True</td>\n",
       "      <td>127.0</td>\n",
       "      <td>3</td>\n",
       "      <td>2</td>\n",
       "      <td>False</td>\n",
       "      <td>False</td>\n",
       "      <td>False</td>\n",
       "      <td>True</td>\n",
       "      <td>True</td>\n",
       "      <td>good</td>\n",
       "      <td>carretera de Huesca, 21</td>\n",
       "      <td>Junto a la Academia General Militar, en carret...</td>\n",
       "      <td>Fincas Ruiz, Jose</td>\n",
       "      <td>876 21 08 84</td>\n",
       "      <td>['https://img4.idealista.com/blur/WEB_LISTING-...</td>\n",
       "      <td>Distrito Rural</td>\n",
       "      <td>POINT (-0.86935 41.6973)</td>\n",
       "      <td>1180.0</td>\n",
       "      <td>https://img4.idealista.com/blur/WEB_LISTING-M/...</td>\n",
       "      <td>https://img4.idealista.com/blur/WEB_LISTING-M/...</td>\n",
       "      <td>4</td>\n",
       "      <td>5</td>\n",
       "      <td>12</td>\n",
       "      <td>5</td>\n",
       "    </tr>\n",
       "    <tr>\n",
       "      <th>1</th>\n",
       "      <td>106086132</td>\n",
       "      <td>139900.0</td>\n",
       "      <td>1686.0</td>\n",
       "      <td>piso</td>\n",
       "      <td>True</td>\n",
       "      <td>3</td>\n",
       "      <td>True</td>\n",
       "      <td>83.0</td>\n",
       "      <td>2</td>\n",
       "      <td>1</td>\n",
       "      <td>False</td>\n",
       "      <td>False</td>\n",
       "      <td>True</td>\n",
       "      <td>False</td>\n",
       "      <td>False</td>\n",
       "      <td>good</td>\n",
       "      <td>calle de Portugal</td>\n",
       "      <td>Financiación hipoteca 100% ¡oportunidad única ...</td>\n",
       "      <td>Ciz Inmobiliaria, CIZ</td>\n",
       "      <td>876 21 02 72</td>\n",
       "      <td>['https://img4.idealista.com/blur/WEB_LISTING-...</td>\n",
       "      <td>Delicias</td>\n",
       "      <td>POINT (-0.90232 41.65202)</td>\n",
       "      <td>761.0</td>\n",
       "      <td>https://img4.idealista.com/blur/WEB_LISTING-M/...</td>\n",
       "      <td>https://img4.idealista.com/blur/WEB_LISTING-M/...</td>\n",
       "      <td>4</td>\n",
       "      <td>4</td>\n",
       "      <td>10</td>\n",
       "      <td>5</td>\n",
       "    </tr>\n",
       "    <tr>\n",
       "      <th>2</th>\n",
       "      <td>105844791</td>\n",
       "      <td>149900.0</td>\n",
       "      <td>1162.0</td>\n",
       "      <td>piso</td>\n",
       "      <td>True</td>\n",
       "      <td>4</td>\n",
       "      <td>True</td>\n",
       "      <td>129.0</td>\n",
       "      <td>3</td>\n",
       "      <td>2</td>\n",
       "      <td>False</td>\n",
       "      <td>False</td>\n",
       "      <td>False</td>\n",
       "      <td>False</td>\n",
       "      <td>True</td>\n",
       "      <td>good</td>\n",
       "      <td>carretera de Huesca</td>\n",
       "      <td>Financiación hipoteca 100%. ¡oportunidad única...</td>\n",
       "      <td>Ciz Inmobiliaria, CIZ</td>\n",
       "      <td>876 21 02 72</td>\n",
       "      <td>['https://img4.idealista.com/blur/WEB_LISTING-...</td>\n",
       "      <td>Distrito Rural</td>\n",
       "      <td>POINT (-0.87 41.69848)</td>\n",
       "      <td>1186.0</td>\n",
       "      <td>https://img4.idealista.com/blur/WEB_LISTING-M/...</td>\n",
       "      <td>https://img4.idealista.com/blur/WEB_LISTING-M/...</td>\n",
       "      <td>4</td>\n",
       "      <td>4</td>\n",
       "      <td>12</td>\n",
       "      <td>5</td>\n",
       "    </tr>\n",
       "    <tr>\n",
       "      <th>3</th>\n",
       "      <td>105947628</td>\n",
       "      <td>145000.0</td>\n",
       "      <td>2164.0</td>\n",
       "      <td>piso</td>\n",
       "      <td>True</td>\n",
       "      <td>3</td>\n",
       "      <td>True</td>\n",
       "      <td>67.0</td>\n",
       "      <td>3</td>\n",
       "      <td>1</td>\n",
       "      <td>False</td>\n",
       "      <td>False</td>\n",
       "      <td>False</td>\n",
       "      <td>False</td>\n",
       "      <td>False</td>\n",
       "      <td>good</td>\n",
       "      <td>calle del Monasterio de Solesmes</td>\n",
       "      <td>\" VIVIENDA CON REFORMA A ESTRENAR EN CALLE TRA...</td>\n",
       "      <td>Fincas Ruiz, Pilar Tirapo</td>\n",
       "      <td>876 21 04 93</td>\n",
       "      <td>['https://img4.idealista.com/blur/WEB_LISTING-...</td>\n",
       "      <td>Las Fuentes</td>\n",
       "      <td>POINT (-0.85989 41.64311)</td>\n",
       "      <td>798.0</td>\n",
       "      <td>https://img4.idealista.com/blur/WEB_LISTING-M/...</td>\n",
       "      <td>https://img4.idealista.com/blur/WEB_LISTING-M/...</td>\n",
       "      <td>4</td>\n",
       "      <td>5</td>\n",
       "      <td>12</td>\n",
       "      <td>3</td>\n",
       "    </tr>\n",
       "    <tr>\n",
       "      <th>4</th>\n",
       "      <td>106889524</td>\n",
       "      <td>125000.0</td>\n",
       "      <td>1984.0</td>\n",
       "      <td>piso</td>\n",
       "      <td>False</td>\n",
       "      <td>7</td>\n",
       "      <td>True</td>\n",
       "      <td>63.0</td>\n",
       "      <td>2</td>\n",
       "      <td>1</td>\n",
       "      <td>False</td>\n",
       "      <td>False</td>\n",
       "      <td>True</td>\n",
       "      <td>False</td>\n",
       "      <td>False</td>\n",
       "      <td>good</td>\n",
       "      <td>calle de Alonso V</td>\n",
       "      <td>\"VIVIENDA EN EL CENTRO EN LA CALLE ALONSO V, C...</td>\n",
       "      <td>Fincas Ruiz, Fincas Ruiz</td>\n",
       "      <td>876 21 04 93</td>\n",
       "      <td>['https://img4.idealista.com/blur/WEB_LISTING-...</td>\n",
       "      <td>Casco Histórico</td>\n",
       "      <td>POINT (-0.87231 41.65146)</td>\n",
       "      <td>889.0</td>\n",
       "      <td>https://img4.idealista.com/blur/WEB_LISTING-M/...</td>\n",
       "      <td>https://img4.idealista.com/blur/WEB_LISTING-M/...</td>\n",
       "      <td>2</td>\n",
       "      <td>3</td>\n",
       "      <td>14</td>\n",
       "      <td>5</td>\n",
       "    </tr>\n",
       "  </tbody>\n",
       "</table>\n",
       "</div>"
      ],
      "text/plain": [
       "      codigo    precio  precio_por_zona  tipo exterior planta ascensor  \\\n",
       "0  104792745  149900.0           1180.0  piso     True      4     True   \n",
       "1  106086132  139900.0           1686.0  piso     True      3     True   \n",
       "2  105844791  149900.0           1162.0  piso     True      4     True   \n",
       "3  105947628  145000.0           2164.0  piso     True      3     True   \n",
       "4  106889524  125000.0           1984.0  piso    False      7     True   \n",
       "\n",
       "   tamanio  habitaciones  banios aire_acondicionado trastero terraza  patio  \\\n",
       "0    127.0             3       2              False    False   False   True   \n",
       "1     83.0             2       1              False    False    True  False   \n",
       "2    129.0             3       2              False    False   False  False   \n",
       "3     67.0             3       1              False    False   False  False   \n",
       "4     63.0             2       1              False    False    True  False   \n",
       "\n",
       "   parking estado                         direccion  \\\n",
       "0     True   good           carretera de Huesca, 21   \n",
       "1    False   good                 calle de Portugal   \n",
       "2     True   good               carretera de Huesca   \n",
       "3    False   good  calle del Monasterio de Solesmes   \n",
       "4    False   good                 calle de Alonso V   \n",
       "\n",
       "                                         descripcion  \\\n",
       "0  Junto a la Academia General Militar, en carret...   \n",
       "1  Financiación hipoteca 100% ¡oportunidad única ...   \n",
       "2  Financiación hipoteca 100%. ¡oportunidad única...   \n",
       "3  \" VIVIENDA CON REFORMA A ESTRENAR EN CALLE TRA...   \n",
       "4  \"VIVIENDA EN EL CENTRO EN LA CALLE ALONSO V, C...   \n",
       "\n",
       "                  anunciante      contacto  \\\n",
       "0          Fincas Ruiz, Jose  876 21 08 84   \n",
       "1      Ciz Inmobiliaria, CIZ  876 21 02 72   \n",
       "2      Ciz Inmobiliaria, CIZ  876 21 02 72   \n",
       "3  Fincas Ruiz, Pilar Tirapo  876 21 04 93   \n",
       "4   Fincas Ruiz, Fincas Ruiz  876 21 04 93   \n",
       "\n",
       "                                       urls_imagenes         distrito  \\\n",
       "0  ['https://img4.idealista.com/blur/WEB_LISTING-...   Distrito Rural   \n",
       "1  ['https://img4.idealista.com/blur/WEB_LISTING-...         Delicias   \n",
       "2  ['https://img4.idealista.com/blur/WEB_LISTING-...   Distrito Rural   \n",
       "3  ['https://img4.idealista.com/blur/WEB_LISTING-...      Las Fuentes   \n",
       "4  ['https://img4.idealista.com/blur/WEB_LISTING-...  Casco Histórico   \n",
       "\n",
       "                    geometry  alquiler_predicho  \\\n",
       "0   POINT (-0.86935 41.6973)             1180.0   \n",
       "1  POINT (-0.90232 41.65202)              761.0   \n",
       "2     POINT (-0.87 41.69848)             1186.0   \n",
       "3  POINT (-0.85989 41.64311)              798.0   \n",
       "4  POINT (-0.87231 41.65146)              889.0   \n",
       "\n",
       "                                          url_cocina  \\\n",
       "0  https://img4.idealista.com/blur/WEB_LISTING-M/...   \n",
       "1  https://img4.idealista.com/blur/WEB_LISTING-M/...   \n",
       "2  https://img4.idealista.com/blur/WEB_LISTING-M/...   \n",
       "3  https://img4.idealista.com/blur/WEB_LISTING-M/...   \n",
       "4  https://img4.idealista.com/blur/WEB_LISTING-M/...   \n",
       "\n",
       "                                           url_banio puntuacion_cocina  \\\n",
       "0  https://img4.idealista.com/blur/WEB_LISTING-M/...                 4   \n",
       "1  https://img4.idealista.com/blur/WEB_LISTING-M/...                 4   \n",
       "2  https://img4.idealista.com/blur/WEB_LISTING-M/...                 4   \n",
       "3  https://img4.idealista.com/blur/WEB_LISTING-M/...                 4   \n",
       "4  https://img4.idealista.com/blur/WEB_LISTING-M/...                 2   \n",
       "\n",
       "  puntuacion_banio mts_cocina mts_banio  \n",
       "0                5         12         5  \n",
       "1                4         10         5  \n",
       "2                4         12         5  \n",
       "3                5         12         3  \n",
       "4                3         14         5  "
      ]
     },
     "execution_count": 13,
     "metadata": {},
     "output_type": "execute_result"
    }
   ],
   "source": [
    "df_scoring.head(5)"
   ]
  },
  {
   "cell_type": "code",
   "execution_count": 16,
   "metadata": {},
   "outputs": [
    {
     "name": "stdout",
     "output_type": "stream",
     "text": [
      "GeoDataFrame subido a la colección: ventafinal\n"
     ]
    }
   ],
   "source": [
    "sm.eliminar_coleccion(bd, 'ventafinal')\n",
    "sm.subir_geodataframe_a_mongo(bd, df_scoring, 'ventafinal')"
   ]
  },
  {
   "cell_type": "code",
   "execution_count": 5,
   "metadata": {},
   "outputs": [
    {
     "data": {
      "text/plain": [
       "278"
      ]
     },
     "execution_count": 5,
     "metadata": {},
     "output_type": "execute_result"
    }
   ],
   "source": [
    "df_importado = pd.read_pickle(\"../data/transformed/final_tags.pkl\")\n",
    "df_importado.shape[0]"
   ]
  }
 ],
 "metadata": {
  "kernelspec": {
   "display_name": "Python 3",
   "language": "python",
   "name": "python3"
  },
  "language_info": {
   "codemirror_mode": {
    "name": "ipython",
    "version": 3
   },
   "file_extension": ".py",
   "mimetype": "text/x-python",
   "name": "python",
   "nbconvert_exporter": "python",
   "pygments_lexer": "ipython3",
   "version": "3.9.6"
  }
 },
 "nbformat": 4,
 "nbformat_minor": 2
}
