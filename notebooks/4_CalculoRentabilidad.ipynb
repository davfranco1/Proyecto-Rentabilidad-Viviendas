{
 "cells": [
  {
   "cell_type": "code",
   "execution_count": 1,
   "metadata": {},
   "outputs": [],
   "source": [
    "%load_ext autoreload\n",
    "%autoreload 2\n",
    "\n",
    "# Tratamiento de datos\n",
    "# -----------------------------------------------------------------------\n",
    "import pandas as pd\n",
    "import geopandas as gpd\n",
    "import numpy as np\n",
    "import pickle\n",
    "pd.set_option('display.max_columns', None) # para poder visualizar todas las columnas de los DataFrames\n",
    "\n",
    "# Ignorar los warnings\n",
    "# -----------------------------------------------------------------------\n",
    "import warnings\n",
    "warnings.filterwarnings('ignore')\n",
    "\n",
    "# Librería para el acceso a variables y funciones\n",
    "# -----------------------------------------------------------------------\n",
    "import sys\n",
    "sys.path.append(\"../\")\n",
    "from src import soporte_rentabilidad as sr"
   ]
  },
  {
   "cell_type": "code",
   "execution_count": 117,
   "metadata": {},
   "outputs": [
    {
     "name": "stderr",
     "output_type": "stream",
     "text": [
      "Skipping field urls_imagenes: unsupported OGR type: 5\n"
     ]
    }
   ],
   "source": [
    "data = gpd.read_file(\"../data/transformed/final_sale.geojson\")\n",
    "\n",
    "with open(\"../transformers/scaler.pkl\", \"rb\") as f:\n",
    "    scaler = pickle.load(f)\n",
    "\n",
    "with open(\"../transformers/target_encoder.pkl\", \"rb\") as f:\n",
    "    encoder = pickle.load(f)\n",
    "\n",
    "with open(\"../transformers/model.pkl\", \"rb\") as f:\n",
    "    model = pickle.load(f)\n",
    "\n",
    "features = data[['tipo', 'exterior', 'planta', 'ascensor', 'tamanio',\n",
    "                 'habitaciones', 'banios', 'aire_acondicionado', 'trastero',\n",
    "                 'terraza', 'patio', 'distrito']]\n",
    "\n",
    "df_encoded = encoder.transform(features)\n",
    "\n",
    "dicc_sust_planta = {\n",
    "    'st': -3, \n",
    "    'ss': -2,\n",
    "    'bj': -1,\n",
    "    'en': 0.5, \n",
    "    'ND': 0\n",
    "}\n",
    "\n",
    "df_encoded['planta'] = features['planta'].map(dicc_sust_planta).fillna(features['planta'])\n",
    "\n",
    "lista_col_bools = [\"ascensor\", \"exterior\", \"aire_acondicionado\", \"trastero\", \"terraza\", \"patio\"]\n",
    "\n",
    "for columna in lista_col_bools:\n",
    "    df_encoded[columna] = features[columna].fillna('ND').astype(str).replace({\"True\": 1, \"False\": -1, \"ND\": 0})\n",
    "\n",
    "df_encoded['tamanio'] = scaler.transform(features[['tamanio']])\n",
    "\n",
    "data[\"alquiler_predicho\"] = model.predict(df_encoded)"
   ]
  },
  {
   "cell_type": "code",
   "execution_count": 118,
   "metadata": {},
   "outputs": [
    {
     "data": {
      "text/html": [
       "<div>\n",
       "<style scoped>\n",
       "    .dataframe tbody tr th:only-of-type {\n",
       "        vertical-align: middle;\n",
       "    }\n",
       "\n",
       "    .dataframe tbody tr th {\n",
       "        vertical-align: top;\n",
       "    }\n",
       "\n",
       "    .dataframe thead th {\n",
       "        text-align: right;\n",
       "    }\n",
       "</style>\n",
       "<table border=\"1\" class=\"dataframe\">\n",
       "  <thead>\n",
       "    <tr style=\"text-align: right;\">\n",
       "      <th></th>\n",
       "      <th>codigo</th>\n",
       "      <th>precio</th>\n",
       "      <th>precio_por_zona</th>\n",
       "      <th>tipo</th>\n",
       "      <th>exterior</th>\n",
       "      <th>planta</th>\n",
       "      <th>ascensor</th>\n",
       "      <th>tamanio</th>\n",
       "      <th>habitaciones</th>\n",
       "      <th>banios</th>\n",
       "      <th>aire_acondicionado</th>\n",
       "      <th>trastero</th>\n",
       "      <th>terraza</th>\n",
       "      <th>patio</th>\n",
       "      <th>estado</th>\n",
       "      <th>direccion</th>\n",
       "      <th>descripcion</th>\n",
       "      <th>anunciante</th>\n",
       "      <th>contacto</th>\n",
       "      <th>distrito</th>\n",
       "      <th>geometry</th>\n",
       "      <th>alquiler_predicho</th>\n",
       "    </tr>\n",
       "  </thead>\n",
       "  <tbody>\n",
       "    <tr>\n",
       "      <th>0</th>\n",
       "      <td>104792745</td>\n",
       "      <td>149900.0</td>\n",
       "      <td>1180.0</td>\n",
       "      <td>piso</td>\n",
       "      <td>True</td>\n",
       "      <td>4</td>\n",
       "      <td>True</td>\n",
       "      <td>127.0</td>\n",
       "      <td>3</td>\n",
       "      <td>2</td>\n",
       "      <td>False</td>\n",
       "      <td>False</td>\n",
       "      <td>False</td>\n",
       "      <td>True</td>\n",
       "      <td>good</td>\n",
       "      <td>carretera de Huesca, 21</td>\n",
       "      <td>Junto a la Academia General Militar, en carret...</td>\n",
       "      <td>FINCAS RUIZ</td>\n",
       "      <td>876210884</td>\n",
       "      <td>Distrito Rural</td>\n",
       "      <td>POINT (-0.86935 41.6973)</td>\n",
       "      <td>1180.285</td>\n",
       "    </tr>\n",
       "  </tbody>\n",
       "</table>\n",
       "</div>"
      ],
      "text/plain": [
       "      codigo    precio  precio_por_zona  tipo exterior planta ascensor  \\\n",
       "0  104792745  149900.0           1180.0  piso     True      4     True   \n",
       "\n",
       "   tamanio  habitaciones  banios aire_acondicionado trastero terraza patio  \\\n",
       "0    127.0             3       2              False    False   False  True   \n",
       "\n",
       "  estado                direccion  \\\n",
       "0   good  carretera de Huesca, 21   \n",
       "\n",
       "                                         descripcion   anunciante   contacto  \\\n",
       "0  Junto a la Academia General Militar, en carret...  FINCAS RUIZ  876210884   \n",
       "\n",
       "         distrito                  geometry  alquiler_predicho  \n",
       "0  Distrito Rural  POINT (-0.86935 41.6973)           1180.285  "
      ]
     },
     "execution_count": 118,
     "metadata": {},
     "output_type": "execute_result"
    }
   ],
   "source": [
    "data.head(1)"
   ]
  },
  {
   "cell_type": "code",
   "execution_count": 119,
   "metadata": {},
   "outputs": [],
   "source": [
    "data.to_file(\"prueba.geojson\", driver=\"GeoJSON\")"
   ]
  }
 ],
 "metadata": {
  "kernelspec": {
   "display_name": "Python 3",
   "language": "python",
   "name": "python3"
  },
  "language_info": {
   "codemirror_mode": {
    "name": "ipython",
    "version": 3
   },
   "file_extension": ".py",
   "mimetype": "text/x-python",
   "name": "python",
   "nbconvert_exporter": "python",
   "pygments_lexer": "ipython3",
   "version": "3.9.6"
  }
 },
 "nbformat": 4,
 "nbformat_minor": 2
}
