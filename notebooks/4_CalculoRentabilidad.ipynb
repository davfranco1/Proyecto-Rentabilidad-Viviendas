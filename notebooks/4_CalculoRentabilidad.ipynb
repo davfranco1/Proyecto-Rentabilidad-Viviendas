{
 "cells": [
  {
   "cell_type": "code",
   "execution_count": 127,
   "metadata": {},
   "outputs": [
    {
     "name": "stdout",
     "output_type": "stream",
     "text": [
      "The autoreload extension is already loaded. To reload it, use:\n",
      "  %reload_ext autoreload\n",
      "Downloading https://github.com/ultralytics/assets/releases/download/v8.3.0/yolov8n.pt to 'yolov8n.pt'...\n"
     ]
    },
    {
     "name": "stderr",
     "output_type": "stream",
     "text": [
      "100%|██████████| 6.25M/6.25M [00:00<00:00, 32.7MB/s]\n"
     ]
    }
   ],
   "source": [
    "%load_ext autoreload\n",
    "%autoreload 2\n",
    "\n",
    "# Tratamiento de datos\n",
    "# -----------------------------------------------------------------------\n",
    "import pandas as pd\n",
    "import geopandas as gpd\n",
    "import numpy as np\n",
    "import pickle\n",
    "pd.set_option('display.max_columns', None) # para poder visualizar todas las columnas de los dfFrames\n",
    "\n",
    "from tqdm import tqdm\n",
    "\n",
    "# Ignorar los warnings\n",
    "# -----------------------------------------------------------------------\n",
    "import warnings\n",
    "warnings.filterwarnings('ignore')\n",
    "\n",
    "# Librería para el acceso a variables y funciones\n",
    "# -----------------------------------------------------------------------\n",
    "import sys\n",
    "sys.path.append(\"../\")\n",
    "from src import soporte_rentabilidad as sr\n",
    "from src import soporte_yolo as sy"
   ]
  },
  {
   "cell_type": "code",
   "execution_count": 163,
   "metadata": {},
   "outputs": [
    {
     "data": {
      "text/plain": [
       "['tipo',\n",
       " 'exterior',\n",
       " 'planta',\n",
       " 'ascensor',\n",
       " 'tamanio',\n",
       " 'habitaciones',\n",
       " 'banios',\n",
       " 'aire_acondicionado',\n",
       " 'trastero',\n",
       " 'terraza',\n",
       " 'patio',\n",
       " 'distrito']"
      ]
     },
     "execution_count": 163,
     "metadata": {},
     "output_type": "execute_result"
    }
   ],
   "source": [
    "list(encoder.get_feature_names())"
   ]
  },
  {
   "cell_type": "code",
   "execution_count": 164,
   "metadata": {},
   "outputs": [],
   "source": [
    "paths_transformers = [\"../transformers/target_encoder.pkl\", \"../transformers/scaler.pkl\", \"../transformers/model.pkl\"]\n",
    "df = sr.predecir_alquiler(\"../data/transformed/final_sale.pkl\", paths_transformers)"
   ]
  },
  {
   "cell_type": "code",
   "execution_count": 165,
   "metadata": {},
   "outputs": [
    {
     "data": {
      "text/html": [
       "<div>\n",
       "<style scoped>\n",
       "    .dataframe tbody tr th:only-of-type {\n",
       "        vertical-align: middle;\n",
       "    }\n",
       "\n",
       "    .dataframe tbody tr th {\n",
       "        vertical-align: top;\n",
       "    }\n",
       "\n",
       "    .dataframe thead th {\n",
       "        text-align: right;\n",
       "    }\n",
       "</style>\n",
       "<table border=\"1\" class=\"dataframe\">\n",
       "  <thead>\n",
       "    <tr style=\"text-align: right;\">\n",
       "      <th></th>\n",
       "      <th>codigo</th>\n",
       "      <th>precio</th>\n",
       "      <th>precio_por_zona</th>\n",
       "      <th>tipo</th>\n",
       "      <th>exterior</th>\n",
       "      <th>planta</th>\n",
       "      <th>ascensor</th>\n",
       "      <th>tamanio</th>\n",
       "      <th>habitaciones</th>\n",
       "      <th>banios</th>\n",
       "      <th>aire_acondicionado</th>\n",
       "      <th>trastero</th>\n",
       "      <th>terraza</th>\n",
       "      <th>patio</th>\n",
       "      <th>estado</th>\n",
       "      <th>direccion</th>\n",
       "      <th>descripcion</th>\n",
       "      <th>anunciante</th>\n",
       "      <th>contacto</th>\n",
       "      <th>urls_imagenes</th>\n",
       "      <th>geometry</th>\n",
       "      <th>distrito</th>\n",
       "      <th>alquiler_predicho</th>\n",
       "    </tr>\n",
       "  </thead>\n",
       "  <tbody>\n",
       "    <tr>\n",
       "      <th>0</th>\n",
       "      <td>104792745</td>\n",
       "      <td>149900.0</td>\n",
       "      <td>1180.0</td>\n",
       "      <td>piso</td>\n",
       "      <td>True</td>\n",
       "      <td>4</td>\n",
       "      <td>True</td>\n",
       "      <td>127.0</td>\n",
       "      <td>3</td>\n",
       "      <td>2</td>\n",
       "      <td>False</td>\n",
       "      <td>False</td>\n",
       "      <td>False</td>\n",
       "      <td>True</td>\n",
       "      <td>good</td>\n",
       "      <td>carretera de Huesca, 21</td>\n",
       "      <td>Junto a la Academia General Militar, en carret...</td>\n",
       "      <td>FINCAS RUIZ</td>\n",
       "      <td>876210884</td>\n",
       "      <td>['https://img4.idealista.com/blur/WEB_LISTING-...</td>\n",
       "      <td>POINT (-0.86935 41.6973)</td>\n",
       "      <td>Distrito Rural</td>\n",
       "      <td>1180.285</td>\n",
       "    </tr>\n",
       "  </tbody>\n",
       "</table>\n",
       "</div>"
      ],
      "text/plain": [
       "      codigo    precio  precio_por_zona  tipo exterior planta ascensor  \\\n",
       "0  104792745  149900.0           1180.0  piso     True      4     True   \n",
       "\n",
       "   tamanio  habitaciones  banios aire_acondicionado trastero terraza patio  \\\n",
       "0    127.0             3       2              False    False   False  True   \n",
       "\n",
       "  estado                direccion  \\\n",
       "0   good  carretera de Huesca, 21   \n",
       "\n",
       "                                         descripcion   anunciante   contacto  \\\n",
       "0  Junto a la Academia General Militar, en carret...  FINCAS RUIZ  876210884   \n",
       "\n",
       "                                       urls_imagenes  \\\n",
       "0  ['https://img4.idealista.com/blur/WEB_LISTING-...   \n",
       "\n",
       "                   geometry        distrito  alquiler_predicho  \n",
       "0  POINT (-0.86935 41.6973)  Distrito Rural           1180.285  "
      ]
     },
     "execution_count": 165,
     "metadata": {},
     "output_type": "execute_result"
    }
   ],
   "source": [
    "df.head(1)"
   ]
  },
  {
   "cell_type": "code",
   "execution_count": 174,
   "metadata": {},
   "outputs": [
    {
     "name": "stderr",
     "output_type": "stream",
     "text": [
      "100%|██████████| 365/365 [08:48<00:00,  1.45s/it]\n"
     ]
    },
    {
     "name": "stdout",
     "output_type": "stream",
     "text": [
      "Se han eliminado 93 filas, donde 'url_cocina' o 'url_banio' son None o NaN.\n"
     ]
    }
   ],
   "source": [
    "df = sy.identificar_urls_habitaciones(df, 'urls_imagenes')"
   ]
  },
  {
   "cell_type": "code",
   "execution_count": 175,
   "metadata": {},
   "outputs": [
    {
     "data": {
      "text/html": [
       "<div>\n",
       "<style scoped>\n",
       "    .dataframe tbody tr th:only-of-type {\n",
       "        vertical-align: middle;\n",
       "    }\n",
       "\n",
       "    .dataframe tbody tr th {\n",
       "        vertical-align: top;\n",
       "    }\n",
       "\n",
       "    .dataframe thead th {\n",
       "        text-align: right;\n",
       "    }\n",
       "</style>\n",
       "<table border=\"1\" class=\"dataframe\">\n",
       "  <thead>\n",
       "    <tr style=\"text-align: right;\">\n",
       "      <th></th>\n",
       "      <th>codigo</th>\n",
       "      <th>precio</th>\n",
       "      <th>precio_por_zona</th>\n",
       "      <th>tipo</th>\n",
       "      <th>exterior</th>\n",
       "      <th>planta</th>\n",
       "      <th>ascensor</th>\n",
       "      <th>tamanio</th>\n",
       "      <th>habitaciones</th>\n",
       "      <th>banios</th>\n",
       "      <th>aire_acondicionado</th>\n",
       "      <th>trastero</th>\n",
       "      <th>terraza</th>\n",
       "      <th>patio</th>\n",
       "      <th>estado</th>\n",
       "      <th>direccion</th>\n",
       "      <th>descripcion</th>\n",
       "      <th>anunciante</th>\n",
       "      <th>contacto</th>\n",
       "      <th>urls_imagenes</th>\n",
       "      <th>geometry</th>\n",
       "      <th>distrito</th>\n",
       "      <th>alquiler_predicho</th>\n",
       "      <th>url_cocina</th>\n",
       "      <th>url_banio</th>\n",
       "    </tr>\n",
       "  </thead>\n",
       "  <tbody>\n",
       "    <tr>\n",
       "      <th>0</th>\n",
       "      <td>104792745</td>\n",
       "      <td>149900.0</td>\n",
       "      <td>1180.0</td>\n",
       "      <td>piso</td>\n",
       "      <td>True</td>\n",
       "      <td>4</td>\n",
       "      <td>True</td>\n",
       "      <td>127.0</td>\n",
       "      <td>3</td>\n",
       "      <td>2</td>\n",
       "      <td>False</td>\n",
       "      <td>False</td>\n",
       "      <td>False</td>\n",
       "      <td>True</td>\n",
       "      <td>good</td>\n",
       "      <td>carretera de Huesca, 21</td>\n",
       "      <td>Junto a la Academia General Militar, en carret...</td>\n",
       "      <td>FINCAS RUIZ</td>\n",
       "      <td>876210884</td>\n",
       "      <td>['https://img4.idealista.com/blur/WEB_LISTING-...</td>\n",
       "      <td>POINT (-0.86935 41.6973)</td>\n",
       "      <td>Distrito Rural</td>\n",
       "      <td>1180.285</td>\n",
       "      <td>https://img4.idealista.com/blur/WEB_LISTING-M/...</td>\n",
       "      <td>https://img4.idealista.com/blur/WEB_LISTING-M/...</td>\n",
       "    </tr>\n",
       "  </tbody>\n",
       "</table>\n",
       "</div>"
      ],
      "text/plain": [
       "      codigo    precio  precio_por_zona  tipo exterior planta ascensor  \\\n",
       "0  104792745  149900.0           1180.0  piso     True      4     True   \n",
       "\n",
       "   tamanio  habitaciones  banios aire_acondicionado trastero terraza patio  \\\n",
       "0    127.0             3       2              False    False   False  True   \n",
       "\n",
       "  estado                direccion  \\\n",
       "0   good  carretera de Huesca, 21   \n",
       "\n",
       "                                         descripcion   anunciante   contacto  \\\n",
       "0  Junto a la Academia General Militar, en carret...  FINCAS RUIZ  876210884   \n",
       "\n",
       "                                       urls_imagenes  \\\n",
       "0  ['https://img4.idealista.com/blur/WEB_LISTING-...   \n",
       "\n",
       "                   geometry        distrito  alquiler_predicho  \\\n",
       "0  POINT (-0.86935 41.6973)  Distrito Rural           1180.285   \n",
       "\n",
       "                                          url_cocina  \\\n",
       "0  https://img4.idealista.com/blur/WEB_LISTING-M/...   \n",
       "\n",
       "                                           url_banio  \n",
       "0  https://img4.idealista.com/blur/WEB_LISTING-M/...  "
      ]
     },
     "execution_count": 175,
     "metadata": {},
     "output_type": "execute_result"
    }
   ],
   "source": [
    "df.head(1)"
   ]
  }
 ],
 "metadata": {
  "kernelspec": {
   "display_name": "Python 3",
   "language": "python",
   "name": "python3"
  },
  "language_info": {
   "codemirror_mode": {
    "name": "ipython",
    "version": 3
   },
   "file_extension": ".py",
   "mimetype": "text/x-python",
   "name": "python",
   "nbconvert_exporter": "python",
   "pygments_lexer": "ipython3",
   "version": "3.9.6"
  }
 },
 "nbformat": 4,
 "nbformat_minor": 2
}
